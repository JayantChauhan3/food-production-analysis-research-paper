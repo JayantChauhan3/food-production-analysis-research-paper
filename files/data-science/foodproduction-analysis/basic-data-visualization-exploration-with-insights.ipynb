{
 "cells": [
  {
   "cell_type": "markdown",
   "metadata": {
    "papermill": {
     "duration": 0.019238,
     "end_time": "2021-03-01T15:25:13.228106",
     "exception": false,
     "start_time": "2021-03-01T15:25:13.208868",
     "status": "completed"
    },
    "tags": []
   },
   "source": [
    "This notebook contains some basic data visualization and evaluation.\n",
    "\n",
    "This is to provide a starting point for your exploration of the given datasets.  \n",
    "\n",
    "Please leave any questions/concerns in the comment section. Upvote if you find it useful."
   ]
  },
  {
   "cell_type": "code",
   "execution_count": 4,
   "metadata": {},
   "outputs": [
    {
     "name": "stdout",
     "output_type": "stream",
     "text": [
      "Requirement already satisfied: seaborn in c:\\users\\jayant chauhan\\appdata\\local\\programs\\python\\python310\\lib\\site-packages (0.11.2)\n",
      "Requirement already satisfied: scipy>=1.0 in c:\\users\\jayant chauhan\\appdata\\local\\programs\\python\\python310\\lib\\site-packages (from seaborn) (1.9.0)\n",
      "Requirement already satisfied: numpy>=1.15 in c:\\users\\jayant chauhan\\appdata\\local\\programs\\python\\python310\\lib\\site-packages (from seaborn) (1.23.1)\n",
      "Requirement already satisfied: matplotlib>=2.2 in c:\\users\\jayant chauhan\\appdata\\local\\programs\\python\\python310\\lib\\site-packages (from seaborn) (3.5.2)\n",
      "Requirement already satisfied: pandas>=0.23 in c:\\users\\jayant chauhan\\appdata\\local\\programs\\python\\python310\\lib\\site-packages (from seaborn) (1.4.3)\n",
      "Requirement already satisfied: python-dateutil>=2.7 in c:\\users\\jayant chauhan\\appdata\\local\\programs\\python\\python310\\lib\\site-packages (from matplotlib>=2.2->seaborn) (2.8.2)\n",
      "Requirement already satisfied: pillow>=6.2.0 in c:\\users\\jayant chauhan\\appdata\\local\\programs\\python\\python310\\lib\\site-packages (from matplotlib>=2.2->seaborn) (9.2.0)\n",
      "Requirement already satisfied: packaging>=20.0 in c:\\users\\jayant chauhan\\appdata\\roaming\\python\\python310\\site-packages (from matplotlib>=2.2->seaborn) (20.9)\n",
      "Requirement already satisfied: cycler>=0.10 in c:\\users\\jayant chauhan\\appdata\\local\\programs\\python\\python310\\lib\\site-packages (from matplotlib>=2.2->seaborn) (0.11.0)\n",
      "Requirement already satisfied: fonttools>=4.22.0 in c:\\users\\jayant chauhan\\appdata\\local\\programs\\python\\python310\\lib\\site-packages (from matplotlib>=2.2->seaborn) (4.34.4)\n",
      "Requirement already satisfied: kiwisolver>=1.0.1 in c:\\users\\jayant chauhan\\appdata\\local\\programs\\python\\python310\\lib\\site-packages (from matplotlib>=2.2->seaborn) (1.4.4)\n",
      "Requirement already satisfied: pyparsing>=2.2.1 in c:\\users\\jayant chauhan\\appdata\\roaming\\python\\python310\\site-packages (from matplotlib>=2.2->seaborn) (3.0.9)\n",
      "Requirement already satisfied: pytz>=2020.1 in c:\\users\\jayant chauhan\\appdata\\local\\programs\\python\\python310\\lib\\site-packages (from pandas>=0.23->seaborn) (2022.1)\n",
      "Requirement already satisfied: six>=1.5 in c:\\users\\jayant chauhan\\appdata\\roaming\\python\\python310\\site-packages (from python-dateutil>=2.7->matplotlib>=2.2->seaborn) (1.16.0)\n",
      "Note: you may need to restart the kernel to use updated packages.\n"
     ]
    }
   ],
   "source": [
    "%pip install seaborn"
   ]
  },
  {
   "cell_type": "code",
   "execution_count": 14,
   "metadata": {},
   "outputs": [
    {
     "name": "stdout",
     "output_type": "stream",
     "text": [
      "Collecting nbformat\n",
      "  Downloading nbformat-5.4.0-py3-none-any.whl (73 kB)\n",
      "     ---------------------------------------- 73.3/73.3 kB 3.9 MB/s eta 0:00:00\n",
      "Requirement already satisfied: jupyter-core in c:\\users\\jayant chauhan\\appdata\\local\\programs\\python\\python310\\lib\\site-packages (from nbformat) (4.11.1)\n",
      "Collecting jsonschema>=2.6\n",
      "  Downloading jsonschema-4.9.1-py3-none-any.whl (79 kB)\n",
      "     ---------------------------------------- 79.5/79.5 kB 4.3 MB/s eta 0:00:00\n",
      "Requirement already satisfied: traitlets>=5.1 in c:\\users\\jayant chauhan\\appdata\\local\\programs\\python\\python310\\lib\\site-packages (from nbformat) (5.3.0)\n",
      "Collecting fastjsonschema\n",
      "  Downloading fastjsonschema-2.16.1-py3-none-any.whl (22 kB)\n",
      "Collecting pyrsistent!=0.17.0,!=0.17.1,!=0.17.2,>=0.14.0\n",
      "  Downloading pyrsistent-0.18.1-cp310-cp310-win_amd64.whl (61 kB)\n",
      "     ---------------------------------------- 61.6/61.6 kB ? eta 0:00:00\n",
      "Collecting attrs>=17.4.0\n",
      "  Downloading attrs-22.1.0-py2.py3-none-any.whl (58 kB)\n",
      "     ---------------------------------------- 58.8/58.8 kB 3.0 MB/s eta 0:00:00\n",
      "Requirement already satisfied: pywin32>=1.0 in c:\\users\\jayant chauhan\\appdata\\local\\programs\\python\\python310\\lib\\site-packages (from jupyter-core->nbformat) (304)\n",
      "Installing collected packages: fastjsonschema, pyrsistent, attrs, jsonschema, nbformat\n",
      "Successfully installed attrs-22.1.0 fastjsonschema-2.16.1 jsonschema-4.9.1 nbformat-5.4.0 pyrsistent-0.18.1\n"
     ]
    }
   ],
   "source": [
    "%pip install nbformat "
   ]
  },
  {
   "cell_type": "code",
   "execution_count": 3,
   "metadata": {},
   "outputs": [
    {
     "name": "stdout",
     "output_type": "stream",
     "text": [
      "Requirement already satisfied: plotly in c:\\users\\jayant chauhan\\appdata\\local\\programs\\python\\python310\\lib\\site-packages (5.9.0)\n",
      "Requirement already satisfied: tenacity>=6.2.0 in c:\\users\\jayant chauhan\\appdata\\local\\programs\\python\\python310\\lib\\site-packages (from plotly) (8.0.1)\n",
      "Note: you may need to restart the kernel to use updated packages.\n"
     ]
    }
   ],
   "source": [
    "%pip install plotly"
   ]
  },
  {
   "cell_type": "code",
   "execution_count": 50,
   "metadata": {
    "_cell_guid": "b1076dfc-b9ad-4769-8c92-a6c4dae69d19",
    "_uuid": "8f2839f25d086af736a60e9eeb907d3b93b6e0e5",
    "papermill": {
     "duration": 2.083363,
     "end_time": "2021-03-01T15:25:15.330005",
     "exception": false,
     "start_time": "2021-03-01T15:25:13.246642",
     "status": "completed"
    },
    "tags": []
   },
   "outputs": [],
   "source": [
    "# This Python 3 environment comes with many helpful analytics libraries installed\n",
    "# It is defined by the kaggle/python Docker image: https://github.com/kaggle/docker-python\n",
    "# For example, here's several helpful packages to load\n",
    "\n",
    "import numpy as np # linear algebra\n",
    "import pandas as pd # data processing, CSV file I/O (e.g. pd.read_csv)\n",
    "\n",
    "# Input data files are available in the read-only \"../input/\" directory\n",
    "# For example, running this (by clicking run or pressing Shift+Enter) will list all files under the input directory\n",
    "from matplotlib import pyplot as plt\n",
    "import seaborn as sns\n",
    "import plotly.express as px\n",
    "import os\n",
    "from plotly.subplots import make_subplots\n",
    "import plotly.graph_objects as go\n",
    "for dirname, _, filenames in os.walk('/kaggle/input'):\n",
    "    for filename in filenames:\n",
    "        print(os.path.join(dirname, filename))\n",
    "    \n",
    "\n",
    "# You can write up to 20GB to the current directory (/kaggle/working/) that gets preserved as output when you create a version using \"Save & Run All\" \n",
    "# You can also write temporary files to /kaggle/temp/, but they won't be saved outside of the current session"
   ]
  },
  {
   "cell_type": "code",
   "execution_count": 198,
   "metadata": {
    "papermill": {
     "duration": 8.795672,
     "end_time": "2021-03-01T15:25:24.146223",
     "exception": false,
     "start_time": "2021-03-01T15:25:15.350551",
     "status": "completed"
    },
    "tags": []
   },
   "outputs": [
    {
     "data": {
      "text/html": [
       "<div>\n",
       "<style scoped>\n",
       "    .dataframe tbody tr th:only-of-type {\n",
       "        vertical-align: middle;\n",
       "    }\n",
       "\n",
       "    .dataframe tbody tr th {\n",
       "        vertical-align: top;\n",
       "    }\n",
       "\n",
       "    .dataframe thead th {\n",
       "        text-align: right;\n",
       "    }\n",
       "</style>\n",
       "<table border=\"1\" class=\"dataframe\">\n",
       "  <thead>\n",
       "    <tr style=\"text-align: right;\">\n",
       "      <th></th>\n",
       "      <th>Area Code</th>\n",
       "      <th>Area</th>\n",
       "      <th>Item Code</th>\n",
       "      <th>Item</th>\n",
       "      <th>Element Code</th>\n",
       "      <th>Element</th>\n",
       "      <th>Year Code</th>\n",
       "      <th>Year</th>\n",
       "      <th>Unit</th>\n",
       "      <th>Value</th>\n",
       "      <th>Flag</th>\n",
       "    </tr>\n",
       "  </thead>\n",
       "  <tbody>\n",
       "    <tr>\n",
       "      <th>0</th>\n",
       "      <td>2</td>\n",
       "      <td>Afghanistan</td>\n",
       "      <td>221</td>\n",
       "      <td>Almonds, with shell</td>\n",
       "      <td>5312</td>\n",
       "      <td>Area harvested</td>\n",
       "      <td>1975</td>\n",
       "      <td>1975</td>\n",
       "      <td>ha</td>\n",
       "      <td>0.0</td>\n",
       "      <td>F</td>\n",
       "    </tr>\n",
       "    <tr>\n",
       "      <th>1</th>\n",
       "      <td>2</td>\n",
       "      <td>Afghanistan</td>\n",
       "      <td>221</td>\n",
       "      <td>Almonds, with shell</td>\n",
       "      <td>5312</td>\n",
       "      <td>Area harvested</td>\n",
       "      <td>1976</td>\n",
       "      <td>1976</td>\n",
       "      <td>ha</td>\n",
       "      <td>5900.0</td>\n",
       "      <td>F</td>\n",
       "    </tr>\n",
       "    <tr>\n",
       "      <th>2</th>\n",
       "      <td>2</td>\n",
       "      <td>Afghanistan</td>\n",
       "      <td>221</td>\n",
       "      <td>Almonds, with shell</td>\n",
       "      <td>5312</td>\n",
       "      <td>Area harvested</td>\n",
       "      <td>1977</td>\n",
       "      <td>1977</td>\n",
       "      <td>ha</td>\n",
       "      <td>6000.0</td>\n",
       "      <td>F</td>\n",
       "    </tr>\n",
       "    <tr>\n",
       "      <th>3</th>\n",
       "      <td>2</td>\n",
       "      <td>Afghanistan</td>\n",
       "      <td>221</td>\n",
       "      <td>Almonds, with shell</td>\n",
       "      <td>5312</td>\n",
       "      <td>Area harvested</td>\n",
       "      <td>1978</td>\n",
       "      <td>1978</td>\n",
       "      <td>ha</td>\n",
       "      <td>6000.0</td>\n",
       "      <td>F</td>\n",
       "    </tr>\n",
       "    <tr>\n",
       "      <th>4</th>\n",
       "      <td>2</td>\n",
       "      <td>Afghanistan</td>\n",
       "      <td>221</td>\n",
       "      <td>Almonds, with shell</td>\n",
       "      <td>5312</td>\n",
       "      <td>Area harvested</td>\n",
       "      <td>1979</td>\n",
       "      <td>1979</td>\n",
       "      <td>ha</td>\n",
       "      <td>6000.0</td>\n",
       "      <td>F</td>\n",
       "    </tr>\n",
       "  </tbody>\n",
       "</table>\n",
       "</div>"
      ],
      "text/plain": [
       "   Area Code         Area  Item Code                 Item  Element Code  \\\n",
       "0          2  Afghanistan        221  Almonds, with shell          5312   \n",
       "1          2  Afghanistan        221  Almonds, with shell          5312   \n",
       "2          2  Afghanistan        221  Almonds, with shell          5312   \n",
       "3          2  Afghanistan        221  Almonds, with shell          5312   \n",
       "4          2  Afghanistan        221  Almonds, with shell          5312   \n",
       "\n",
       "          Element  Year Code  Year Unit   Value Flag  \n",
       "0  Area harvested       1975  1975   ha     0.0    F  \n",
       "1  Area harvested       1976  1976   ha  5900.0    F  \n",
       "2  Area harvested       1977  1977   ha  6000.0    F  \n",
       "3  Area harvested       1978  1978   ha  6000.0    F  \n",
       "4  Area harvested       1979  1979   ha  6000.0    F  "
      ]
     },
     "execution_count": 198,
     "metadata": {},
     "output_type": "execute_result"
    }
   ],
   "source": [
    "Crops_data = 'Crops_AllData_Normalized.csv'\n",
    "data = pd.read_csv(Crops_data,  encoding='cp1252')\n",
    "data.head()"
   ]
  },
  {
   "cell_type": "markdown",
   "metadata": {
    "papermill": {
     "duration": 0.021281,
     "end_time": "2021-03-01T15:25:24.187373",
     "exception": false,
     "start_time": "2021-03-01T15:25:24.166092",
     "status": "completed"
    },
    "tags": []
   },
   "source": [
    "Remove columns that are irrelevant/unnecesary"
   ]
  },
  {
   "cell_type": "code",
   "execution_count": 199,
   "metadata": {
    "papermill": {
     "duration": 0.145256,
     "end_time": "2021-03-01T15:25:24.353028",
     "exception": false,
     "start_time": "2021-03-01T15:25:24.207772",
     "status": "completed"
    },
    "tags": []
   },
   "outputs": [
    {
     "data": {
      "text/html": [
       "<div>\n",
       "<style scoped>\n",
       "    .dataframe tbody tr th:only-of-type {\n",
       "        vertical-align: middle;\n",
       "    }\n",
       "\n",
       "    .dataframe tbody tr th {\n",
       "        vertical-align: top;\n",
       "    }\n",
       "\n",
       "    .dataframe thead th {\n",
       "        text-align: right;\n",
       "    }\n",
       "</style>\n",
       "<table border=\"1\" class=\"dataframe\">\n",
       "  <thead>\n",
       "    <tr style=\"text-align: right;\">\n",
       "      <th></th>\n",
       "      <th>Area</th>\n",
       "      <th>Item</th>\n",
       "      <th>Element</th>\n",
       "      <th>Year</th>\n",
       "      <th>Unit</th>\n",
       "      <th>Value</th>\n",
       "    </tr>\n",
       "  </thead>\n",
       "  <tbody>\n",
       "    <tr>\n",
       "      <th>0</th>\n",
       "      <td>Afghanistan</td>\n",
       "      <td>Almonds, with shell</td>\n",
       "      <td>Area harvested</td>\n",
       "      <td>1975</td>\n",
       "      <td>ha</td>\n",
       "      <td>0.0</td>\n",
       "    </tr>\n",
       "    <tr>\n",
       "      <th>1</th>\n",
       "      <td>Afghanistan</td>\n",
       "      <td>Almonds, with shell</td>\n",
       "      <td>Area harvested</td>\n",
       "      <td>1976</td>\n",
       "      <td>ha</td>\n",
       "      <td>5900.0</td>\n",
       "    </tr>\n",
       "    <tr>\n",
       "      <th>2</th>\n",
       "      <td>Afghanistan</td>\n",
       "      <td>Almonds, with shell</td>\n",
       "      <td>Area harvested</td>\n",
       "      <td>1977</td>\n",
       "      <td>ha</td>\n",
       "      <td>6000.0</td>\n",
       "    </tr>\n",
       "    <tr>\n",
       "      <th>3</th>\n",
       "      <td>Afghanistan</td>\n",
       "      <td>Almonds, with shell</td>\n",
       "      <td>Area harvested</td>\n",
       "      <td>1978</td>\n",
       "      <td>ha</td>\n",
       "      <td>6000.0</td>\n",
       "    </tr>\n",
       "    <tr>\n",
       "      <th>4</th>\n",
       "      <td>Afghanistan</td>\n",
       "      <td>Almonds, with shell</td>\n",
       "      <td>Area harvested</td>\n",
       "      <td>1979</td>\n",
       "      <td>ha</td>\n",
       "      <td>6000.0</td>\n",
       "    </tr>\n",
       "  </tbody>\n",
       "</table>\n",
       "</div>"
      ],
      "text/plain": [
       "          Area                 Item         Element  Year Unit   Value\n",
       "0  Afghanistan  Almonds, with shell  Area harvested  1975   ha     0.0\n",
       "1  Afghanistan  Almonds, with shell  Area harvested  1976   ha  5900.0\n",
       "2  Afghanistan  Almonds, with shell  Area harvested  1977   ha  6000.0\n",
       "3  Afghanistan  Almonds, with shell  Area harvested  1978   ha  6000.0\n",
       "4  Afghanistan  Almonds, with shell  Area harvested  1979   ha  6000.0"
      ]
     },
     "execution_count": 199,
     "metadata": {},
     "output_type": "execute_result"
    }
   ],
   "source": [
    "data.drop(['Area Code','Item Code', 'Element Code', 'Year Code', 'Flag'],inplace=True,axis=1)\n",
    "data.head()"
   ]
  },
  {
   "cell_type": "markdown",
   "metadata": {
    "papermill": {
     "duration": 0.019815,
     "end_time": "2021-03-01T15:25:24.394725",
     "exception": false,
     "start_time": "2021-03-01T15:25:24.374910",
     "status": "completed"
    },
    "tags": []
   },
   "source": [
    "Filter the data to show only data on crops in spain"
   ]
  },
  {
   "cell_type": "code",
   "execution_count": 200,
   "metadata": {
    "papermill": {
     "duration": 0.402032,
     "end_time": "2021-03-01T15:25:24.817224",
     "exception": false,
     "start_time": "2021-03-01T15:25:24.415192",
     "status": "completed"
    },
    "tags": []
   },
   "outputs": [
    {
     "data": {
      "text/html": [
       "<div>\n",
       "<style scoped>\n",
       "    .dataframe tbody tr th:only-of-type {\n",
       "        vertical-align: middle;\n",
       "    }\n",
       "\n",
       "    .dataframe tbody tr th {\n",
       "        vertical-align: top;\n",
       "    }\n",
       "\n",
       "    .dataframe thead th {\n",
       "        text-align: right;\n",
       "    }\n",
       "</style>\n",
       "<table border=\"1\" class=\"dataframe\">\n",
       "  <thead>\n",
       "    <tr style=\"text-align: right;\">\n",
       "      <th></th>\n",
       "      <th>Area</th>\n",
       "      <th>Item</th>\n",
       "      <th>Element</th>\n",
       "      <th>Year</th>\n",
       "      <th>Unit</th>\n",
       "      <th>Value</th>\n",
       "    </tr>\n",
       "  </thead>\n",
       "  <tbody>\n",
       "    <tr>\n",
       "      <th>762275</th>\n",
       "      <td>India</td>\n",
       "      <td>Anise, badian, fennel, coriander</td>\n",
       "      <td>Area harvested</td>\n",
       "      <td>1961</td>\n",
       "      <td>ha</td>\n",
       "      <td>90000.0</td>\n",
       "    </tr>\n",
       "    <tr>\n",
       "      <th>762276</th>\n",
       "      <td>India</td>\n",
       "      <td>Anise, badian, fennel, coriander</td>\n",
       "      <td>Area harvested</td>\n",
       "      <td>1962</td>\n",
       "      <td>ha</td>\n",
       "      <td>90000.0</td>\n",
       "    </tr>\n",
       "    <tr>\n",
       "      <th>762277</th>\n",
       "      <td>India</td>\n",
       "      <td>Anise, badian, fennel, coriander</td>\n",
       "      <td>Area harvested</td>\n",
       "      <td>1963</td>\n",
       "      <td>ha</td>\n",
       "      <td>100000.0</td>\n",
       "    </tr>\n",
       "    <tr>\n",
       "      <th>762278</th>\n",
       "      <td>India</td>\n",
       "      <td>Anise, badian, fennel, coriander</td>\n",
       "      <td>Area harvested</td>\n",
       "      <td>1964</td>\n",
       "      <td>ha</td>\n",
       "      <td>100000.0</td>\n",
       "    </tr>\n",
       "    <tr>\n",
       "      <th>762279</th>\n",
       "      <td>India</td>\n",
       "      <td>Anise, badian, fennel, coriander</td>\n",
       "      <td>Area harvested</td>\n",
       "      <td>1965</td>\n",
       "      <td>ha</td>\n",
       "      <td>100000.0</td>\n",
       "    </tr>\n",
       "  </tbody>\n",
       "</table>\n",
       "</div>"
      ],
      "text/plain": [
       "         Area                              Item         Element  Year Unit  \\\n",
       "762275  India  Anise, badian, fennel, coriander  Area harvested  1961   ha   \n",
       "762276  India  Anise, badian, fennel, coriander  Area harvested  1962   ha   \n",
       "762277  India  Anise, badian, fennel, coriander  Area harvested  1963   ha   \n",
       "762278  India  Anise, badian, fennel, coriander  Area harvested  1964   ha   \n",
       "762279  India  Anise, badian, fennel, coriander  Area harvested  1965   ha   \n",
       "\n",
       "           Value  \n",
       "762275   90000.0  \n",
       "762276   90000.0  \n",
       "762277  100000.0  \n",
       "762278  100000.0  \n",
       "762279  100000.0  "
      ]
     },
     "execution_count": 200,
     "metadata": {},
     "output_type": "execute_result"
    }
   ],
   "source": [
    "data_india = data.loc[data.Area == 'India']\n",
    "data_india.head()"
   ]
  },
  {
   "cell_type": "markdown",
   "metadata": {
    "papermill": {
     "duration": 0.020507,
     "end_time": "2021-03-01T15:25:24.858511",
     "exception": false,
     "start_time": "2021-03-01T15:25:24.838004",
     "status": "completed"
    },
    "tags": []
   },
   "source": [
    "Filter the data once again, to show only the data on Production quantity (in tonnes) of different crops in Spain (This is because I have chosen to evaluate only production quantity as of now)."
   ]
  },
  {
   "cell_type": "code",
   "execution_count": 201,
   "metadata": {
    "papermill": {
     "duration": 0.045248,
     "end_time": "2021-03-01T15:25:24.924474",
     "exception": false,
     "start_time": "2021-03-01T15:25:24.879226",
     "status": "completed"
    },
    "tags": []
   },
   "outputs": [
    {
     "data": {
      "text/html": [
       "<div>\n",
       "<style scoped>\n",
       "    .dataframe tbody tr th:only-of-type {\n",
       "        vertical-align: middle;\n",
       "    }\n",
       "\n",
       "    .dataframe tbody tr th {\n",
       "        vertical-align: top;\n",
       "    }\n",
       "\n",
       "    .dataframe thead th {\n",
       "        text-align: right;\n",
       "    }\n",
       "</style>\n",
       "<table border=\"1\" class=\"dataframe\">\n",
       "  <thead>\n",
       "    <tr style=\"text-align: right;\">\n",
       "      <th></th>\n",
       "      <th>Area</th>\n",
       "      <th>Item</th>\n",
       "      <th>Element</th>\n",
       "      <th>Year</th>\n",
       "      <th>Unit</th>\n",
       "      <th>Value</th>\n",
       "    </tr>\n",
       "  </thead>\n",
       "  <tbody>\n",
       "    <tr>\n",
       "      <th>762393</th>\n",
       "      <td>India</td>\n",
       "      <td>Anise, badian, fennel, coriander</td>\n",
       "      <td>Production</td>\n",
       "      <td>1961</td>\n",
       "      <td>tonnes</td>\n",
       "      <td>45000.0</td>\n",
       "    </tr>\n",
       "    <tr>\n",
       "      <th>762394</th>\n",
       "      <td>India</td>\n",
       "      <td>Anise, badian, fennel, coriander</td>\n",
       "      <td>Production</td>\n",
       "      <td>1962</td>\n",
       "      <td>tonnes</td>\n",
       "      <td>45000.0</td>\n",
       "    </tr>\n",
       "    <tr>\n",
       "      <th>762395</th>\n",
       "      <td>India</td>\n",
       "      <td>Anise, badian, fennel, coriander</td>\n",
       "      <td>Production</td>\n",
       "      <td>1963</td>\n",
       "      <td>tonnes</td>\n",
       "      <td>50000.0</td>\n",
       "    </tr>\n",
       "    <tr>\n",
       "      <th>762396</th>\n",
       "      <td>India</td>\n",
       "      <td>Anise, badian, fennel, coriander</td>\n",
       "      <td>Production</td>\n",
       "      <td>1964</td>\n",
       "      <td>tonnes</td>\n",
       "      <td>50000.0</td>\n",
       "    </tr>\n",
       "    <tr>\n",
       "      <th>762397</th>\n",
       "      <td>India</td>\n",
       "      <td>Anise, badian, fennel, coriander</td>\n",
       "      <td>Production</td>\n",
       "      <td>1965</td>\n",
       "      <td>tonnes</td>\n",
       "      <td>50000.0</td>\n",
       "    </tr>\n",
       "  </tbody>\n",
       "</table>\n",
       "</div>"
      ],
      "text/plain": [
       "         Area                              Item     Element  Year    Unit  \\\n",
       "762393  India  Anise, badian, fennel, coriander  Production  1961  tonnes   \n",
       "762394  India  Anise, badian, fennel, coriander  Production  1962  tonnes   \n",
       "762395  India  Anise, badian, fennel, coriander  Production  1963  tonnes   \n",
       "762396  India  Anise, badian, fennel, coriander  Production  1964  tonnes   \n",
       "762397  India  Anise, badian, fennel, coriander  Production  1965  tonnes   \n",
       "\n",
       "          Value  \n",
       "762393  45000.0  \n",
       "762394  45000.0  \n",
       "762395  50000.0  \n",
       "762396  50000.0  \n",
       "762397  50000.0  "
      ]
     },
     "execution_count": 201,
     "metadata": {},
     "output_type": "execute_result"
    }
   ],
   "source": [
    "production = data_india.loc[data_india.Element == 'Production']\n",
    "production.head()"
   ]
  },
  {
   "cell_type": "code",
   "execution_count": 202,
   "metadata": {
    "papermill": {
     "duration": 0.048647,
     "end_time": "2021-03-01T15:25:24.994681",
     "exception": false,
     "start_time": "2021-03-01T15:25:24.946034",
     "status": "completed"
    },
    "tags": []
   },
   "outputs": [
    {
     "data": {
      "text/html": [
       "<div>\n",
       "<style scoped>\n",
       "    .dataframe tbody tr th:only-of-type {\n",
       "        vertical-align: middle;\n",
       "    }\n",
       "\n",
       "    .dataframe tbody tr th {\n",
       "        vertical-align: top;\n",
       "    }\n",
       "\n",
       "    .dataframe thead th {\n",
       "        text-align: right;\n",
       "    }\n",
       "</style>\n",
       "<table border=\"1\" class=\"dataframe\">\n",
       "  <thead>\n",
       "    <tr style=\"text-align: right;\">\n",
       "      <th></th>\n",
       "      <th>Area</th>\n",
       "      <th>Item</th>\n",
       "      <th>Element</th>\n",
       "      <th>Year</th>\n",
       "      <th>Unit</th>\n",
       "      <th>Value</th>\n",
       "    </tr>\n",
       "  </thead>\n",
       "  <tbody>\n",
       "    <tr>\n",
       "      <th>775091</th>\n",
       "      <td>India</td>\n",
       "      <td>Sugar cane</td>\n",
       "      <td>Production</td>\n",
       "      <td>2019</td>\n",
       "      <td>tonnes</td>\n",
       "      <td>405416180.0</td>\n",
       "    </tr>\n",
       "    <tr>\n",
       "      <th>778424</th>\n",
       "      <td>India</td>\n",
       "      <td>Sugar Crops Primary</td>\n",
       "      <td>Production</td>\n",
       "      <td>2019</td>\n",
       "      <td>tonnes</td>\n",
       "      <td>405416180.0</td>\n",
       "    </tr>\n",
       "    <tr>\n",
       "      <th>775090</th>\n",
       "      <td>India</td>\n",
       "      <td>Sugar cane</td>\n",
       "      <td>Production</td>\n",
       "      <td>2018</td>\n",
       "      <td>tonnes</td>\n",
       "      <td>379904850.0</td>\n",
       "    </tr>\n",
       "    <tr>\n",
       "      <th>778423</th>\n",
       "      <td>India</td>\n",
       "      <td>Sugar Crops Primary</td>\n",
       "      <td>Production</td>\n",
       "      <td>2018</td>\n",
       "      <td>tonnes</td>\n",
       "      <td>379904850.0</td>\n",
       "    </tr>\n",
       "    <tr>\n",
       "      <th>778420</th>\n",
       "      <td>India</td>\n",
       "      <td>Sugar Crops Primary</td>\n",
       "      <td>Production</td>\n",
       "      <td>2015</td>\n",
       "      <td>tonnes</td>\n",
       "      <td>362333000.0</td>\n",
       "    </tr>\n",
       "    <tr>\n",
       "      <th>...</th>\n",
       "      <td>...</td>\n",
       "      <td>...</td>\n",
       "      <td>...</td>\n",
       "      <td>...</td>\n",
       "      <td>...</td>\n",
       "      <td>...</td>\n",
       "    </tr>\n",
       "    <tr>\n",
       "      <th>773263</th>\n",
       "      <td>India</td>\n",
       "      <td>Pumpkins, squash and gourds</td>\n",
       "      <td>Production</td>\n",
       "      <td>2018</td>\n",
       "      <td>tonnes</td>\n",
       "      <td>NaN</td>\n",
       "    </tr>\n",
       "    <tr>\n",
       "      <th>773264</th>\n",
       "      <td>India</td>\n",
       "      <td>Pumpkins, squash and gourds</td>\n",
       "      <td>Production</td>\n",
       "      <td>2019</td>\n",
       "      <td>tonnes</td>\n",
       "      <td>NaN</td>\n",
       "    </tr>\n",
       "    <tr>\n",
       "      <th>776298</th>\n",
       "      <td>India</td>\n",
       "      <td>Walnuts, with shell</td>\n",
       "      <td>Production</td>\n",
       "      <td>2017</td>\n",
       "      <td>tonnes</td>\n",
       "      <td>NaN</td>\n",
       "    </tr>\n",
       "    <tr>\n",
       "      <th>776299</th>\n",
       "      <td>India</td>\n",
       "      <td>Walnuts, with shell</td>\n",
       "      <td>Production</td>\n",
       "      <td>2018</td>\n",
       "      <td>tonnes</td>\n",
       "      <td>NaN</td>\n",
       "    </tr>\n",
       "    <tr>\n",
       "      <th>776300</th>\n",
       "      <td>India</td>\n",
       "      <td>Walnuts, with shell</td>\n",
       "      <td>Production</td>\n",
       "      <td>2019</td>\n",
       "      <td>tonnes</td>\n",
       "      <td>NaN</td>\n",
       "    </tr>\n",
       "  </tbody>\n",
       "</table>\n",
       "<p>5667 rows × 6 columns</p>\n",
       "</div>"
      ],
      "text/plain": [
       "         Area                         Item     Element  Year    Unit  \\\n",
       "775091  India                   Sugar cane  Production  2019  tonnes   \n",
       "778424  India          Sugar Crops Primary  Production  2019  tonnes   \n",
       "775090  India                   Sugar cane  Production  2018  tonnes   \n",
       "778423  India          Sugar Crops Primary  Production  2018  tonnes   \n",
       "778420  India          Sugar Crops Primary  Production  2015  tonnes   \n",
       "...       ...                          ...         ...   ...     ...   \n",
       "773263  India  Pumpkins, squash and gourds  Production  2018  tonnes   \n",
       "773264  India  Pumpkins, squash and gourds  Production  2019  tonnes   \n",
       "776298  India          Walnuts, with shell  Production  2017  tonnes   \n",
       "776299  India          Walnuts, with shell  Production  2018  tonnes   \n",
       "776300  India          Walnuts, with shell  Production  2019  tonnes   \n",
       "\n",
       "              Value  \n",
       "775091  405416180.0  \n",
       "778424  405416180.0  \n",
       "775090  379904850.0  \n",
       "778423  379904850.0  \n",
       "778420  362333000.0  \n",
       "...             ...  \n",
       "773263          NaN  \n",
       "773264          NaN  \n",
       "776298          NaN  \n",
       "776299          NaN  \n",
       "776300          NaN  \n",
       "\n",
       "[5667 rows x 6 columns]"
      ]
     },
     "execution_count": 202,
     "metadata": {},
     "output_type": "execute_result"
    }
   ],
   "source": [
    "production_sort = production.sort_values(by=['Value'], ascending=False) \n",
    "production_sort"
   ]
  },
  {
   "cell_type": "markdown",
   "metadata": {
    "papermill": {
     "duration": 0.022659,
     "end_time": "2021-03-01T15:25:25.042266",
     "exception": false,
     "start_time": "2021-03-01T15:25:25.019607",
     "status": "completed"
    },
    "tags": []
   },
   "source": [
    "More Information on the funciton used above can be found at - https://www.geeksforgeeks.org/python-pandas-dataframe-sort_values-set-1/"
   ]
  },
  {
   "cell_type": "markdown",
   "metadata": {
    "papermill": {
     "duration": 0.02158,
     "end_time": "2021-03-01T15:25:25.086126",
     "exception": false,
     "start_time": "2021-03-01T15:25:25.064546",
     "status": "completed"
    },
    "tags": []
   },
   "source": [
    "We see that the crop with the highest level of production in Spain is Cereals. This suggests that cereals are the principal crop in Spain.\n",
    "(Cereals is a clasification of crops that includes wheat, rice, maize, oat, barley, rye, millet and sorghum)."
   ]
  },
  {
   "cell_type": "code",
   "execution_count": 203,
   "metadata": {
    "papermill": {
     "duration": 0.066483,
     "end_time": "2021-03-01T15:25:25.175680",
     "exception": false,
     "start_time": "2021-03-01T15:25:25.109197",
     "status": "completed"
    },
    "tags": []
   },
   "outputs": [
    {
     "data": {
      "text/html": [
       "<div>\n",
       "<style scoped>\n",
       "    .dataframe tbody tr th:only-of-type {\n",
       "        vertical-align: middle;\n",
       "    }\n",
       "\n",
       "    .dataframe tbody tr th {\n",
       "        vertical-align: top;\n",
       "    }\n",
       "\n",
       "    .dataframe thead th {\n",
       "        text-align: right;\n",
       "    }\n",
       "</style>\n",
       "<table border=\"1\" class=\"dataframe\">\n",
       "  <thead>\n",
       "    <tr style=\"text-align: right;\">\n",
       "      <th></th>\n",
       "      <th>Area</th>\n",
       "      <th>Item</th>\n",
       "      <th>Element</th>\n",
       "      <th>Year</th>\n",
       "      <th>Unit</th>\n",
       "      <th>Value</th>\n",
       "    </tr>\n",
       "  </thead>\n",
       "  <tbody>\n",
       "    <tr>\n",
       "      <th>775091</th>\n",
       "      <td>India</td>\n",
       "      <td>Sugar cane</td>\n",
       "      <td>Production</td>\n",
       "      <td>2019</td>\n",
       "      <td>tonnes</td>\n",
       "      <td>405416180.0</td>\n",
       "    </tr>\n",
       "    <tr>\n",
       "      <th>778424</th>\n",
       "      <td>India</td>\n",
       "      <td>Sugar Crops Primary</td>\n",
       "      <td>Production</td>\n",
       "      <td>2019</td>\n",
       "      <td>tonnes</td>\n",
       "      <td>405416180.0</td>\n",
       "    </tr>\n",
       "    <tr>\n",
       "      <th>775090</th>\n",
       "      <td>India</td>\n",
       "      <td>Sugar cane</td>\n",
       "      <td>Production</td>\n",
       "      <td>2018</td>\n",
       "      <td>tonnes</td>\n",
       "      <td>379904850.0</td>\n",
       "    </tr>\n",
       "    <tr>\n",
       "      <th>778423</th>\n",
       "      <td>India</td>\n",
       "      <td>Sugar Crops Primary</td>\n",
       "      <td>Production</td>\n",
       "      <td>2018</td>\n",
       "      <td>tonnes</td>\n",
       "      <td>379904850.0</td>\n",
       "    </tr>\n",
       "    <tr>\n",
       "      <th>778420</th>\n",
       "      <td>India</td>\n",
       "      <td>Sugar Crops Primary</td>\n",
       "      <td>Production</td>\n",
       "      <td>2015</td>\n",
       "      <td>tonnes</td>\n",
       "      <td>362333000.0</td>\n",
       "    </tr>\n",
       "    <tr>\n",
       "      <th>...</th>\n",
       "      <td>...</td>\n",
       "      <td>...</td>\n",
       "      <td>...</td>\n",
       "      <td>...</td>\n",
       "      <td>...</td>\n",
       "      <td>...</td>\n",
       "    </tr>\n",
       "    <tr>\n",
       "      <th>770117</th>\n",
       "      <td>India</td>\n",
       "      <td>Mushrooms and truffles</td>\n",
       "      <td>Production</td>\n",
       "      <td>1961</td>\n",
       "      <td>tonnes</td>\n",
       "      <td>500.0</td>\n",
       "    </tr>\n",
       "    <tr>\n",
       "      <th>767351</th>\n",
       "      <td>India</td>\n",
       "      <td>Fruit, stone nes</td>\n",
       "      <td>Production</td>\n",
       "      <td>1962</td>\n",
       "      <td>tonnes</td>\n",
       "      <td>500.0</td>\n",
       "    </tr>\n",
       "    <tr>\n",
       "      <th>765892</th>\n",
       "      <td>India</td>\n",
       "      <td>Cocoa, beans</td>\n",
       "      <td>Production</td>\n",
       "      <td>1978</td>\n",
       "      <td>tonnes</td>\n",
       "      <td>500.0</td>\n",
       "    </tr>\n",
       "    <tr>\n",
       "      <th>767353</th>\n",
       "      <td>India</td>\n",
       "      <td>Fruit, stone nes</td>\n",
       "      <td>Production</td>\n",
       "      <td>1964</td>\n",
       "      <td>tonnes</td>\n",
       "      <td>500.0</td>\n",
       "    </tr>\n",
       "    <tr>\n",
       "      <th>765891</th>\n",
       "      <td>India</td>\n",
       "      <td>Cocoa, beans</td>\n",
       "      <td>Production</td>\n",
       "      <td>1977</td>\n",
       "      <td>tonnes</td>\n",
       "      <td>300.0</td>\n",
       "    </tr>\n",
       "  </tbody>\n",
       "</table>\n",
       "<p>5590 rows × 6 columns</p>\n",
       "</div>"
      ],
      "text/plain": [
       "         Area                    Item     Element  Year    Unit        Value\n",
       "775091  India              Sugar cane  Production  2019  tonnes  405416180.0\n",
       "778424  India     Sugar Crops Primary  Production  2019  tonnes  405416180.0\n",
       "775090  India              Sugar cane  Production  2018  tonnes  379904850.0\n",
       "778423  India     Sugar Crops Primary  Production  2018  tonnes  379904850.0\n",
       "778420  India     Sugar Crops Primary  Production  2015  tonnes  362333000.0\n",
       "...       ...                     ...         ...   ...     ...          ...\n",
       "770117  India  Mushrooms and truffles  Production  1961  tonnes        500.0\n",
       "767351  India        Fruit, stone nes  Production  1962  tonnes        500.0\n",
       "765892  India            Cocoa, beans  Production  1978  tonnes        500.0\n",
       "767353  India        Fruit, stone nes  Production  1964  tonnes        500.0\n",
       "765891  India            Cocoa, beans  Production  1977  tonnes        300.0\n",
       "\n",
       "[5590 rows x 6 columns]"
      ]
     },
     "execution_count": 203,
     "metadata": {},
     "output_type": "execute_result"
    }
   ],
   "source": [
    "production_sort.dropna(subset = [\"Value\"], inplace=True)\n",
    "production_sort"
   ]
  },
  {
   "cell_type": "markdown",
   "metadata": {
    "papermill": {
     "duration": 0.022905,
     "end_time": "2021-03-01T15:25:25.221490",
     "exception": false,
     "start_time": "2021-03-01T15:25:25.198585",
     "status": "completed"
    },
    "tags": []
   },
   "source": [
    "refer to - https://www.kite.com/python/answers/how-to-drop-empty-rows-from-a-pandas-dataframe-in-python#:~:text=Use%20df.,contain%20NaN%20under%20those%20columns for more information on the function used.\n",
    "\n",
    "This function removes all rows with the Value of NA in the 'Value' Column."
   ]
  },
  {
   "cell_type": "code",
   "execution_count": 204,
   "metadata": {
    "papermill": {
     "duration": 2.101576,
     "end_time": "2021-03-01T15:25:27.345728",
     "exception": false,
     "start_time": "2021-03-01T15:25:25.244152",
     "status": "completed"
    },
    "tags": []
   },
   "outputs": [
    {
     "data": {
      "application/vnd.plotly.v1+json": {
       "config": {
        "plotlyServerURL": "https://plot.ly"
       },
       "data": [
        {
         "fillpattern": {
          "shape": ""
         },
         "hovertemplate": "Item=Sugar cane<br>Year=%{x}<br>Value=%{y}<extra></extra>",
         "legendgroup": "Sugar cane",
         "line": {
          "color": "#636efa"
         },
         "marker": {
          "symbol": "circle"
         },
         "mode": "lines",
         "name": "Sugar cane",
         "orientation": "v",
         "showlegend": true,
         "stackgroup": "1",
         "type": "scatter",
         "x": [
          2019,
          2018,
          2015,
          2012,
          2007,
          2014,
          2016,
          2008,
          2011,
          2013,
          1999,
          2017,
          2000,
          2002,
          2001,
          2010,
          2003,
          2009,
          2006,
          1996,
          1998,
          1997,
          1995,
          1992,
          1991,
          2005,
          2004,
          1994,
          1993,
          1990,
          1989,
          1988,
          1983,
          1982,
          1987,
          1978,
          1984,
          1986,
          1985,
          1981,
          1977,
          1979,
          1975,
          1974,
          1976,
          1970,
          1980,
          1971,
          1973,
          1969,
          1966,
          1965,
          1972,
          1961,
          1964,
          1962,
          1968,
          1967,
          1963
         ],
         "xaxis": "x",
         "y": [
          405416180,
          379904850,
          362333000,
          361036992,
          355519712,
          352142000,
          348448000,
          348187904,
          342382016,
          341200000,
          310332800,
          306069000,
          299323904,
          297207808,
          295956000,
          292301600,
          287383200,
          285029312,
          281171808,
          281100000,
          279541504,
          277560000,
          275540000,
          254000000,
          241045504,
          237088400,
          233861792,
          229670000,
          228030000,
          225569200,
          203036800,
          196736896,
          189505600,
          186357600,
          186089504,
          176965008,
          174076000,
          171680992,
          170319200,
          154248000,
          153007008,
          151655104,
          144288896,
          140805008,
          140603504,
          135024000,
          128833408,
          126368000,
          124866704,
          124676096,
          123990000,
          122077008,
          113569504,
          110001008,
          104225008,
          103967008,
          95500000,
          92827008,
          91913008
         ],
         "yaxis": "y"
        },
        {
         "fillpattern": {
          "shape": ""
         },
         "hovertemplate": "Item=Sugar Crops Primary<br>Year=%{x}<br>Value=%{y}<extra></extra>",
         "legendgroup": "Sugar Crops Primary",
         "line": {
          "color": "#EF553B"
         },
         "marker": {
          "symbol": "circle"
         },
         "mode": "lines",
         "name": "Sugar Crops Primary",
         "orientation": "v",
         "showlegend": true,
         "stackgroup": "1",
         "type": "scatter",
         "x": [
          2019,
          2018,
          2015,
          2012,
          2007,
          2014,
          2016,
          2008,
          2011,
          2013,
          1999,
          2017,
          2000,
          2002,
          2001,
          2010,
          2003,
          2009,
          2006,
          1996,
          1998,
          1997,
          1995,
          1992,
          1991,
          2005,
          2004,
          1994,
          1993,
          1990,
          1989,
          1988,
          1983,
          1982,
          1987,
          1978,
          1984,
          1986,
          1985,
          1981,
          1977,
          1979,
          1975,
          1974,
          1976,
          1970,
          1980,
          1971,
          1973,
          1969,
          1966,
          1965,
          1972,
          1961,
          1964,
          1962,
          1968,
          1967,
          1963
         ],
         "xaxis": "x",
         "y": [
          405416180,
          379904850,
          362333000,
          361036992,
          355519712,
          352142000,
          348448000,
          348187904,
          342382016,
          341200000,
          310332800,
          306069000,
          299323904,
          297207808,
          295956000,
          292301600,
          287383200,
          285029312,
          281171808,
          281100000,
          279541504,
          277560000,
          275540000,
          254000000,
          241045504,
          237088400,
          233861792,
          229670000,
          228030000,
          225569200,
          203036800,
          196736896,
          189505600,
          186357600,
          186089504,
          176965008,
          174076000,
          171680992,
          170319200,
          154248000,
          153007008,
          151655104,
          144288896,
          140805008,
          140603504,
          135024000,
          128833408,
          126368000,
          124866704,
          124676096,
          123990000,
          122077008,
          113569504,
          110001008,
          104225008,
          103967008,
          95500000,
          92827008,
          91913008
         ],
         "yaxis": "y"
        },
        {
         "fillpattern": {
          "shape": ""
         },
         "hovertemplate": "Item=Cereals, Total<br>Year=%{x}<br>Value=%{y}<extra></extra>",
         "legendgroup": "Cereals, Total",
         "line": {
          "color": "#00cc96"
         },
         "marker": {
          "symbol": "circle"
         },
         "mode": "lines",
         "name": "Cereals, Total",
         "orientation": "v",
         "showlegend": true,
         "stackgroup": "1",
         "type": "scatter",
         "x": [
          2019,
          2018,
          2017,
          2016,
          2014,
          2013,
          2012,
          2011,
          2015,
          2010,
          2008,
          2007,
          2009,
          2001,
          2006,
          2005,
          2003,
          1999,
          2000,
          2004,
          1998,
          1997,
          1996,
          1994,
          1995,
          1993,
          2002,
          1992,
          1989,
          1990,
          1991,
          1988,
          1983,
          1985,
          1986,
          1984,
          1987,
          1981,
          1978,
          1980,
          1977,
          1982,
          1975,
          1979,
          1976,
          1973,
          1970,
          1971,
          1972,
          1974,
          1969,
          1968,
          1967,
          1964,
          1963,
          1961,
          1962,
          1966,
          1965
         ],
         "xaxis": "x",
         "y": [
          324300640,
          321556400,
          310782330,
          297850000,
          296010000,
          294909510,
          293290000,
          287860000,
          284333000,
          267838308,
          266835300,
          260485904,
          250783392,
          242963796,
          242785588,
          239997492,
          236592700,
          236205608,
          234931192,
          229845504,
          226877000,
          223232400,
          218750900,
          211941400,
          210012500,
          208626900,
          206636708,
          201468404,
          199413216,
          193919312,
          193101196,
          183867008,
          166781704,
          165682196,
          164955216,
          164477600,
          156114500,
          147583816,
          142964696,
          140490600,
          138062904,
          136101404,
          127807800,
          126470304,
          121625108,
          119648216,
          113909504,
          113238296,
          108615456,
          106793000,
          106291244,
          102443708,
          95453504,
          93706000,
          90373008,
          87376496,
          87257552,
          80137608,
          79699504
         ],
         "yaxis": "y"
        },
        {
         "fillpattern": {
          "shape": ""
         },
         "hovertemplate": "Item=Rice, paddy<br>Year=%{x}<br>Value=%{y}<extra></extra>",
         "legendgroup": "Rice, paddy",
         "line": {
          "color": "#ab63fa"
         },
         "marker": {
          "symbol": "circle"
         },
         "mode": "lines",
         "name": "Rice, paddy",
         "orientation": "v",
         "showlegend": true,
         "stackgroup": "1",
         "type": "scatter",
         "x": [
          2019,
          2018,
          2017,
          2016,
          2013,
          2011,
          2012,
          2014,
          2015,
          2008,
          2007,
          2010,
          2001,
          2006,
          2005,
          2009,
          1999,
          2003,
          1998,
          2000,
          2004,
          1997,
          1994,
          1996,
          1993,
          1995,
          1991,
          1990,
          1989,
          1992,
          2002,
          1988,
          1985,
          1986,
          1983,
          1984,
          1987,
          1978,
          1980,
          1981,
          1977,
          1975,
          1982,
          1973,
          1971,
          1979,
          1970,
          1976,
          1969,
          1974,
          1968,
          1964,
          1972,
          1967,
          1963,
          1961,
          1962,
          1965,
          1966
         ],
         "xaxis": "x",
         "y": [
          177645000,
          174716730,
          168500000,
          163700000,
          159200000,
          157900000,
          157800000,
          157200000,
          156540000,
          148036000,
          144570000,
          143963008,
          139900000,
          139136992,
          137690096,
          135672992,
          134495904,
          132789000,
          129055000,
          127464896,
          124697104,
          123700000,
          122640000,
          122500000,
          120400000,
          115440000,
          112042000,
          111517408,
          110310608,
          109001200,
          107730304,
          106368800,
          95817696,
          90779408,
          90048000,
          87552800,
          85338704,
          80608496,
          80312000,
          79883008,
          79005600,
          73352000,
          70771696,
          66077008,
          64602000,
          63475696,
          63337808,
          63051904,
          60644544,
          59650000,
          59641808,
          58962000,
          58867952,
          56418304,
          55497008,
          53494496,
          49825552,
          45883504,
          45657008
         ],
         "yaxis": "y"
        },
        {
         "fillpattern": {
          "shape": ""
         },
         "hovertemplate": "Item=Vegetables Primary<br>Year=%{x}<br>Value=%{y}<extra></extra>",
         "legendgroup": "Vegetables Primary",
         "line": {
          "color": "#FFA15A"
         },
         "marker": {
          "symbol": "circle"
         },
         "mode": "lines",
         "name": "Vegetables Primary",
         "orientation": "v",
         "showlegend": true,
         "stackgroup": "1",
         "type": "scatter",
         "x": [
          2019,
          2017,
          2018,
          2016,
          2014,
          2015,
          2013,
          2012,
          2011,
          2010,
          2008,
          2009,
          2007,
          2006,
          2003,
          2001,
          2005,
          2000,
          1999,
          2002,
          2004,
          1998,
          1997,
          1996,
          1995,
          1994,
          1993,
          1992,
          1991,
          1990,
          1989,
          1988,
          1987,
          1986,
          1985,
          1984,
          1983,
          1982,
          1981,
          1980,
          1979,
          1978,
          1977,
          1976,
          1975,
          1974,
          1973,
          1972,
          1971,
          1970,
          1969,
          1968,
          1967,
          1966,
          1965,
          1964,
          1963,
          1962,
          1961
         ],
         "xaxis": "x",
         "y": [
          132026555,
          131623271,
          130110549,
          125895058,
          125158709,
          119983010,
          119592200,
          112932800,
          105711719,
          99349827,
          90990087,
          90176119,
          87348289,
          81550722,
          78279752,
          77866529,
          71615878,
          71383100,
          70093181,
          69076536,
          66021336,
          62895081,
          60608430,
          56395900,
          55675300,
          53203533,
          52123500,
          49642471,
          49128336,
          48129659,
          47202361,
          46212890,
          45148076,
          43803000,
          42261000,
          41329400,
          39911000,
          38377400,
          36896100,
          35465100,
          34469600,
          33553050,
          32537900,
          31610800,
          30584900,
          29654200,
          28660500,
          27729400,
          26673000,
          25688900,
          24657800,
          23651200,
          22870050,
          22147600,
          21271000,
          20535500,
          19833300,
          19070200,
          18267500
         ],
         "yaxis": "y"
        },
        {
         "fillpattern": {
          "shape": ""
         },
         "hovertemplate": "Item=Rice, paddy (rice milled equivalent)<br>Year=%{x}<br>Value=%{y}<extra></extra>",
         "legendgroup": "Rice, paddy (rice milled equivalent)",
         "line": {
          "color": "#19d3f3"
         },
         "marker": {
          "symbol": "circle"
         },
         "mode": "lines",
         "name": "Rice, paddy (rice milled equivalent)",
         "orientation": "v",
         "showlegend": true,
         "stackgroup": "1",
         "type": "scatter",
         "x": [
          2019,
          2018,
          2017,
          2016,
          2013,
          2011,
          2012,
          2014,
          2015,
          2008,
          2007,
          2010,
          2001,
          2006,
          2005,
          2009,
          1999,
          2003,
          1998,
          2000,
          2004,
          1997,
          1994,
          1996,
          1993,
          1995,
          1991,
          1990,
          1989,
          1992,
          2002,
          1988,
          1985,
          1986,
          1983,
          1984,
          1987,
          1978,
          1980,
          1981,
          1977,
          1975,
          1982,
          1973,
          1971,
          1979,
          1970,
          1976,
          1969,
          1974,
          1968,
          1964,
          1972,
          1967,
          1963,
          1961,
          1962,
          1965,
          1966
         ],
         "xaxis": "x",
         "y": [
          118489215,
          116536059,
          112389500,
          109187900,
          106186400,
          105319300,
          105252600,
          104852400,
          104412180,
          98740012,
          96428190,
          96023326,
          93313300,
          92804374,
          91839294,
          90493886,
          89708768,
          88570263,
          86079685,
          85019086,
          83172968,
          82507900,
          81800880,
          81707500,
          80306800,
          76998480,
          74732014,
          74382111,
          73577176,
          72703800,
          71856113,
          70947990,
          63910403,
          60549865,
          60062016,
          58397718,
          56920916,
          53765867,
          53568104,
          53281966,
          52696735,
          48925784,
          47204721,
          44073364,
          43089534,
          42338289,
          42246318,
          42055620,
          40449911,
          39786550,
          39781086,
          39327654,
          39264924,
          37631009,
          37016504,
          35680829,
          33233643,
          30604297,
          30453224
         ],
         "yaxis": "y"
        },
        {
         "fillpattern": {
          "shape": ""
         },
         "hovertemplate": "Item=Fruit Primary<br>Year=%{x}<br>Value=%{y}<extra></extra>",
         "legendgroup": "Fruit Primary",
         "line": {
          "color": "#FF6692"
         },
         "marker": {
          "symbol": "circle"
         },
         "mode": "lines",
         "name": "Fruit Primary",
         "orientation": "v",
         "showlegend": true,
         "stackgroup": "1",
         "type": "scatter",
         "x": [
          2019,
          2018,
          2017,
          2016,
          2014,
          2015,
          2013,
          2012,
          2010,
          2011,
          2009,
          2008,
          2007,
          2006,
          2005,
          2004,
          2003,
          1999,
          1998,
          2001,
          2002,
          2000,
          1997,
          1996,
          1994,
          1995,
          1993,
          1992,
          1991,
          1990,
          1986,
          1987,
          1989,
          1985,
          1984,
          1988,
          1983,
          1982,
          1981,
          1980,
          1979,
          1978,
          1977,
          1976,
          1975,
          1974,
          1973,
          1971,
          1972,
          1969,
          1970,
          1968,
          1967,
          1966,
          1965,
          1964,
          1963,
          1962,
          1961
         ],
         "xaxis": "x",
         "y": [
          104165543,
          101897338,
          98031613,
          92006390,
          91046966,
          90792024,
          85262158,
          77996263,
          76409398,
          76076727,
          70244755,
          69802851,
          63896834,
          58820063,
          52658409,
          49625940,
          47027196,
          46561080,
          45602866,
          45278828,
          44221611,
          43900880,
          42498537,
          39020392,
          37859943,
          37017295,
          35501650,
          31669340,
          29291546,
          28532097,
          28043367,
          27579834,
          26821545,
          25677400,
          25542620,
          24846839,
          22809184,
          21920847,
          21547159,
          20867397,
          20350992,
          19565590,
          18930911,
          18417371,
          17577400,
          17530811,
          17096718,
          16959106,
          16782667,
          16210800,
          16083680,
          16072000,
          15835200,
          15653300,
          15079400,
          14318600,
          14084200,
          13838900,
          13573500
         ],
         "yaxis": "y"
        },
        {
         "fillpattern": {
          "shape": ""
         },
         "hovertemplate": "Item=Wheat<br>Year=%{x}<br>Value=%{y}<extra></extra>",
         "legendgroup": "Wheat",
         "line": {
          "color": "#B6E880"
         },
         "marker": {
          "symbol": "circle"
         },
         "mode": "lines",
         "name": "Wheat",
         "orientation": "v",
         "showlegend": true,
         "stackgroup": "1",
         "type": "scatter",
         "x": [
          2019,
          2018,
          2017,
          2014,
          2012,
          2013,
          2016,
          2011,
          2015,
          2010,
          2009,
          2008,
          2000,
          2007,
          2002,
          2004,
          1999,
          2001,
          2006,
          1997,
          2005,
          1998,
          1995,
          2003,
          1996,
          1994,
          1993,
          1992,
          1991,
          1989,
          1990,
          1986,
          1988,
          1984,
          1987,
          1985,
          1983,
          1982,
          1981,
          1979,
          1980,
          1978,
          1977,
          1976,
          1972,
          1973,
          1975,
          1971,
          1974,
          1970,
          1969,
          1968,
          1965,
          1962,
          1967,
          1961,
          1963,
          1966,
          1964
         ],
         "xaxis": "x",
         "y": [
          103596230,
          99869520,
          98510220,
          95850000,
          94880000,
          93510000,
          92290000,
          86874000,
          86530000,
          80803600,
          80679400,
          78570200,
          76368896,
          75806704,
          72766304,
          72156200,
          71287504,
          69680896,
          69354496,
          69350200,
          68636896,
          66345000,
          65767400,
          65760800,
          62097400,
          59840000,
          57210100,
          55689504,
          55134496,
          54110208,
          49849504,
          47051808,
          46169408,
          45476000,
          44322896,
          44068800,
          42793904,
          37451808,
          36312608,
          35507808,
          31830000,
          31749200,
          29009904,
          28846304,
          26409904,
          24734608,
          24104400,
          23832496,
          21778000,
          20093296,
          18651600,
          16540100,
          12257000,
          12072000,
          11393000,
          10997000,
          10776000,
          10394000,
          9853000
         ],
         "yaxis": "y"
        },
        {
         "fillpattern": {
          "shape": ""
         },
         "hovertemplate": "Item=Oilcrops<br>Year=%{x}<br>Value=%{y}<extra></extra>",
         "legendgroup": "Oilcrops",
         "line": {
          "color": "#FF97FF"
         },
         "marker": {
          "symbol": "circle"
         },
         "mode": "lines",
         "name": "Oilcrops",
         "orientation": "v",
         "showlegend": true,
         "stackgroup": "1",
         "type": "scatter",
         "x": [
          2019,
          2013,
          2018,
          2011,
          2017,
          2010,
          2016,
          2014,
          2012,
          2007,
          2015,
          2009,
          2008,
          2006,
          2005,
          1996,
          2004,
          1998,
          2003,
          1997,
          1995,
          1994,
          1992,
          1993,
          1999,
          2001,
          2000,
          1991,
          1989,
          1990,
          2002,
          1988,
          1984,
          1985,
          1987,
          1981,
          1983,
          1986,
          1982,
          1975,
          1978,
          1971,
          1979,
          1973,
          1977,
          1974,
          1970,
          1976,
          1980,
          1967,
          1969,
          1964,
          1972,
          1963,
          1968,
          1962,
          1965,
          1966,
          1961
         ],
         "xaxis": "x",
         "y": [
          64750350,
          63296000,
          62522080,
          60832000,
          59852242,
          59543600,
          58707306,
          58682603,
          58292000,
          56024300,
          51954641,
          49085500,
          48364200,
          47194800,
          46039000,
          40922000,
          40147700,
          38938300,
          38722600,
          38436200,
          38394267,
          37216700,
          35448300,
          35346300,
          35344100,
          33723900,
          33680700,
          30785400,
          30189100,
          30122400,
          29627400,
          28151200,
          22179100,
          21073100,
          20410600,
          20183300,
          19827700,
          19808000,
          19071400,
          18821844,
          18347500,
          18074800,
          17647400,
          17403396,
          17360280,
          17037293,
          16698800,
          16650900,
          16576300,
          15512403,
          15224294,
          15137649,
          15007620,
          14796000,
          14793978,
          14718631,
          13765305,
          13698800,
          13483000
         ],
         "yaxis": "y"
        },
        {
         "fillpattern": {
          "shape": ""
         },
         "hovertemplate": "Item=Roots and Tubers, Total<br>Year=%{x}<br>Value=%{y}<extra></extra>",
         "legendgroup": "Roots and Tubers, Total",
         "line": {
          "color": "#FECB52"
         },
         "marker": {
          "symbol": "circle"
         },
         "mode": "lines",
         "name": "Roots and Tubers, Total",
         "orientation": "v",
         "showlegend": true,
         "stackgroup": "1",
         "type": "scatter",
         "x": [
          2018,
          2019,
          2014,
          2017,
          2013,
          2015,
          2011,
          2012,
          2016,
          2010,
          2009,
          2008,
          2006,
          2007,
          2005,
          2004,
          2000,
          2002,
          1997,
          2001,
          2003,
          1999,
          1996,
          1998,
          1992,
          1993,
          1994,
          1995,
          1991,
          1990,
          1989,
          1988,
          1985,
          1984,
          1987,
          1979,
          1981,
          1982,
          1983,
          1986,
          1976,
          1980,
          1978,
          1977,
          1975,
          1974,
          1972,
          1973,
          1971,
          1969,
          1970,
          1968,
          1967,
          1966,
          1965,
          1964,
          1963,
          1961,
          1962
         ],
         "xaxis": "x",
         "y": [
          57760000,
          56322000,
          55622310,
          54236000,
          53712600,
          53610000,
          51462000,
          51302300,
          49215000,
          45731800,
          45133600,
          44808000,
          38096000,
          37899100,
          37429900,
          35054500,
          32124800,
          32102300,
          30980900,
          30018500,
          29717900,
          29477100,
          25424600,
          25382300,
          25158200,
          25107300,
          24641900,
          24424200,
          21895300,
          20984300,
          20960600,
          20720100,
          19860400,
          19623600,
          19045300,
          17806100,
          17040000,
          16899800,
          16883800,
          16715100,
          15755200,
          15485000,
          15412200,
          15101000,
          14209700,
          12832000,
          12389400,
          12253400,
          11667800,
          11403600,
          10747700,
          10540000,
          8635500,
          8534000,
          7736000,
          6271000,
          5972000,
          5949000,
          5197000
         ],
         "yaxis": "y"
        },
        {
         "fillpattern": {
          "shape": ""
         },
         "hovertemplate": "Item=Potatoes<br>Year=%{x}<br>Value=%{y}<extra></extra>",
         "legendgroup": "Potatoes",
         "line": {
          "color": "#636efa"
         },
         "marker": {
          "symbol": "circle"
         },
         "mode": "lines",
         "name": "Potatoes",
         "orientation": "v",
         "showlegend": true,
         "stackgroup": "1",
         "type": "scatter",
         "x": [
          2018,
          2019,
          2017,
          2015,
          2014,
          2013,
          2016,
          2011,
          2012,
          2010,
          2008,
          2009,
          2006,
          2005,
          2007,
          2004,
          2000,
          2002,
          1997,
          2003,
          1999,
          2001,
          1996,
          1993,
          1992,
          1998,
          1995,
          1994,
          1991,
          1989,
          1990,
          1988,
          1987,
          1985,
          1984,
          1986,
          1979,
          1983,
          1982,
          1981,
          1980,
          1978,
          1976,
          1977,
          1975,
          1974,
          1972,
          1971,
          1969,
          1973,
          1968,
          1966,
          1970,
          1965,
          1967,
          1963,
          1961,
          1964,
          1962
         ],
         "xaxis": "x",
         "y": [
          51310000,
          50190000,
          48605000,
          48009000,
          46395000,
          45343600,
          43417000,
          42339400,
          41483000,
          36577300,
          34658000,
          34390900,
          29174600,
          28787700,
          28599600,
          27925800,
          25000100,
          24456100,
          24215900,
          23161400,
          22494700,
          22242700,
          18843300,
          18479000,
          18195000,
          17652300,
          17401300,
          17392400,
          15205600,
          14857000,
          14770800,
          14046000,
          12740300,
          12570600,
          12151800,
          10422800,
          10133000,
          9956000,
          9911800,
          9670000,
          8326600,
          8135400,
          7306000,
          7170700,
          6225400,
          4861100,
          4825500,
          4807200,
          4725500,
          4451000,
          4232300,
          4076000,
          3912600,
          3605000,
          3521500,
          3365000,
          2719000,
          2593000,
          2447000
         ],
         "yaxis": "y"
        },
        {
         "fillpattern": {
          "shape": ""
         },
         "hovertemplate": "Item=Vegetables, fresh nes<br>Year=%{x}<br>Value=%{y}<extra></extra>",
         "legendgroup": "Vegetables, fresh nes",
         "line": {
          "color": "#EF553B"
         },
         "marker": {
          "symbol": "circle"
         },
         "mode": "lines",
         "name": "Vegetables, fresh nes",
         "orientation": "v",
         "showlegend": true,
         "stackgroup": "1",
         "type": "scatter",
         "x": [
          2019,
          2018,
          2017,
          2014,
          2016,
          2015,
          2001,
          2003,
          2013,
          2010,
          2008,
          2012,
          2007,
          2000,
          2009,
          2011,
          2006,
          2002,
          1999,
          1987,
          1986,
          1988,
          1991,
          1997,
          1990,
          1998,
          1985,
          1989,
          2005,
          1993,
          1984,
          1983,
          1994,
          1982,
          1992,
          1995,
          1996,
          1981,
          1978,
          1980,
          1979,
          1977,
          2004,
          1976,
          1975,
          1974,
          1973,
          1972,
          1971,
          1970,
          1969,
          1968,
          1967,
          1966,
          1965,
          1964,
          1963,
          1962,
          1961
         ],
         "xaxis": "x",
         "y": [
          42211000,
          41102000,
          37220014,
          36838000,
          36407146,
          35868526,
          35340000,
          34740000,
          33213000,
          31724000,
          31402000,
          30459000,
          29146000,
          28630000,
          28006300,
          27557000,
          27480800,
          27180000,
          27030000,
          24000000,
          23700000,
          23100000,
          23100000,
          22970966,
          22600000,
          22600000,
          22400000,
          22300000,
          22123700,
          22100000,
          22000000,
          21600000,
          21600000,
          21100000,
          20600000,
          20190000,
          20000000,
          20000000,
          19800000,
          19700000,
          19400000,
          19200000,
          19172700,
          18900000,
          18400000,
          18000000,
          17600000,
          17100000,
          16500000,
          16000000,
          15500000,
          15000000,
          14700000,
          14600000,
          14100000,
          13600000,
          13200000,
          12700000,
          12100000
         ],
         "yaxis": "y"
        },
        {
         "fillpattern": {
          "shape": ""
         },
         "hovertemplate": "Item=Bananas<br>Year=%{x}<br>Value=%{y}<extra></extra>",
         "legendgroup": "Bananas",
         "line": {
          "color": "#00cc96"
         },
         "marker": {
          "symbol": "circle"
         },
         "mode": "lines",
         "name": "Bananas",
         "orientation": "v",
         "showlegend": true,
         "stackgroup": "1",
         "type": "scatter",
         "x": [
          2018,
          2017,
          2019,
          2010,
          2014,
          2015,
          2016,
          2011,
          2013,
          2012,
          2009,
          2008,
          2007,
          2006,
          2005,
          1999,
          2004,
          1998,
          2001,
          2000,
          2003,
          1997,
          2002,
          1994,
          1996,
          1995,
          1993,
          1992,
          1991,
          1990,
          1989,
          1988,
          1987,
          1986,
          1985,
          1984,
          1983,
          1981,
          1978,
          1980,
          1979,
          1977,
          1982,
          1976,
          1966,
          1975,
          1971,
          1974,
          1965,
          1967,
          1972,
          1969,
          1973,
          1968,
          1970,
          1964,
          1963,
          1962,
          1961
         ],
         "xaxis": "x",
         "y": [
          30808000,
          30477000,
          30460000,
          29780000,
          29724550,
          29221000,
          29135000,
          28455100,
          27575000,
          26509000,
          26469500,
          26217000,
          23823000,
          20997800,
          18887800,
          16810000,
          16744500,
          15100000,
          14209900,
          14137300,
          13856600,
          13340000,
          13304400,
          10686000,
          10299000,
          10182000,
          9945000,
          8523000,
          7853100,
          7153000,
          6409200,
          5989900,
          5917900,
          5714000,
          5389800,
          5247700,
          4647700,
          4580000,
          4560900,
          4354000,
          4273500,
          4245900,
          4221300,
          3758200,
          3412000,
          3409000,
          3374100,
          3274100,
          3271000,
          3203000,
          3190000,
          3172500,
          3167100,
          3125000,
          2896800,
          2684000,
          2601000,
          2425000,
          2257000
         ],
         "yaxis": "y"
        },
        {
         "fillpattern": {
          "shape": ""
         },
         "hovertemplate": "Item=Maize<br>Year=%{x}<br>Value=%{y}<extra></extra>",
         "legendgroup": "Maize",
         "line": {
          "color": "#ab63fa"
         },
         "marker": {
          "symbol": "circle"
         },
         "mode": "lines",
         "name": "Maize",
         "orientation": "v",
         "showlegend": true,
         "stackgroup": "1",
         "type": "scatter",
         "x": [
          2018,
          2019,
          2016,
          2017,
          2013,
          2014,
          2015,
          2012,
          2011,
          2010,
          2008,
          2007,
          2009,
          2006,
          2003,
          2005,
          2004,
          2001,
          2000,
          1999,
          2002,
          1998,
          1997,
          1996,
          1992,
          1989,
          1993,
          1995,
          1990,
          1994,
          1984,
          1988,
          1991,
          1983,
          1986,
          1970,
          1975,
          1980,
          1981,
          1985,
          1982,
          1972,
          1976,
          1967,
          1978,
          1977,
          1973,
          1987,
          1968,
          1969,
          1979,
          1974,
          1971,
          1966,
          1965,
          1964,
          1962,
          1963,
          1961
         ],
         "xaxis": "x",
         "y": [
          28752880,
          27715100,
          25900000,
          25899870,
          24259510,
          24170000,
          22570000,
          22260000,
          21760000,
          21725800,
          19731400,
          18955400,
          16719500,
          15097000,
          14984300,
          14709900,
          14172000,
          13160200,
          12043200,
          11509600,
          11151700,
          11147700,
          10816000,
          10769000,
          9992100,
          9651300,
          9601000,
          9534000,
          8961700,
          8884400,
          8441800,
          8228700,
          8064400,
          7922000,
          7592800,
          7485600,
          7255800,
          6957000,
          6897100,
          6643700,
          6548500,
          6388500,
          6361200,
          6269300,
          6199000,
          5973300,
          5803500,
          5721300,
          5701100,
          5674300,
          5602900,
          5558900,
          5100500,
          4893600,
          4823000,
          4664000,
          4607000,
          4561000,
          4312000
         ],
         "yaxis": "y"
        },
        {
         "fillpattern": {
          "shape": ""
         },
         "hovertemplate": "Item=Oilcrops, Cake Equivalent<br>Year=%{x}<br>Value=%{y}<extra></extra>",
         "legendgroup": "Oilcrops, Cake Equivalent",
         "line": {
          "color": "#FFA15A"
         },
         "marker": {
          "symbol": "circle"
         },
         "mode": "lines",
         "name": "Oilcrops, Cake Equivalent",
         "orientation": "v",
         "showlegend": true,
         "stackgroup": "1",
         "type": "scatter",
         "x": [
          2019,
          2013,
          2017,
          2011,
          2012,
          2010,
          2016,
          2018,
          2014,
          2007,
          2009,
          2015,
          2008,
          2006,
          2005,
          2004,
          1996,
          2003,
          1997,
          1998,
          1995,
          1999,
          1994,
          1993,
          1992,
          2000,
          2001,
          1991,
          2002,
          1990,
          1989,
          1988,
          1984,
          1985,
          1987,
          1986,
          1981,
          1983,
          1982,
          1975,
          1978,
          1979,
          1971,
          1977,
          1973,
          1976,
          1974,
          1980,
          1970,
          1967,
          1963,
          1964,
          1962,
          1969,
          1968,
          1972,
          1965,
          1961,
          1966
         ],
         "xaxis": "x",
         "y": [
          26282082,
          25514307,
          25189479,
          25089071,
          24869293,
          24776163,
          24440055,
          23904812,
          23393264,
          23303192,
          20206963,
          19888667,
          19849125,
          19619703,
          19277805,
          16433617,
          15785679,
          15752178,
          15744802,
          15711235,
          14772333,
          14623301,
          13711444,
          13583275,
          13416879,
          13368704,
          13302035,
          11500149,
          11442006,
          11103823,
          10932354,
          10132318,
          7784973,
          7564439,
          7143297,
          7064059,
          7031897,
          6956053,
          6521030,
          6427721,
          6131981,
          5905454,
          5902256,
          5770775,
          5651734,
          5555172,
          5484029,
          5438149,
          5375517,
          4889378,
          4810913,
          4790991,
          4757319,
          4727410,
          4700081,
          4666545,
          4440296,
          4406402,
          4284751
         ],
         "yaxis": "y"
        },
        {
         "fillpattern": {
          "shape": ""
         },
         "hovertemplate": "Item=Mangoes, mangosteens, guavas<br>Year=%{x}<br>Value=%{y}<extra></extra>",
         "legendgroup": "Mangoes, mangosteens, guavas",
         "line": {
          "color": "#19d3f3"
         },
         "marker": {
          "symbol": "circle"
         },
         "mode": "lines",
         "name": "Mangoes, mangosteens, guavas",
         "orientation": "v",
         "showlegend": true,
         "stackgroup": "1",
         "type": "scatter",
         "x": [
          2019,
          2018,
          2017,
          2016,
          2015,
          2014,
          2013,
          2012,
          2011,
          2010,
          2008,
          2007,
          2009,
          2003,
          2006,
          2005,
          2004,
          1995,
          1997,
          1994,
          1996,
          2000,
          1998,
          1987,
          1993,
          2001,
          2002,
          1986,
          1999,
          1985,
          1992,
          1984,
          1983,
          1991,
          1982,
          1990,
          1981,
          1989,
          1980,
          1979,
          1988,
          1978,
          1977,
          1976,
          1974,
          1975,
          1973,
          1972,
          1968,
          1971,
          1969,
          1970,
          1967,
          1963,
          1965,
          1966,
          1964,
          1962,
          1961
         ],
         "xaxis": "x",
         "y": [
          25631000,
          24966000,
          23332000,
          18643000,
          18527000,
          18431330,
          18002000,
          16196000,
          15188000,
          15026700,
          13997000,
          13734000,
          12750000,
          12733200,
          12663100,
          11829700,
          11490000,
          11000000,
          11000000,
          10990000,
          10937183,
          10503500,
          10230000,
          10113330,
          10110000,
          10056800,
          10020200,
          9871000,
          9781700,
          9337520,
          9223256,
          9154460,
          8833800,
          8752134,
          8662810,
          8645405,
          8515710,
          8504000,
          8363300,
          8216510,
          7927000,
          7527200,
          7456340,
          7400000,
          7300000,
          7300000,
          7200000,
          7200000,
          7100000,
          7100000,
          7100000,
          7100000,
          7100000,
          7000000,
          7000000,
          7000000,
          7000000,
          6988000,
          6988000
         ],
         "yaxis": "y"
        },
        {
         "fillpattern": {
          "shape": ""
         },
         "hovertemplate": "Item=Pulses, Total<br>Year=%{x}<br>Value=%{y}<extra></extra>",
         "legendgroup": "Pulses, Total",
         "line": {
          "color": "#FF6692"
         },
         "marker": {
          "symbol": "circle"
         },
         "mode": "lines",
         "name": "Pulses, Total",
         "orientation": "v",
         "showlegend": true,
         "stackgroup": "1",
         "type": "scatter",
         "x": [
          2018,
          2017,
          2019,
          2014,
          2013,
          2016,
          2011,
          2015,
          2010,
          2012,
          1999,
          1995,
          2007,
          1991,
          1997,
          2009,
          2006,
          2008,
          2000,
          1989,
          2004,
          1986,
          1994,
          1996,
          1998,
          2002,
          2005,
          1961,
          1990,
          2003,
          1976,
          1984,
          1983,
          1993,
          2001,
          1970,
          1965,
          1992,
          1985,
          1968,
          1987,
          1988,
          1962,
          1978,
          1977,
          1979,
          1963,
          1971,
          1982,
          1981,
          1973,
          1972,
          1975,
          1969,
          1964,
          1966,
          1974,
          1980,
          1967
         ],
         "xaxis": "x",
         "y": [
          25504070,
          23745109,
          21515549,
          20027000,
          18944200,
          18144493,
          17647000,
          17314200,
          17236300,
          16834700,
          15137600,
          14902800,
          14786700,
          14265000,
          14117800,
          14071500,
          13998800,
          13772200,
          13712800,
          13690300,
          13545300,
          13311100,
          13305000,
          13216700,
          13004500,
          12933600,
          12876100,
          12859873,
          12856900,
          12737000,
          12715700,
          12505700,
          12495900,
          12366200,
          12176500,
          12085700,
          12073700,
          12013400,
          11976500,
          11957300,
          11957000,
          11753900,
          11735312,
          11734000,
          11617900,
          11531700,
          11527531,
          11442300,
          11329500,
          10828000,
          10824300,
          10808500,
          10591700,
          10567100,
          10301900,
          9802200,
          9506000,
          9167100,
          8665700
         ],
         "yaxis": "y"
        },
        {
         "fillpattern": {
          "shape": ""
         },
         "hovertemplate": "Item=Onions, dry<br>Year=%{x}<br>Value=%{y}<extra></extra>",
         "legendgroup": "Onions, dry",
         "line": {
          "color": "#B6E880"
         },
         "marker": {
          "symbol": "circle"
         },
         "mode": "lines",
         "name": "Onions, dry",
         "orientation": "v",
         "showlegend": true,
         "stackgroup": "1",
         "type": "scatter",
         "x": [
          2018,
          2019,
          2017,
          2016,
          2014,
          2013,
          2015,
          2011,
          2012,
          2010,
          2007,
          2008,
          2009,
          2006,
          2005,
          2004,
          2003,
          1998,
          2001,
          1999,
          2000,
          2002,
          1996,
          1995,
          1994,
          1993,
          1991,
          1992,
          1988,
          1990,
          1997,
          1984,
          1989,
          1985,
          1987,
          1983,
          1981,
          1986,
          1980,
          1979,
          1982,
          1977,
          1978,
          1975,
          1974,
          1973,
          1976,
          1972,
          1971,
          1970,
          1969,
          1968,
          1967,
          1966,
          1965,
          1964,
          1963,
          1962,
          1961
         ],
         "xaxis": "x",
         "y": [
          23262000,
          22819000,
          22427000,
          20931000,
          19401680,
          19299000,
          18927000,
          17511090,
          16813000,
          15118000,
          13900000,
          13565000,
          12158800,
          10847000,
          9432500,
          7760600,
          6267600,
          5331900,
          5252100,
          4899500,
          4721100,
          4209500,
          4180000,
          4080000,
          4040000,
          4010000,
          3584700,
          3490000,
          3347300,
          3226200,
          3200000,
          3098900,
          3065100,
          2862700,
          2700700,
          2699100,
          2647900,
          2532600,
          2504300,
          2499700,
          2426600,
          2230000,
          2200000,
          2100000,
          2000000,
          1980000,
          1950000,
          1920000,
          1900000,
          1800000,
          1750000,
          1700000,
          1629000,
          1350000,
          1320000,
          1290000,
          1260000,
          1230000,
          1200000
         ],
         "yaxis": "y"
        },
        {
         "fillpattern": {
          "shape": ""
         },
         "hovertemplate": "Item=Tomatoes<br>Year=%{x}<br>Value=%{y}<extra></extra>",
         "legendgroup": "Tomatoes",
         "line": {
          "color": "#FF97FF"
         },
         "marker": {
          "symbol": "circle"
         },
         "mode": "lines",
         "name": "Tomatoes",
         "orientation": "v",
         "showlegend": true,
         "stackgroup": "1",
         "type": "scatter",
         "x": [
          2017,
          2018,
          2019,
          2014,
          2016,
          2012,
          2013,
          2011,
          2015,
          2010,
          2009,
          2008,
          2007,
          2006,
          2005,
          1999,
          2004,
          2003,
          2002,
          2000,
          2001,
          1997,
          1998,
          1996,
          1995,
          1993,
          1994,
          1992,
          1990,
          1989,
          1991,
          1988,
          1987,
          1985,
          1986,
          1984,
          1983,
          1981,
          1982,
          1980,
          1979,
          1976,
          1977,
          1978,
          1975,
          1974,
          1973,
          1972,
          1971,
          1970,
          1969,
          1968,
          1967,
          1966,
          1965,
          1964,
          1963,
          1962,
          1961
         ],
         "xaxis": "x",
         "y": [
          20708000,
          19759000,
          19007000,
          18735910,
          18732000,
          18653000,
          18227000,
          16526000,
          16385000,
          12433200,
          11148800,
          10303000,
          10055000,
          9820400,
          8825400,
          8270000,
          8125600,
          7616700,
          7462300,
          7430000,
          7240000,
          7000000,
          6180000,
          6000000,
          5260000,
          5000000,
          4930000,
          4849568,
          4603446,
          4600000,
          4244366,
          3103301,
          2386776,
          2300000,
          2280000,
          2100000,
          2000000,
          1800000,
          1750000,
          1500000,
          1300000,
          1050000,
          1020000,
          950000,
          830000,
          750000,
          660000,
          650000,
          640000,
          620000,
          600000,
          580000,
          560000,
          540000,
          525000,
          510000,
          495000,
          480000,
          464000
         ],
         "yaxis": "y"
        },
        {
         "fillpattern": {
          "shape": ""
         },
         "hovertemplate": "Item=Seed cotton<br>Year=%{x}<br>Value=%{y}<extra></extra>",
         "legendgroup": "Seed cotton",
         "line": {
          "color": "#FECB52"
         },
         "marker": {
          "symbol": "circle"
         },
         "mode": "lines",
         "name": "Seed cotton",
         "orientation": "v",
         "showlegend": true,
         "stackgroup": "1",
         "type": "scatter",
         "x": [
          2011,
          2013,
          2019,
          2014,
          2012,
          2010,
          2017,
          2016,
          2015,
          2018,
          2007,
          2009,
          2006,
          2008,
          2005,
          2004,
          1996,
          2003,
          1995,
          1998,
          1994,
          1999,
          1989,
          1992,
          1997,
          1993,
          2001,
          1990,
          1991,
          2000,
          1988,
          1985,
          2002,
          1984,
          1978,
          1981,
          1979,
          1980,
          1974,
          1982,
          1971,
          1977,
          1973,
          1986,
          1972,
          1975,
          1967,
          1963,
          1983,
          1987,
          1962,
          1976,
          1964,
          1968,
          1969,
          1965,
          1966,
          1970,
          1961
         ],
         "xaxis": "x",
         "y": [
          19178000,
          18913000,
          18550000,
          18488000,
          18179000,
          17760000,
          17425000,
          17308000,
          15943000,
          14657000,
          13751000,
          12761000,
          12023000,
          11834000,
          9828000,
          8728000,
          7560000,
          7294000,
          6832000,
          6528000,
          6316000,
          6125000,
          6067000,
          6058000,
          5765000,
          5706000,
          5311000,
          5228000,
          5161000,
          5128000,
          4645000,
          4636000,
          4582000,
          4519000,
          4228000,
          4186000,
          4091000,
          4038000,
          4031000,
          4000000,
          3931000,
          3850000,
          3747000,
          3668000,
          3638000,
          3625000,
          3591000,
          3556000,
          3393000,
          3390000,
          3353000,
          3353000,
          3334000,
          3319000,
          3288000,
          3116000,
          3116000,
          2981000,
          2763000
         ],
         "yaxis": "y"
        },
        {
         "fillpattern": {
          "shape": ""
         },
         "hovertemplate": "Item=Coconuts<br>Year=%{x}<br>Value=%{y}<extra></extra>",
         "legendgroup": "Coconuts",
         "line": {
          "color": "#636efa"
         },
         "marker": {
          "symbol": "circle"
         },
         "mode": "lines",
         "name": "Coconuts",
         "orientation": "v",
         "showlegend": true,
         "stackgroup": "1",
         "type": "scatter",
         "x": [
          2018,
          2019,
          2013,
          2016,
          2015,
          2017,
          2014,
          2007,
          2010,
          2009,
          2012,
          2011,
          2006,
          2008,
          1994,
          1996,
          1995,
          1997,
          2002,
          1993,
          2005,
          1998,
          2001,
          2003,
          1999,
          2004,
          1992,
          2000,
          1991,
          1990,
          1989,
          1988,
          1987,
          1984,
          1985,
          1982,
          1986,
          1971,
          1970,
          1974,
          1972,
          1969,
          1973,
          1975,
          1983,
          1976,
          1978,
          1980,
          1979,
          1981,
          1968,
          1977,
          1967,
          1966,
          1964,
          1965,
          1962,
          1963,
          1961
         ],
         "xaxis": "x",
         "y": [
          16413000,
          14682000,
          11930000,
          11344306,
          11209641,
          11166772,
          11078873,
          10894000,
          10840000,
          10824300,
          10560000,
          10280000,
          10190000,
          10148300,
          9881900,
          9700000,
          9622667,
          8990000,
          8920000,
          8894000,
          8829000,
          8750000,
          8670000,
          8630000,
          8630000,
          8380000,
          8351000,
          8350000,
          7500000,
          7230000,
          6954000,
          6346000,
          5402000,
          5136200,
          5030000,
          4767000,
          4738000,
          4550000,
          4514000,
          4479993,
          4455920,
          4352494,
          4346996,
          4331244,
          4315200,
          4284000,
          4257000,
          4250000,
          4188000,
          4138500,
          4120678,
          4022000,
          3953503,
          3858000,
          3746949,
          3741005,
          3727631,
          3511000,
          3328000
         ],
         "yaxis": "y"
        },
        {
         "fillpattern": {
          "shape": ""
         },
         "hovertemplate": "Item=Soybeans<br>Year=%{x}<br>Value=%{y}<extra></extra>",
         "legendgroup": "Soybeans",
         "line": {
          "color": "#EF553B"
         },
         "marker": {
          "symbol": "circle"
         },
         "mode": "lines",
         "name": "Soybeans",
         "orientation": "v",
         "showlegend": true,
         "stackgroup": "1",
         "type": "scatter",
         "x": [
          2012,
          2019,
          2016,
          2017,
          2010,
          2011,
          2013,
          2007,
          2018,
          2014,
          2009,
          2008,
          2006,
          2015,
          2005,
          2003,
          1998,
          1999,
          2004,
          1997,
          2001,
          1996,
          2000,
          1995,
          1993,
          2002,
          1994,
          1992,
          1990,
          1991,
          1989,
          1988,
          1985,
          1984,
          1987,
          1986,
          1983,
          1982,
          1980,
          1981,
          1978,
          1979,
          1977,
          1976,
          1975,
          1974,
          1973,
          1972,
          1970,
          1969,
          1971,
          1967,
          1968,
          1965,
          1966,
          1963,
          1964,
          1962,
          1961
         ],
         "xaxis": "x",
         "y": [
          14666000,
          13267520,
          13159000,
          13158730,
          12736000,
          12214000,
          11861000,
          10968000,
          10932970,
          10374000,
          9964500,
          9905400,
          8857000,
          8570000,
          8273500,
          7818900,
          7143000,
          7081400,
          6876300,
          6463100,
          5962700,
          5400000,
          5275800,
          5096000,
          4745200,
          4654700,
          3931900,
          3390000,
          2601500,
          2492000,
          1805600,
          1547100,
          1024100,
          954800,
          898300,
          891400,
          614300,
          491000,
          442000,
          352000,
          299000,
          282000,
          183000,
          123000,
          91000,
          51000,
          39000,
          28000,
          14000,
          14000,
          14000,
          12000,
          12000,
          10000,
          10000,
          8000,
          8000,
          5000,
          5000
         ],
         "yaxis": "y"
        },
        {
         "fillpattern": {
          "shape": ""
         },
         "hovertemplate": "Item=Millet<br>Year=%{x}<br>Value=%{y}<extra></extra>",
         "legendgroup": "Millet",
         "line": {
          "color": "#00cc96"
         },
         "marker": {
          "symbol": "circle"
         },
         "mode": "lines",
         "name": "Millet",
         "orientation": "v",
         "showlegend": true,
         "stackgroup": "1",
         "type": "scatter",
         "x": [
          2003,
          2010,
          2007,
          2011,
          1992,
          1983,
          1970,
          2018,
          2015,
          1973,
          2017,
          2014,
          2008,
          1988,
          2001,
          1996,
          2013,
          2004,
          2012,
          1989,
          1978,
          2005,
          1975,
          1990,
          1997,
          2006,
          1994,
          2016,
          2019,
          1998,
          1981,
          2000,
          1984,
          1977,
          1976,
          1980,
          1971,
          1969,
          1967,
          2009,
          1999,
          1995,
          1982,
          1964,
          1993,
          1986,
          1991,
          1979,
          1963,
          1962,
          1961,
          1966,
          1972,
          1985,
          1968,
          1974,
          1987,
          1965,
          2002
         ],
         "xaxis": "x",
         "y": [
          14638800,
          13293000,
          12673000,
          12660000,
          12280900,
          12232000,
          12171600,
          11633080,
          11630000,
          11557000,
          11556890,
          11420000,
          11371800,
          11352900,
          11235300,
          10940500,
          10910000,
          10841300,
          10750000,
          10721100,
          10660700,
          10509200,
          10456600,
          10423800,
          10376200,
          10346900,
          10299300,
          10280000,
          10235830,
          10234500,
          10136200,
          10077800,
          9770700,
          9666000,
          9649700,
          9336900,
          9197000,
          9176000,
          8976300,
          8776800,
          8689900,
          8661100,
          8583400,
          8506000,
          8488400,
          8383300,
          8128900,
          8094200,
          7921000,
          7855000,
          7725000,
          7587000,
          7404500,
          7399100,
          7253500,
          7020900,
          6865900,
          6634000,
          6493900
         ],
         "yaxis": "y"
        },
        {
         "fillpattern": {
          "shape": ""
         },
         "hovertemplate": "Item=Citrus Fruit, Total<br>Year=%{x}<br>Value=%{y}<extra></extra>",
         "legendgroup": "Citrus Fruit, Total",
         "line": {
          "color": "#ab63fa"
         },
         "marker": {
          "symbol": "circle"
         },
         "mode": "lines",
         "name": "Citrus Fruit, Total",
         "orientation": "v",
         "showlegend": true,
         "stackgroup": "1",
         "type": "scatter",
         "x": [
          2019,
          2018,
          2015,
          2016,
          2017,
          2014,
          2013,
          2010,
          2009,
          2008,
          2012,
          2011,
          2007,
          2006,
          2004,
          2005,
          2002,
          2000,
          2001,
          1999,
          1997,
          1998,
          2003,
          1996,
          1993,
          1994,
          1990,
          1991,
          1995,
          1989,
          1987,
          1992,
          1988,
          1986,
          1976,
          1984,
          1983,
          1985,
          1972,
          1974,
          1982,
          1971,
          1981,
          1970,
          1975,
          1980,
          1973,
          1968,
          1979,
          1978,
          1977,
          1969,
          1967,
          1966,
          1965,
          1961,
          1964,
          1962,
          1963
         ],
         "xaxis": "x",
         "y": [
          14013000,
          12545000,
          11702000,
          11581000,
          11419000,
          11146630,
          10090000,
          9638000,
          8623080,
          8015000,
          7922000,
          7464000,
          7145000,
          6139000,
          5021500,
          4620100,
          4524200,
          4416200,
          4171900,
          3964600,
          3833400,
          3685500,
          3623500,
          3178300,
          3000000,
          2991900,
          2927000,
          2843031,
          2765800,
          2760000,
          2255000,
          2185000,
          2173000,
          2076000,
          2048000,
          1952000,
          1914000,
          1870000,
          1825000,
          1810000,
          1808000,
          1785000,
          1759000,
          1730000,
          1710000,
          1706000,
          1705000,
          1666000,
          1658000,
          1612000,
          1583000,
          1570000,
          1497000,
          1396000,
          1276000,
          1212000,
          1187000,
          1165000,
          1165000
         ],
         "yaxis": "y"
        },
        {
         "fillpattern": {
          "shape": ""
         },
         "hovertemplate": "Item=Eggplants (aubergines)<br>Year=%{x}<br>Value=%{y}<extra></extra>",
         "legendgroup": "Eggplants (aubergines)",
         "line": {
          "color": "#FFA15A"
         },
         "marker": {
          "symbol": "circle"
         },
         "mode": "lines",
         "name": "Eggplants (aubergines)",
         "orientation": "v",
         "showlegend": true,
         "stackgroup": "1",
         "type": "scatter",
         "x": [
          2014,
          2013,
          2018,
          2019,
          2012,
          2015,
          2016,
          2017,
          2011,
          2010,
          2009,
          2008,
          2007,
          2006,
          2005,
          2004,
          2002,
          2000,
          1999,
          2003,
          1998,
          2001,
          1995,
          1997,
          1996,
          1993,
          1994,
          1991,
          1990,
          1989,
          1988,
          1987,
          1992,
          1986,
          1985,
          1984,
          1983,
          1982,
          1981,
          1980,
          1979,
          1978,
          1977,
          1976,
          1975,
          1974,
          1973,
          1972,
          1971,
          1970,
          1969,
          1968,
          1967,
          1966,
          1965,
          1964,
          1963,
          1962,
          1961
         ],
         "xaxis": "x",
         "y": [
          13557820,
          13444000,
          12801000,
          12680000,
          12634000,
          12589000,
          12515000,
          12510000,
          11896000,
          10563000,
          10377600,
          9678000,
          9453000,
          9364300,
          8600800,
          8477300,
          8350000,
          8120000,
          7880000,
          7830000,
          7740000,
          7700000,
          6230000,
          6100000,
          6000000,
          5011000,
          4420000,
          3124000,
          3000000,
          2960000,
          2870000,
          2775000,
          2753000,
          2660000,
          2550000,
          2480000,
          2360000,
          2300000,
          2180000,
          2000000,
          1940000,
          1880000,
          1810000,
          1760000,
          1700000,
          1660000,
          1635000,
          1585000,
          1540000,
          1480000,
          1400000,
          1365000,
          1300000,
          1230000,
          1200000,
          1150000,
          1100000,
          1050000,
          990000
         ],
         "yaxis": "y"
        },
        {
         "fillpattern": {
          "shape": ""
         },
         "hovertemplate": "Item=Sorghum<br>Year=%{x}<br>Value=%{y}<extra></extra>",
         "legendgroup": "Sorghum",
         "line": {
          "color": "#19d3f3"
         },
         "marker": {
          "symbol": "circle"
         },
         "mode": "lines",
         "name": "Sorghum",
         "orientation": "v",
         "showlegend": true,
         "stackgroup": "1",
         "type": "scatter",
         "x": [
          1989,
          1992,
          1987,
          1977,
          1981,
          1983,
          1990,
          1979,
          1978,
          1993,
          1984,
          1996,
          1982,
          1976,
          1980,
          1974,
          1985,
          1988,
          1967,
          1968,
          1962,
          1969,
          1964,
          1975,
          1995,
          1966,
          1963,
          1986,
          1973,
          1994,
          1999,
          1998,
          1970,
          1991,
          1961,
          2008,
          1971,
          2006,
          1965,
          2001,
          2000,
          1997,
          2009,
          2005,
          2007,
          2002,
          2003,
          2011,
          1972,
          2010,
          2004,
          2012,
          2014,
          2015,
          2013,
          2018,
          2017,
          2016,
          2019
         ],
         "xaxis": "x",
         "y": [
          12898400,
          12806000,
          12196300,
          12064300,
          12061900,
          11919000,
          11681200,
          11647700,
          11436100,
          11415000,
          11402300,
          10934000,
          10753400,
          10524100,
          10431000,
          10414200,
          10197000,
          10170400,
          10048200,
          9803600,
          9748000,
          9721000,
          9683000,
          9504300,
          9327000,
          9224000,
          9198000,
          9185400,
          9097000,
          8965000,
          8684900,
          8415400,
          8104900,
          8099000,
          8029000,
          7925900,
          7721900,
          7629600,
          7581000,
          7556800,
          7529400,
          7528000,
          7245600,
          7244300,
          7150800,
          7070000,
          7012400,
          7003100,
          6967600,
          6698200,
          6681300,
          5980000,
          5540000,
          5450000,
          5280000,
          4803380,
          4567900,
          4240000,
          3475410
         ],
         "yaxis": "y"
        },
        {
         "fillpattern": {
          "shape": ""
         },
         "hovertemplate": "Item=Oilcrops, Oil Equivalent<br>Year=%{x}<br>Value=%{y}<extra></extra>",
         "legendgroup": "Oilcrops, Oil Equivalent",
         "line": {
          "color": "#FF6692"
         },
         "marker": {
          "symbol": "circle"
         },
         "mode": "lines",
         "name": "Oilcrops, Oil Equivalent",
         "orientation": "v",
         "showlegend": true,
         "stackgroup": "1",
         "type": "scatter",
         "x": [
          2013,
          2018,
          2019,
          2011,
          2017,
          2007,
          2010,
          2014,
          2016,
          2012,
          2005,
          2015,
          2008,
          2009,
          2006,
          1996,
          1997,
          2004,
          1995,
          1998,
          1994,
          1992,
          2003,
          1993,
          1999,
          2000,
          2001,
          1991,
          1990,
          1989,
          1988,
          2002,
          1984,
          1985,
          1987,
          1983,
          1981,
          1986,
          1975,
          1982,
          1978,
          1971,
          1973,
          1977,
          1979,
          1970,
          1976,
          1974,
          1980,
          1967,
          1964,
          1969,
          1963,
          1962,
          1968,
          1972,
          1961,
          1965,
          1966
         ],
         "xaxis": "x",
         "y": [
          12729400,
          12699968,
          12621611,
          12276902,
          11916907,
          11880013,
          11822141,
          11778959,
          11471806,
          11199363,
          10325528,
          10309578,
          10051917,
          10012733,
          9930489,
          9298333,
          8902930,
          8873328,
          8693522,
          8686951,
          8519344,
          8386126,
          8370278,
          8086466,
          7759922,
          7744946,
          7455775,
          7365265,
          7100890,
          7057777,
          6745634,
          6525240,
          5185039,
          4838656,
          4828793,
          4826690,
          4823119,
          4677596,
          4497041,
          4422778,
          4171131,
          4135959,
          4005864,
          3996671,
          3991235,
          3897657,
          3869345,
          3809064,
          3620642,
          3449805,
          3408226,
          3370299,
          3329175,
          3321564,
          3292939,
          3237656,
          3118520,
          3081158,
          3020923
         ],
         "yaxis": "y"
        },
        {
         "fillpattern": {
          "shape": ""
         },
         "hovertemplate": "Item=Chick peas<br>Year=%{x}<br>Value=%{y}<extra></extra>",
         "legendgroup": "Chick peas",
         "line": {
          "color": "#B6E880"
         },
         "marker": {
          "symbol": "circle"
         },
         "mode": "lines",
         "name": "Chick peas",
         "orientation": "v",
         "showlegend": true,
         "stackgroup": "1",
         "type": "scatter",
         "x": [
          2018,
          2019,
          2014,
          2017,
          2013,
          2011,
          2012,
          2010,
          2015,
          2009,
          2016,
          1999,
          1995,
          2007,
          1961,
          1998,
          1968,
          1976,
          1986,
          1962,
          1965,
          2008,
          1979,
          2004,
          2006,
          1997,
          1970,
          2002,
          2005,
          1977,
          1978,
          1963,
          1991,
          1983,
          1971,
          1989,
          2000,
          1972,
          1994,
          1996,
          1984,
          1982,
          1985,
          1973,
          1987,
          1964,
          1993,
          1981,
          1969,
          2003,
          1966,
          1990,
          1992,
          1974,
          1975,
          2001,
          1988,
          1967,
          1980
         ],
         "xaxis": "x",
         "y": [
          11379190,
          9937990,
          9530000,
          9377560,
          8832500,
          8220000,
          7700000,
          7480000,
          7332000,
          7060000,
          7058000,
          6800700,
          6435500,
          6333700,
          6250000,
          6132200,
          5971500,
          5879500,
          5787900,
          5785000,
          5777000,
          5748600,
          5738800,
          5717500,
          5575400,
          5565900,
          5545600,
          5473000,
          5469400,
          5424300,
          5409500,
          5362000,
          5356400,
          5289900,
          5199200,
          5129100,
          5118100,
          5080700,
          4980800,
          4979000,
          4750000,
          4642100,
          4561400,
          4536800,
          4531800,
          4502000,
          4416700,
          4328000,
          4309500,
          4236800,
          4224000,
          4217300,
          4121000,
          4099000,
          4014800,
          3855400,
          3625500,
          3622000,
          3356300
         ],
         "yaxis": "y"
        },
        {
         "fillpattern": {
          "shape": ""
         },
         "hovertemplate": "Item=Fruit, fresh nes<br>Year=%{x}<br>Value=%{y}<extra></extra>",
         "legendgroup": "Fruit, fresh nes",
         "line": {
          "color": "#FF97FF"
         },
         "marker": {
          "symbol": "circle"
         },
         "mode": "lines",
         "name": "Fruit, fresh nes",
         "orientation": "v",
         "showlegend": true,
         "stackgroup": "1",
         "type": "scatter",
         "x": [
          2019,
          2018,
          2017,
          2015,
          2016,
          2014,
          2013,
          2012,
          1998,
          2011,
          2008,
          2009,
          2010,
          2006,
          1999,
          2003,
          2001,
          2002,
          2007,
          2000,
          2005,
          1997,
          1996,
          2004,
          1995,
          1992,
          1994,
          1993,
          1986,
          1987,
          1991,
          1990,
          1984,
          1989,
          1985,
          1988,
          1983,
          1982,
          1981,
          1980,
          1979,
          1978,
          1977,
          1975,
          1974,
          1976,
          1973,
          1971,
          1969,
          1970,
          1968,
          1972,
          1967,
          1966,
          1964,
          1965,
          1962,
          1963,
          1961
         ],
         "xaxis": "x",
         "y": [
          10755000,
          10605000,
          10515000,
          10000000,
          9899665,
          9872000,
          9315000,
          8224000,
          8030000,
          7583000,
          7321000,
          7234000,
          7201000,
          6737100,
          6660000,
          6650000,
          6580000,
          6530000,
          6244400,
          5750000,
          5729400,
          5100000,
          5000000,
          4693000,
          4600000,
          4350000,
          4320000,
          4240000,
          3370000,
          3120000,
          3105000,
          2875590,
          2775000,
          2700000,
          2610000,
          2410000,
          1830000,
          1780000,
          1705000,
          1625000,
          1560000,
          1520000,
          1490000,
          1440000,
          1410000,
          1390000,
          1380000,
          1320000,
          1265000,
          1200000,
          1200000,
          1200000,
          1150000,
          1090000,
          965000,
          930000,
          860000,
          860000,
          780000
         ],
         "yaxis": "y"
        },
        {
         "fillpattern": {
          "shape": ""
         },
         "hovertemplate": "Item=Groundnuts, with shell<br>Year=%{x}<br>Value=%{y}<extra></extra>",
         "legendgroup": "Groundnuts, with shell",
         "line": {
          "color": "#FECB52"
         },
         "marker": {
          "symbol": "circle"
         },
         "mode": "lines",
         "name": "Groundnuts, with shell",
         "orientation": "v",
         "showlegend": true,
         "stackgroup": "1",
         "type": "scatter",
         "x": [
          1988,
          2013,
          2018,
          2007,
          1998,
          1996,
          1992,
          2010,
          2003,
          1989,
          1994,
          2005,
          1993,
          1995,
          1990,
          2016,
          2017,
          2014,
          1997,
          1981,
          2008,
          1991,
          1983,
          2001,
          2011,
          2004,
          1975,
          2015,
          2019,
          2000,
          1984,
          1978,
          1971,
          1970,
          1977,
          1964,
          1973,
          1986,
          1987,
          1979,
          1967,
          2009,
          1963,
          1982,
          1976,
          1999,
          1969,
          1985,
          1974,
          1962,
          1980,
          1961,
          2006,
          2012,
          1968,
          1966,
          1965,
          2002,
          1972
         ],
         "xaxis": "x",
         "y": [
          9658000,
          9472000,
          9252570,
          9182500,
          8981600,
          8643000,
          8565000,
          8265000,
          8126500,
          8100000,
          8062000,
          7993300,
          7830000,
          7579000,
          7514700,
          7462000,
          7461530,
          7402000,
          7370000,
          7223000,
          7168100,
          7094600,
          7085000,
          7027500,
          6964000,
          6774400,
          6754700,
          6733000,
          6727180,
          6480300,
          6436000,
          6208200,
          6180500,
          6111100,
          6087100,
          6004000,
          5932000,
          5875400,
          5853600,
          5768000,
          5730900,
          5428500,
          5298000,
          5282300,
          5263900,
          5258100,
          5130100,
          5121300,
          5111000,
          5064000,
          5005000,
          4994000,
          4863500,
          4695000,
          4630700,
          4411000,
          4263000,
          4121100,
          4091600
         ],
         "yaxis": "y"
        },
        {
         "fillpattern": {
          "shape": ""
         },
         "hovertemplate": "Item=Cassava<br>Year=%{x}<br>Value=%{y}<extra></extra>",
         "legendgroup": "Cassava",
         "line": {
          "color": "#636efa"
         },
         "marker": {
          "symbol": "circle"
         },
         "mode": "lines",
         "name": "Cassava",
         "orientation": "v",
         "showlegend": true,
         "stackgroup": "1",
         "type": "scatter",
         "x": [
          2009,
          2008,
          2012,
          2007,
          2014,
          2011,
          2010,
          2006,
          2005,
          2013,
          2001,
          1998,
          1976,
          2002,
          1974,
          1977,
          1973,
          1975,
          1979,
          1994,
          1972,
          2000,
          2004,
          1984,
          1981,
          1995,
          1980,
          1992,
          1999,
          1978,
          1997,
          1985,
          1996,
          2003,
          1988,
          1991,
          1993,
          1983,
          1982,
          1970,
          1971,
          2019,
          1990,
          2018,
          1986,
          1989,
          1987,
          1968,
          1969,
          2015,
          2016,
          2017,
          1967,
          1966,
          1965,
          1964,
          1961,
          1962,
          1963
         ],
         "xaxis": "x",
         "y": [
          9623000,
          9056000,
          8746500,
          8232300,
          8139430,
          8076000,
          8059800,
          7854900,
          7462800,
          7236600,
          6768400,
          6681900,
          6638300,
          6515900,
          6420900,
          6375000,
          6371400,
          6325900,
          6050100,
          6028900,
          6025900,
          6014100,
          5949600,
          5886200,
          5868100,
          5856800,
          5845300,
          5832500,
          5830000,
          5688300,
          5662800,
          5662100,
          5443200,
          5426200,
          5416500,
          5416200,
          5412800,
          5340900,
          5292000,
          5214100,
          5129600,
          4976000,
          4962000,
          4950000,
          4884300,
          4832600,
          4814400,
          4643700,
          4636100,
          4373000,
          4344000,
          4171000,
          3817000,
          3467000,
          3033000,
          2823000,
          1969000,
          1892000,
          1757000
         ],
         "yaxis": "y"
        },
        {
         "fillpattern": {
          "shape": ""
         },
         "hovertemplate": "Item=Oranges<br>Year=%{x}<br>Value=%{y}<extra></extra>",
         "legendgroup": "Oranges",
         "line": {
          "color": "#EF553B"
         },
         "marker": {
          "symbol": "circle"
         },
         "mode": "lines",
         "name": "Oranges",
         "orientation": "v",
         "showlegend": true,
         "stackgroup": "1",
         "type": "scatter",
         "x": [
          2019,
          2018,
          2015,
          2017,
          2016,
          2014,
          2013,
          2010,
          2009,
          2008,
          2011,
          2012,
          2007,
          2006,
          2005,
          2004,
          2002,
          2000,
          2001,
          1997,
          1999,
          1998,
          1996,
          1990,
          2003,
          1989,
          1993,
          1991,
          1994,
          1995,
          1987,
          1976,
          1988,
          1983,
          1985,
          1984,
          1986,
          1992,
          1972,
          1974,
          1982,
          1971,
          1968,
          1981,
          1973,
          1970,
          1980,
          1975,
          1977,
          1979,
          1969,
          1978,
          1967,
          1966,
          1965,
          1961,
          1964,
          1963,
          1962
         ],
         "xaxis": "x",
         "y": [
          9509000,
          8367000,
          7710000,
          7647000,
          7581000,
          7317610,
          6426200,
          5966400,
          5201350,
          4860300,
          4571000,
          4360400,
          4266900,
          3437400,
          3314000,
          3263200,
          2870500,
          2674700,
          2574700,
          2564000,
          2446800,
          2354200,
          2041300,
          2010000,
          1921900,
          1920000,
          1895000,
          1890000,
          1883200,
          1595200,
          1500000,
          1400000,
          1400000,
          1358000,
          1350000,
          1347000,
          1346000,
          1330000,
          1300000,
          1300000,
          1258000,
          1250000,
          1213000,
          1209000,
          1200000,
          1200000,
          1171000,
          1150000,
          1138000,
          1130000,
          1100000,
          1070000,
          1000000,
          900000,
          780000,
          752000,
          691000,
          670000,
          670000
         ],
         "yaxis": "y"
        },
        {
         "fillpattern": {
          "shape": ""
         },
         "hovertemplate": "Item=Rapeseed<br>Year=%{x}<br>Value=%{y}<extra></extra>",
         "legendgroup": "Rapeseed",
         "line": {
          "color": "#00cc96"
         },
         "marker": {
          "symbol": "circle"
         },
         "mode": "lines",
         "name": "Rapeseed",
         "orientation": "v",
         "showlegend": true,
         "stackgroup": "1",
         "type": "scatter",
         "x": [
          2019,
          2018,
          2011,
          2006,
          2017,
          2014,
          2013,
          2005,
          2007,
          2009,
          2016,
          1997,
          2010,
          2012,
          2004,
          2015,
          1996,
          1992,
          2008,
          2000,
          1995,
          1999,
          1994,
          1991,
          2002,
          1993,
          1998,
          1989,
          2001,
          1990,
          2003,
          1988,
          1985,
          1986,
          1984,
          1987,
          1982,
          1981,
          1975,
          1983,
          1971,
          1976,
          1979,
          1973,
          1974,
          1978,
          1968,
          1970,
          1977,
          1965,
          1972,
          1980,
          1961,
          1969,
          1962,
          1963,
          1966,
          1967,
          1964
         ],
         "xaxis": "x",
         "y": [
          9255660,
          8429850,
          8179000,
          8131200,
          7917230,
          7877000,
          7820000,
          7593100,
          7438000,
          7200700,
          6797000,
          6657900,
          6608100,
          6600000,
          6291400,
          6282000,
          5999500,
          5862500,
          5834000,
          5788400,
          5758000,
          5663900,
          5327900,
          5229300,
          5082600,
          4800000,
          4702900,
          4376800,
          4187200,
          4125300,
          3879800,
          3454500,
          3073000,
          2680500,
          2608000,
          2604700,
          2381500,
          2304300,
          2251600,
          2207200,
          1975300,
          1935800,
          1860100,
          1807800,
          1704300,
          1649700,
          1567700,
          1563600,
          1550700,
          1474000,
          1432800,
          1428000,
          1347000,
          1346700,
          1346000,
          1303000,
          1298000,
          1227900,
          915000
         ],
         "yaxis": "y"
        },
        {
         "fillpattern": {
          "shape": ""
         },
         "hovertemplate": "Item=Cabbages and other brassicas<br>Year=%{x}<br>Value=%{y}<extra></extra>",
         "legendgroup": "Cabbages and other brassicas",
         "line": {
          "color": "#ab63fa"
         },
         "marker": {
          "symbol": "circle"
         },
         "mode": "lines",
         "name": "Cabbages and other brassicas",
         "orientation": "v",
         "showlegend": true,
         "stackgroup": "1",
         "type": "scatter",
         "x": [
          2019,
          2014,
          2018,
          2017,
          2016,
          2015,
          2013,
          2012,
          2011,
          2010,
          2009,
          2005,
          2008,
          2000,
          2002,
          2006,
          1999,
          2004,
          2007,
          2001,
          2003,
          1998,
          1997,
          1996,
          1992,
          1995,
          1994,
          1993,
          1991,
          1990,
          1989,
          1988,
          1986,
          1987,
          1985,
          1984,
          1983,
          1982,
          1981,
          1980,
          1979,
          1978,
          1977,
          1976,
          1975,
          1974,
          1973,
          1972,
          1971,
          1970,
          1969,
          1968,
          1967,
          1966,
          1965,
          1964,
          1963,
          1962,
          1961
         ],
         "xaxis": "x",
         "y": [
          9127000,
          9039220,
          9037000,
          8807000,
          8806000,
          8585000,
          8534000,
          8412000,
          7949000,
          7281400,
          6869600,
          6113500,
          5910000,
          5909400,
          5678200,
          5637300,
          5620000,
          5594600,
          5584000,
          5506500,
          5392000,
          5320000,
          4967500,
          4615000,
          4357050,
          4262500,
          3910000,
          3590000,
          2796431,
          2373632,
          2341561,
          2311789,
          2200000,
          2200000,
          2100000,
          2100000,
          2000000,
          1900000,
          1800000,
          1700000,
          1600000,
          1500000,
          1400000,
          1300000,
          1200000,
          1100000,
          1000000,
          900000,
          800000,
          700000,
          600000,
          500000,
          400000,
          350000,
          325000,
          315000,
          305000,
          295000,
          288000
         ],
         "yaxis": "y"
        },
        {
         "fillpattern": {
          "shape": ""
         },
         "hovertemplate": "Item=Cauliflowers and broccoli<br>Year=%{x}<br>Value=%{y}<extra></extra>",
         "legendgroup": "Cauliflowers and broccoli",
         "line": {
          "color": "#FFA15A"
         },
         "marker": {
          "symbol": "circle"
         },
         "mode": "lines",
         "name": "Cauliflowers and broccoli",
         "orientation": "v",
         "showlegend": true,
         "stackgroup": "1",
         "type": "scatter",
         "x": [
          2019,
          2018,
          2014,
          2017,
          2016,
          2015,
          2013,
          2012,
          2011,
          2010,
          2009,
          2008,
          2007,
          2006,
          1997,
          2004,
          2002,
          2003,
          2000,
          2001,
          1999,
          2005,
          1996,
          1998,
          1992,
          1995,
          1994,
          1990,
          1989,
          1988,
          1991,
          1987,
          1993,
          1986,
          1985,
          1984,
          1983,
          1982,
          1981,
          1980,
          1979,
          1978,
          1977,
          1976,
          1975,
          1974,
          1973,
          1972,
          1971,
          1970,
          1969,
          1968,
          1967,
          1966,
          1965,
          1964,
          1961,
          1963,
          1962
         ],
         "xaxis": "x",
         "y": [
          9083000,
          8668000,
          8573280,
          8557000,
          8090000,
          7926000,
          7887000,
          7349000,
          6745000,
          6569000,
          6531900,
          5777000,
          5538000,
          5323100,
          5000000,
          4940200,
          4890000,
          4800000,
          4720000,
          4690000,
          4690000,
          4514800,
          4500000,
          4470000,
          4220053,
          4000000,
          3780000,
          3394897,
          3200000,
          3000000,
          2998061,
          2900000,
          2870000,
          2700000,
          2600000,
          2400000,
          2300000,
          2200000,
          2000000,
          1900000,
          1800000,
          1600000,
          1500000,
          1400000,
          1300000,
          1300000,
          1100000,
          1100000,
          1000000,
          950000,
          900000,
          750000,
          650000,
          600000,
          520000,
          500000,
          413000,
          410000,
          400000
         ],
         "yaxis": "y"
        },
        {
         "fillpattern": {
          "shape": ""
         },
         "hovertemplate": "Item=Okra<br>Year=%{x}<br>Value=%{y}<extra></extra>",
         "legendgroup": "Okra",
         "line": {
          "color": "#19d3f3"
         },
         "marker": {
          "symbol": "circle"
         },
         "mode": "lines",
         "name": "Okra",
         "orientation": "v",
         "showlegend": true,
         "stackgroup": "1",
         "type": "scatter",
         "x": [
          2013,
          2014,
          2012,
          2019,
          2018,
          2017,
          2016,
          2011,
          2015,
          2010,
          2009,
          2008,
          2007,
          2006,
          1995,
          1996,
          1997,
          2004,
          2003,
          2005,
          2000,
          1999,
          2001,
          2002,
          1998,
          1994,
          1993,
          1992,
          1991,
          1990,
          1989,
          1988,
          1987,
          1986,
          1985,
          1984,
          1983,
          1982,
          1981,
          1980,
          1979,
          1978,
          1977,
          1976,
          1975,
          1974,
          1973,
          1972,
          1971,
          1970,
          1969,
          1968,
          1967,
          1966,
          1965,
          1964,
          1963,
          1962,
          1961
         ],
         "xaxis": "x",
         "y": [
          6350000,
          6346370,
          6259000,
          6176000,
          6095000,
          6003000,
          5849000,
          5784000,
          5709000,
          4803000,
          4528000,
          4179000,
          4070000,
          3974600,
          3900000,
          3800000,
          3700000,
          3631400,
          3530000,
          3512400,
          3420000,
          3380000,
          3340000,
          3320000,
          3210000,
          3030000,
          2405000,
          2400000,
          2327000,
          2280000,
          2250000,
          2190000,
          2110000,
          2050000,
          1950000,
          1900000,
          1850000,
          1770000,
          1740000,
          1700000,
          1625000,
          1550000,
          1530000,
          1480000,
          1430000,
          1375000,
          1340000,
          1240000,
          1190000,
          1150000,
          1050000,
          1000000,
          970000,
          940000,
          900000,
          845000,
          825000,
          790000,
          775000
         ],
         "yaxis": "y"
        },
        {
         "fillpattern": {
          "shape": ""
         },
         "hovertemplate": "Item=Beans, dry<br>Year=%{x}<br>Value=%{y}<extra></extra>",
         "legendgroup": "Beans, dry",
         "line": {
          "color": "#FF6692"
         },
         "marker": {
          "symbol": "circle"
         },
         "mode": "lines",
         "name": "Beans, dry",
         "orientation": "v",
         "showlegend": true,
         "stackgroup": "1",
         "type": "scatter",
         "x": [
          2017,
          2018,
          2016,
          2019,
          2010,
          2011,
          2015,
          2003,
          2014,
          1990,
          1988,
          2013,
          2007,
          1989,
          1992,
          2012,
          1991,
          1996,
          1983,
          1995,
          2001,
          1993,
          2006,
          1987,
          1985,
          1984,
          1986,
          1994,
          2008,
          1997,
          1981,
          2004,
          1999,
          1982,
          2000,
          1975,
          1980,
          1977,
          1973,
          2005,
          2002,
          1998,
          1978,
          1976,
          2009,
          1970,
          1974,
          1964,
          1971,
          1969,
          1967,
          1979,
          1968,
          1963,
          1962,
          1972,
          1965,
          1966,
          1961
         ],
         "xaxis": "x",
         "y": [
          6340000,
          6220000,
          5890000,
          5310000,
          4890000,
          4330000,
          4260000,
          4230800,
          4230000,
          4084900,
          4036300,
          4020000,
          3930000,
          3902000,
          3870400,
          3760000,
          3529000,
          3507800,
          3501700,
          3440000,
          3296200,
          3274700,
          3270000,
          3244600,
          3128000,
          3115200,
          3076600,
          3057400,
          3010000,
          2955800,
          2943900,
          2883900,
          2866000,
          2862100,
          2847000,
          2767400,
          2751600,
          2746500,
          2670300,
          2630800,
          2618800,
          2557600,
          2550600,
          2463300,
          2430000,
          2409000,
          2175100,
          2059400,
          2032800,
          2014000,
          2007100,
          1986400,
          1864700,
          1825800,
          1804505,
          1747400,
          1701700,
          1688500,
          1685627
         ],
         "yaxis": "y"
        },
        {
         "fillpattern": {
          "shape": ""
         },
         "hovertemplate": "Item=Fruit, tropical fresh nes<br>Year=%{x}<br>Value=%{y}<extra></extra>",
         "legendgroup": "Fruit, tropical fresh nes",
         "line": {
          "color": "#B6E880"
         },
         "marker": {
          "symbol": "circle"
         },
         "mode": "lines",
         "name": "Fruit, tropical fresh nes",
         "orientation": "v",
         "showlegend": true,
         "stackgroup": "1",
         "type": "scatter",
         "x": [
          2019,
          2014,
          2018,
          2016,
          2015,
          2017,
          2013,
          2012,
          2010,
          2011,
          2009,
          1996,
          1986,
          2008,
          2007,
          1994,
          1984,
          1985,
          2006,
          2004,
          1987,
          2005,
          1995,
          1997,
          1990,
          1993,
          2003,
          1999,
          1992,
          1989,
          2000,
          2001,
          1988,
          2002,
          1983,
          1998,
          1982,
          1991,
          1981,
          1980,
          1979,
          1978,
          1977,
          1976,
          1975,
          1974,
          1973,
          1971,
          1969,
          1972,
          1970,
          1968,
          1967,
          1966,
          1965,
          1964,
          1962,
          1963,
          1961
         ],
         "xaxis": "x",
         "y": [
          6080479,
          5997490,
          5916000,
          5901000,
          5861000,
          5630000,
          5273000,
          4474000,
          4401600,
          4383000,
          4001000,
          3900000,
          3670000,
          3657000,
          3451400,
          3347000,
          3295000,
          3275000,
          3242700,
          3230500,
          3230000,
          3114400,
          3016320,
          3000000,
          2987418,
          2950000,
          2930000,
          2910000,
          2825000,
          2805000,
          2780000,
          2770000,
          2745000,
          2720000,
          2570000,
          2500000,
          2495000,
          2480000,
          2390000,
          2310000,
          2230000,
          2160000,
          2025000,
          2000000,
          1935000,
          1910000,
          1880000,
          1820000,
          1760000,
          1750000,
          1730000,
          1720000,
          1675000,
          1625000,
          1590000,
          1580000,
          1520000,
          1520000,
          1475000
         ],
         "yaxis": "y"
        },
        {
         "fillpattern": {
          "shape": ""
         },
         "hovertemplate": "Item=Papayas<br>Year=%{x}<br>Value=%{y}<extra></extra>",
         "legendgroup": "Papayas",
         "line": {
          "color": "#FF97FF"
         },
         "marker": {
          "symbol": "circle"
         },
         "mode": "lines",
         "name": "Papayas",
         "orientation": "v",
         "showlegend": true,
         "stackgroup": "1",
         "type": "scatter",
         "x": [
          2019,
          2018,
          2017,
          2016,
          2014,
          2013,
          2012,
          2015,
          2011,
          2010,
          2009,
          2008,
          2007,
          2001,
          2004,
          2006,
          2002,
          2005,
          2000,
          2003,
          1999,
          1997,
          1998,
          1994,
          1995,
          1996,
          1993,
          1991,
          1992,
          1990,
          1977,
          1979,
          1980,
          1978,
          1988,
          1982,
          1989,
          1983,
          1986,
          1987,
          1984,
          1981,
          1971,
          1985,
          1963,
          1976,
          1962,
          1961,
          1974,
          1975,
          1969,
          1973,
          1967,
          1966,
          1968,
          1970,
          1972,
          1965,
          1964
         ],
         "xaxis": "x",
         "y": [
          6050000,
          5989000,
          5940000,
          5667000,
          5639300,
          5544000,
          5382000,
          4913000,
          4457100,
          4196000,
          3913500,
          3629000,
          2909000,
          2590400,
          2535100,
          2482100,
          2147200,
          2139300,
          1796960,
          1692100,
          1666470,
          1618490,
          1582270,
          1373460,
          1329670,
          1299330,
          1266720,
          805300,
          803617,
          451497,
          450441,
          419002,
          413467,
          408510,
          386486,
          358457,
          354304,
          325544,
          278767,
          276346,
          254000,
          248129,
          246806,
          240000,
          236000,
          232571,
          232000,
          228000,
          226211,
          224900,
          222000,
          218318,
          209000,
          206000,
          205000,
          204680,
          188867,
          179000,
          151000
         ],
         "yaxis": "y"
        },
        {
         "fillpattern": {
          "shape": ""
         },
         "hovertemplate": "Item=Peas, green<br>Year=%{x}<br>Value=%{y}<extra></extra>",
         "legendgroup": "Peas, green",
         "line": {
          "color": "#FECB52"
         },
         "marker": {
          "symbol": "circle"
         },
         "mode": "lines",
         "name": "Peas, green",
         "orientation": "v",
         "showlegend": true,
         "stackgroup": "1",
         "type": "scatter",
         "x": [
          2019,
          2018,
          2017,
          2016,
          2015,
          2013,
          2014,
          2012,
          2011,
          2010,
          2001,
          2009,
          2000,
          1999,
          1995,
          2008,
          1998,
          2007,
          1994,
          2006,
          1997,
          1993,
          1991,
          1992,
          2003,
          2002,
          1996,
          2005,
          2004,
          1990,
          1989,
          1988,
          1987,
          1986,
          1985,
          1984,
          1983,
          1982,
          1981,
          1980,
          1979,
          1978,
          1976,
          1977,
          1975,
          1974,
          1973,
          1972,
          1971,
          1970,
          1969,
          1968,
          1967,
          1966,
          1965,
          1964,
          1963,
          1961,
          1962
         ],
         "xaxis": "x",
         "y": [
          5562000,
          5422000,
          5345000,
          4811000,
          4652000,
          4006200,
          3868630,
          3744800,
          3517000,
          3029400,
          3010000,
          2916000,
          2710000,
          2700000,
          2500000,
          2491000,
          2420000,
          2402000,
          2400000,
          2270000,
          2200000,
          2150000,
          2106000,
          2100000,
          2061800,
          2040000,
          2000000,
          1944800,
          1901200,
          1900000,
          1790000,
          1690000,
          1625000,
          1430000,
          1380000,
          1250000,
          1250000,
          1240000,
          1200000,
          1125000,
          1070000,
          1050000,
          1000000,
          1000000,
          960000,
          930000,
          880000,
          840000,
          810000,
          780000,
          750000,
          730000,
          700000,
          655000,
          625000,
          600000,
          570000,
          550000,
          550000
         ],
         "yaxis": "y"
        },
        {
         "fillpattern": {
          "shape": ""
         },
         "hovertemplate": "Item=Pumpkins, squash and gourds<br>Year=%{x}<br>Value=%{y}<extra></extra>",
         "legendgroup": "Pumpkins, squash and gourds",
         "line": {
          "color": "#636efa"
         },
         "marker": {
          "symbol": "circle"
         },
         "mode": "lines",
         "name": "Pumpkins, squash and gourds",
         "orientation": "v",
         "showlegend": true,
         "stackgroup": "1",
         "type": "scatter",
         "x": [
          2017,
          2016,
          2015,
          2014,
          2013,
          2012,
          2011,
          2010,
          2009,
          2008,
          2007,
          2006,
          2005,
          2004,
          2003,
          2002,
          2001,
          2000,
          1999,
          1998,
          1997,
          1996,
          1995,
          1993,
          1994,
          1992,
          1991,
          1990,
          1989,
          1988,
          1987,
          1986,
          1985,
          1984,
          1983,
          1982,
          1981,
          1980,
          1979,
          1978,
          1977,
          1976,
          1975,
          1974,
          1973,
          1972,
          1971,
          1970,
          1969,
          1968,
          1967,
          1966,
          1965,
          1964,
          1963,
          1962,
          1961
         ],
         "xaxis": "x",
         "y": [
          5506393,
          5378393,
          5243814,
          5021477,
          4900000,
          4900000,
          4752830,
          4637531,
          4515818,
          4388123,
          4259627,
          4136382,
          3900938,
          3800848,
          3702215,
          3605716,
          3500000,
          3450000,
          3400000,
          3350000,
          3300000,
          3200000,
          3150000,
          3100000,
          3074014,
          2950000,
          2933000,
          2860000,
          2850000,
          2800000,
          2685000,
          2630000,
          2550000,
          2400000,
          2250000,
          2180000,
          2100000,
          1960000,
          1900000,
          1800000,
          1690000,
          1650000,
          1600000,
          1550000,
          1475000,
          1440000,
          1380000,
          1330000,
          1250000,
          1220000,
          1180000,
          1120000,
          1000000,
          985000,
          940000,
          870000,
          815000
         ],
         "yaxis": "y"
        },
        {
         "fillpattern": {
          "shape": ""
         },
         "hovertemplate": "Item=Pigeon peas<br>Year=%{x}<br>Value=%{y}<extra></extra>",
         "legendgroup": "Pigeon peas",
         "line": {
          "color": "#EF553B"
         },
         "marker": {
          "symbol": "circle"
         },
         "mode": "lines",
         "name": "Pigeon peas",
         "orientation": "v",
         "showlegend": true,
         "stackgroup": "1",
         "type": "scatter",
         "x": [
          2017,
          2018,
          2019,
          2014,
          2008,
          2013,
          2011,
          2015,
          1990,
          2006,
          1989,
          1999,
          2000,
          1994,
          1997,
          2012,
          1985,
          1984,
          2016,
          2010,
          1986,
          1991,
          2005,
          2004,
          1993,
          2007,
          1996,
          1988,
          1987,
          2009,
          2002,
          2001,
          1982,
          2003,
          1995,
          1992,
          1976,
          1961,
          1983,
          1981,
          1978,
          1973,
          1965,
          1979,
          1971,
          1998,
          1970,
          1975,
          1969,
          1980,
          1968,
          1966,
          1977,
          1972,
          1963,
          1974,
          1964,
          1962,
          1967
         ],
         "xaxis": "x",
         "y": [
          4873240,
          4289820,
          3315440,
          3170000,
          3075900,
          3022700,
          2860000,
          2810000,
          2746600,
          2738000,
          2717700,
          2708100,
          2694000,
          2692000,
          2655800,
          2650000,
          2585200,
          2576000,
          2560000,
          2460000,
          2441000,
          2416800,
          2346900,
          2346400,
          2331000,
          2314100,
          2309000,
          2282300,
          2271500,
          2270000,
          2259800,
          2246500,
          2236500,
          2185800,
          2144000,
          2133000,
          2099300,
          2066000,
          1988900,
          1957300,
          1929700,
          1927600,
          1890000,
          1887400,
          1883300,
          1849700,
          1842200,
          1834200,
          1815800,
          1757000,
          1741100,
          1733000,
          1725300,
          1683000,
          1582000,
          1408000,
          1380000,
          1367000,
          1129700
         ],
         "yaxis": "y"
        },
        {
         "fillpattern": {
          "shape": ""
         },
         "hovertemplate": "Item=Barley<br>Year=%{x}<br>Value=%{y}<extra></extra>",
         "legendgroup": "Barley",
         "line": {
          "color": "#00cc96"
         },
         "marker": {
          "symbol": "circle"
         },
         "mode": "lines",
         "name": "Barley",
         "orientation": "v",
         "showlegend": true,
         "stackgroup": "1",
         "type": "scatter",
         "x": [
          1968,
          1976,
          1962,
          1975,
          1961,
          1971,
          1970,
          1972,
          1965,
          1969,
          1963,
          1966,
          1973,
          1974,
          1967,
          1977,
          1978,
          1981,
          1979,
          1964,
          1982,
          1986,
          1983,
          1984,
          2014,
          2018,
          2013,
          2017,
          1989,
          1992,
          2009,
          1998,
          1987,
          2011,
          2019,
          1991,
          1980,
          2012,
          2015,
          1988,
          1985,
          1999,
          1993,
          1996,
          1990,
          1997,
          2000,
          2016,
          2001,
          2002,
          2003,
          2010,
          2007,
          1994,
          2004,
          1995,
          2006,
          2005,
          2008
         ],
         "xaxis": "x",
         "y": [
          3503600,
          3191900,
          3150000,
          3134700,
          2819000,
          2784400,
          2716300,
          2577000,
          2521000,
          2423800,
          2420000,
          2382000,
          2379100,
          2371000,
          2348400,
          2343800,
          2311200,
          2293000,
          2142000,
          2038000,
          1992600,
          1962500,
          1866800,
          1834000,
          1830000,
          1780810,
          1750000,
          1747450,
          1721600,
          1698700,
          1689100,
          1679400,
          1669400,
          1662900,
          1633070,
          1632400,
          1623700,
          1620000,
          1613000,
          1576800,
          1555900,
          1537800,
          1512400,
          1510000,
          1485700,
          1462000,
          1447000,
          1440000,
          1430600,
          1424500,
          1407400,
          1354700,
          1330000,
          1312700,
          1297600,
          1283000,
          1220600,
          1207100,
          1200000
         ],
         "yaxis": "y"
        },
        {
         "fillpattern": {
          "shape": ""
         },
         "hovertemplate": "Item=Lemons and limes<br>Year=%{x}<br>Value=%{y}<extra></extra>",
         "legendgroup": "Lemons and limes",
         "line": {
          "color": "#ab63fa"
         },
         "marker": {
          "symbol": "circle"
         },
         "mode": "lines",
         "name": "Lemons and limes",
         "orientation": "v",
         "showlegend": true,
         "stackgroup": "1",
         "type": "scatter",
         "x": [
          2019,
          2018,
          2015,
          2014,
          2010,
          2009,
          2013,
          2008,
          2016,
          2017,
          2007,
          2012,
          2006,
          2011,
          2004,
          2000,
          2003,
          2002,
          2001,
          1999,
          1998,
          1997,
          2005,
          1995,
          1993,
          1994,
          1996,
          1991,
          1990,
          1992,
          1989,
          1988,
          1976,
          1987,
          1986,
          1984,
          1978,
          1983,
          1982,
          1981,
          1975,
          1980,
          1979,
          1972,
          1971,
          1970,
          1967,
          1966,
          1965,
          1973,
          1964,
          1963,
          1962,
          1985,
          1974,
          1961,
          1969,
          1977,
          1968
         ],
         "xaxis": "x",
         "y": [
          3482000,
          3148000,
          2950000,
          2835020,
          2629200,
          2571530,
          2523500,
          2501700,
          2438000,
          2364000,
          2310200,
          2272100,
          2159000,
          2108000,
          1493300,
          1491500,
          1439600,
          1413700,
          1377200,
          1259800,
          1101300,
          1048400,
          1033100,
          970100,
          930000,
          923700,
          920000,
          800000,
          752000,
          700000,
          690000,
          600000,
          600000,
          600000,
          600000,
          550000,
          500000,
          500000,
          500000,
          500000,
          500000,
          485000,
          480000,
          450000,
          450000,
          450000,
          450000,
          450000,
          450000,
          450000,
          450000,
          450000,
          450000,
          450000,
          450000,
          415000,
          400000,
          400000,
          370000
         ],
         "yaxis": "y"
        },
        {
         "fillpattern": {
          "shape": ""
         },
         "hovertemplate": "Item=Grapes<br>Year=%{x}<br>Value=%{y}<extra></extra>",
         "legendgroup": "Grapes",
         "line": {
          "color": "#FFA15A"
         },
         "marker": {
          "symbol": "circle"
         },
         "mode": "lines",
         "name": "Grapes",
         "orientation": "v",
         "showlegend": true,
         "stackgroup": "1",
         "type": "scatter",
         "x": [
          2019,
          2017,
          2018,
          2015,
          2016,
          2014,
          2013,
          2012,
          2009,
          2008,
          2007,
          2006,
          2005,
          2004,
          2003,
          2011,
          2002,
          2000,
          1999,
          2001,
          1998,
          2010,
          1997,
          1996,
          1993,
          1995,
          1994,
          1992,
          1988,
          1991,
          1990,
          1989,
          1985,
          1984,
          1986,
          1987,
          1982,
          1983,
          1981,
          1980,
          1979,
          1978,
          1977,
          1973,
          1972,
          1971,
          1970,
          1969,
          1968,
          1967,
          1966,
          1965,
          1976,
          1975,
          1964,
          1974,
          1963,
          1962,
          1961
         ],
         "xaxis": "x",
         "y": [
          3041000,
          2922000,
          2920000,
          2602000,
          2590000,
          2585340,
          2483000,
          2221000,
          1878000,
          1735000,
          1685300,
          1649600,
          1564700,
          1474800,
          1247800,
          1235000,
          1184200,
          1130000,
          1083000,
          1060000,
          970000,
          880700,
          810000,
          800000,
          700000,
          700000,
          700000,
          653163,
          416253,
          412530,
          408170,
          374535,
          275660,
          270390,
          260000,
          251035,
          250000,
          237020,
          208000,
          195850,
          182160,
          166000,
          150630,
          140000,
          138000,
          135000,
          130000,
          125000,
          120000,
          115000,
          110000,
          100000,
          95400,
          95000,
          90000,
          90000,
          80000,
          75000,
          70000
         ],
         "yaxis": "y"
        },
        {
         "fillpattern": {
          "shape": ""
         },
         "hovertemplate": "Item=Garlic<br>Year=%{x}<br>Value=%{y}<extra></extra>",
         "legendgroup": "Garlic",
         "line": {
          "color": "#19d3f3"
         },
         "marker": {
          "symbol": "circle"
         },
         "mode": "lines",
         "name": "Garlic",
         "orientation": "v",
         "showlegend": true,
         "stackgroup": "1",
         "type": "scatter",
         "x": [
          2019,
          2017,
          2016,
          2018,
          2015,
          2013,
          2014,
          2012,
          2008,
          2011,
          2010,
          2009,
          2007,
          2004,
          2005,
          2006,
          1998,
          2000,
          2002,
          2001,
          1999,
          1997,
          1995,
          2003,
          1996,
          1994,
          1991,
          1992,
          1990,
          1989,
          1987,
          1988,
          1983,
          1993,
          1984,
          1982,
          1981,
          1980,
          1986,
          1979,
          1985,
          1978,
          1963,
          1975,
          1962,
          1977,
          1961,
          1976,
          1964,
          1973,
          1971,
          1972,
          1965,
          1966,
          1970,
          1968,
          1969,
          1967,
          1974
         ],
         "xaxis": "x",
         "y": [
          2910000,
          1693000,
          1617000,
          1611000,
          1425000,
          1259000,
          1252000,
          1228000,
          1068500,
          1057800,
          833970,
          831100,
          776300,
          691100,
          646600,
          598200,
          570700,
          524600,
          500000,
          496800,
          495300,
          484400,
          475300,
          457000,
          437900,
          403200,
          370700,
          355800,
          350400,
          332700,
          318600,
          313600,
          311000,
          306000,
          268700,
          245000,
          229700,
          216000,
          208200,
          205600,
          189600,
          167200,
          144000,
          140600,
          137000,
          133300,
          130000,
          129600,
          126000,
          120000,
          110000,
          110000,
          108000,
          100000,
          100000,
          100000,
          100000,
          100000,
          83600
         ],
         "yaxis": "y"
        },
        {
         "fillpattern": {
          "shape": ""
         },
         "hovertemplate": "Item=Apples<br>Year=%{x}<br>Value=%{y}<extra></extra>",
         "legendgroup": "Apples",
         "line": {
          "color": "#FF6692"
         },
         "marker": {
          "symbol": "circle"
         },
         "mode": "lines",
         "name": "Apples",
         "orientation": "v",
         "showlegend": true,
         "stackgroup": "1",
         "type": "scatter",
         "x": [
          2011,
          2016,
          2014,
          2018,
          2019,
          2017,
          2012,
          2015,
          2008,
          2009,
          2013,
          2006,
          2010,
          2005,
          2007,
          2004,
          2003,
          1999,
          1998,
          1997,
          1994,
          1986,
          2001,
          1996,
          1995,
          1991,
          1993,
          2002,
          1992,
          1990,
          1989,
          2000,
          1985,
          1988,
          1984,
          1983,
          1982,
          1987,
          1981,
          1979,
          1980,
          1974,
          1978,
          1973,
          1975,
          1977,
          1976,
          1972,
          1971,
          1970,
          1969,
          1961,
          1968,
          1962,
          1963,
          1967,
          1964,
          1966,
          1965
         ],
         "xaxis": "x",
         "y": [
          2891000,
          2521000,
          2497680,
          2327000,
          2316000,
          2265000,
          2203400,
          2134000,
          2001000,
          1985000,
          1915000,
          1814000,
          1777200,
          1739000,
          1624000,
          1521600,
          1470000,
          1380000,
          1320590,
          1308390,
          1300000,
          1258000,
          1230000,
          1211379,
          1200000,
          1175005,
          1168252,
          1160000,
          1147743,
          1093900,
          1084117,
          1050000,
          1005560,
          995296,
          985900,
          966600,
          926980,
          861404,
          821790,
          662020,
          658000,
          592000,
          545070,
          515000,
          510000,
          503500,
          500000,
          433000,
          352000,
          277000,
          201000,
          185000,
          163000,
          160000,
          140000,
          127000,
          110000,
          97500,
          90000
         ],
         "yaxis": "y"
        },
        {
         "fillpattern": {
          "shape": ""
         },
         "hovertemplate": "Item=Watermelons<br>Year=%{x}<br>Value=%{y}<extra></extra>",
         "legendgroup": "Watermelons",
         "line": {
          "color": "#B6E880"
         },
         "marker": {
          "symbol": "circle"
         },
         "mode": "lines",
         "name": "Watermelons",
         "orientation": "v",
         "showlegend": true,
         "stackgroup": "1",
         "type": "scatter",
         "x": [
          2018,
          2019,
          2016,
          2017,
          2015,
          2014,
          2013,
          2012,
          2011,
          2010,
          2009,
          2008,
          2007,
          2006,
          2005,
          2004,
          2003,
          2002,
          2001,
          1999,
          2000,
          1997,
          1998,
          1996,
          1995,
          1994,
          1993,
          1992,
          1991,
          1990,
          1989,
          1988,
          1987,
          1986,
          1985,
          1984,
          1983,
          1982,
          1981,
          1980,
          1979,
          1978,
          1977,
          1976,
          1975,
          1974,
          1973,
          1972,
          1971,
          1970,
          1969,
          1968,
          1967,
          1966,
          1965,
          1964,
          1963,
          1962,
          1961
         ],
         "xaxis": "x",
         "y": [
          2520000,
          2495000,
          2325000,
          2182000,
          2145000,
          1810000,
          1789000,
          1727000,
          1436500,
          369380,
          358052,
          346812,
          335666,
          324625,
          313709,
          301927,
          291544,
          281147,
          270877,
          255540,
          255000,
          250000,
          249018,
          225000,
          220000,
          215000,
          210000,
          208000,
          205900,
          200000,
          197000,
          195000,
          188000,
          184000,
          170000,
          165000,
          160000,
          153000,
          145000,
          140000,
          133000,
          128000,
          126000,
          125000,
          120000,
          118000,
          116000,
          114000,
          109000,
          102000,
          100000,
          96000,
          89000,
          88000,
          85000,
          80000,
          77000,
          75000,
          71000
         ],
         "yaxis": "y"
        },
        {
         "fillpattern": {
          "shape": ""
         },
         "hovertemplate": "Item=Fibre Crops Primary<br>Year=%{x}<br>Value=%{y}<extra></extra>",
         "legendgroup": "Fibre Crops Primary",
         "line": {
          "color": "#FF97FF"
         },
         "marker": {
          "symbol": "circle"
         },
         "mode": "lines",
         "name": "Fibre Crops Primary",
         "orientation": "v",
         "showlegend": true,
         "stackgroup": "1",
         "type": "scatter",
         "x": [
          1985,
          2009,
          2001,
          2011,
          1996,
          2014,
          2013,
          2002,
          2003,
          2012,
          2006,
          2007,
          1997,
          2017,
          2005,
          2016,
          2008,
          2010,
          1999,
          1991,
          2015,
          2000,
          2004,
          2018,
          2019,
          1998,
          1990,
          1994,
          1995,
          1986,
          1992,
          1981,
          1961,
          1993,
          1978,
          1989,
          1980,
          1963,
          1979,
          1964,
          1984,
          1988,
          1967,
          1983,
          1973,
          1962,
          1977,
          1976,
          1982,
          1969,
          1971,
          1987,
          1966,
          1970,
          1972,
          1975,
          1974,
          1965,
          1968
         ],
         "xaxis": "x",
         "y": [
          2333190,
          2153080,
          2128176,
          2076080,
          2075600,
          2071934,
          2052000,
          2050830,
          2025306,
          2025000,
          2013618,
          2012080,
          1983800,
          1962005,
          1952140,
          1940894,
          1912200,
          1905500,
          1896084,
          1895400,
          1887743,
          1880424,
          1857834,
          1804486,
          1781427,
          1765962,
          1702300,
          1675100,
          1616800,
          1603500,
          1580500,
          1563040,
          1560600,
          1554900,
          1554348,
          1531400,
          1522306,
          1511680,
          1479480,
          1459124,
          1457300,
          1457000,
          1438014,
          1436500,
          1434906,
          1372300,
          1341702,
          1333220,
          1332400,
          1288318,
          1285046,
          1264200,
          1241466,
          1179640,
          1145382,
          1126930,
          1107740,
          1096388,
          758162
         ],
         "yaxis": "y"
        },
        {
         "fillpattern": {
          "shape": ""
         },
         "hovertemplate": "Item=Castor oil seed<br>Year=%{x}<br>Value=%{y}<extra></extra>",
         "legendgroup": "Castor oil seed",
         "line": {
          "color": "#FECB52"
         },
         "marker": {
          "symbol": "circle"
         },
         "mode": "lines",
         "name": "Castor oil seed",
         "orientation": "v",
         "showlegend": true,
         "stackgroup": "1",
         "type": "scatter",
         "x": [
          2011,
          2012,
          2014,
          2015,
          2013,
          2018,
          2017,
          2016,
          2010,
          2019,
          2008,
          2007,
          2009,
          2005,
          1996,
          2000,
          1994,
          1998,
          1997,
          2003,
          2004,
          1995,
          1999,
          2006,
          1990,
          2001,
          1993,
          1992,
          1991,
          1989,
          1984,
          2002,
          1988,
          1983,
          1982,
          1981,
          1985,
          1986,
          1978,
          1973,
          1979,
          1977,
          1974,
          1980,
          1987,
          1976,
          1971,
          1972,
          1975,
          1970,
          1969,
          1967,
          1968,
          1966,
          1961,
          1964,
          1963,
          1962,
          1965
         ],
         "xaxis": "x",
         "y": [
          2295000,
          1964000,
          1870000,
          1752000,
          1727000,
          1567560,
          1376420,
          1376000,
          1350000,
          1196680,
          1171100,
          1053000,
          1009000,
          990700,
          902000,
          882800,
          845000,
          840300,
          829000,
          796700,
          793400,
          780000,
          765100,
          762000,
          716200,
          652700,
          634800,
          623000,
          577000,
          517100,
          469700,
          428000,
          415500,
          404500,
          344600,
          310000,
          308300,
          230300,
          229400,
          229100,
          227300,
          217200,
          210400,
          204400,
          195200,
          179000,
          154000,
          145400,
          142900,
          136100,
          123000,
          121200,
          115700,
          109800,
          109000,
          107000,
          102000,
          99000,
          79800
         ],
         "yaxis": "y"
        },
        {
         "fillpattern": {
          "shape": ""
         },
         "hovertemplate": "Item=Chillies and peppers, dry<br>Year=%{x}<br>Value=%{y}<extra></extra>",
         "legendgroup": "Chillies and peppers, dry",
         "line": {
          "color": "#636efa"
         },
         "marker": {
          "symbol": "circle"
         },
         "mode": "lines",
         "name": "Chillies and peppers, dry",
         "orientation": "v",
         "showlegend": true,
         "stackgroup": "1",
         "type": "scatter",
         "x": [
          2018,
          2017,
          2019,
          2015,
          2016,
          2013,
          2014,
          2012,
          2007,
          2011,
          2008,
          2003,
          2006,
          2010,
          2009,
          2004,
          2001,
          1996,
          1999,
          1998,
          2005,
          2000,
          2002,
          1985,
          1997,
          1992,
          1995,
          1989,
          1993,
          1994,
          1990,
          1988,
          1984,
          1986,
          1991,
          1987,
          1983,
          1978,
          1977,
          1982,
          1975,
          1970,
          1981,
          1980,
          1979,
          1967,
          1973,
          1971,
          1963,
          1964,
          1974,
          1962,
          1976,
          1966,
          1972,
          1968,
          1969,
          1961,
          1965
         ],
         "xaxis": "x",
         "y": [
          2149000,
          2096000,
          1743000,
          1605000,
          1520390,
          1492000,
          1492000,
          1304000,
          1294150,
          1276301,
          1269850,
          1235700,
          1234100,
          1223400,
          1202940,
          1185500,
          1069000,
          1066000,
          1052800,
          1043200,
          1014600,
          983700,
          896900,
          877400,
          870100,
          862100,
          810000,
          801500,
          800100,
          794700,
          719000,
          680000,
          630500,
          629200,
          617500,
          579800,
          566500,
          565700,
          543300,
          538900,
          526100,
          520400,
          514700,
          509100,
          507600,
          501000,
          497000,
          493900,
          490000,
          475000,
          441200,
          425000,
          419400,
          418000,
          411700,
          399000,
          395000,
          389000,
          364000
         ],
         "yaxis": "y"
        },
        {
         "fillpattern": {
          "shape": ""
         },
         "hovertemplate": "Item=Sweet potatoes<br>Year=%{x}<br>Value=%{y}<extra></extra>",
         "legendgroup": "Sweet potatoes",
         "line": {
          "color": "#EF553B"
         },
         "marker": {
          "symbol": "circle"
         },
         "mode": "lines",
         "name": "Sweet potatoes",
         "orientation": "v",
         "showlegend": true,
         "stackgroup": "1",
         "type": "scatter",
         "x": [
          1969,
          1976,
          1971,
          1982,
          1968,
          1975,
          1985,
          1979,
          1970,
          1978,
          1983,
          1984,
          1977,
          1974,
          1972,
          1981,
          2018,
          1987,
          2017,
          2016,
          1973,
          1986,
          1980,
          1967,
          1991,
          1989,
          1961,
          1988,
          1990,
          2015,
          1994,
          1993,
          2005,
          2004,
          1995,
          2019,
          1999,
          1996,
          2013,
          1992,
          2003,
          2002,
          2009,
          2000,
          1997,
          1965,
          2010,
          2008,
          2014,
          2012,
          2007,
          2006,
          1998,
          2011,
          2001,
          1966,
          1962,
          1964,
          1963
         ],
         "xaxis": "x",
         "y": [
          2042000,
          1810900,
          1731000,
          1696000,
          1664000,
          1658400,
          1627700,
          1623000,
          1621000,
          1588500,
          1586900,
          1585600,
          1555300,
          1550000,
          1538000,
          1501900,
          1500000,
          1490600,
          1460000,
          1454000,
          1431000,
          1408000,
          1313100,
          1297000,
          1273500,
          1271000,
          1261000,
          1257600,
          1251500,
          1228000,
          1220600,
          1215500,
          1179400,
          1179100,
          1166100,
          1156000,
          1152400,
          1138100,
          1132400,
          1130700,
          1130300,
          1130300,
          1119700,
          1110600,
          1102200,
          1098000,
          1094700,
          1094000,
          1087880,
          1072800,
          1067200,
          1066500,
          1048100,
          1046600,
          1007400,
          991000,
          858000,
          855000,
          850000
         ],
         "yaxis": "y"
        },
        {
         "fillpattern": {
          "shape": ""
         },
         "hovertemplate": "Item=Jute<br>Year=%{x}<br>Value=%{y}<extra></extra>",
         "legendgroup": "Jute",
         "line": {
          "color": "#00cc96"
         },
         "marker": {
          "symbol": "circle"
         },
         "mode": "lines",
         "name": "Jute",
         "orientation": "v",
         "showlegend": true,
         "stackgroup": "1",
         "type": "scatter",
         "x": [
          2009,
          2014,
          2011,
          1985,
          2013,
          2012,
          2001,
          2017,
          2006,
          2002,
          2016,
          2003,
          2007,
          2010,
          2005,
          1996,
          1997,
          2015,
          2008,
          2018,
          2019,
          1999,
          2004,
          2000,
          1991,
          1998,
          1994,
          1990,
          1995,
          1992,
          1993,
          1986,
          1989,
          1981,
          1988,
          1984,
          1980,
          1978,
          1961,
          1983,
          1967,
          1973,
          1963,
          1979,
          1964,
          1982,
          1987,
          1971,
          1969,
          1962,
          1977,
          1966,
          1976,
          1972,
          1970,
          1965,
          1974,
          1975,
          1968
         ],
         "xaxis": "x",
         "y": [
          2021500,
          1968000,
          1960380,
          1959390,
          1944000,
          1912000,
          1905102,
          1877760,
          1857000,
          1853838,
          1850510,
          1845000,
          1840000,
          1799100,
          1795000,
          1793000,
          1793000,
          1789200,
          1734000,
          1726380,
          1709460,
          1695834,
          1692000,
          1677060,
          1608500,
          1590570,
          1439500,
          1425000,
          1381500,
          1349100,
          1324800,
          1323500,
          1272900,
          1221800,
          1207800,
          1175600,
          1171400,
          1164654,
          1144400,
          1138500,
          1137654,
          1119654,
          1094220,
          1092870,
          1091484,
          1070200,
          1042700,
          1023174,
          1017864,
          979600,
          965034,
          964422,
          963612,
          896094,
          888840,
          805608,
          804690,
          799128,
          527600
         ],
         "yaxis": "y"
        },
        {
         "fillpattern": {
          "shape": ""
         },
         "hovertemplate": "Item=Pineapples<br>Year=%{x}<br>Value=%{y}<extra></extra>",
         "legendgroup": "Pineapples",
         "line": {
          "color": "#ab63fa"
         },
         "marker": {
          "symbol": "circle"
         },
         "mode": "lines",
         "name": "Pineapples",
         "orientation": "v",
         "showlegend": true,
         "stackgroup": "1",
         "type": "scatter",
         "x": [
          2015,
          2016,
          2017,
          2014,
          2019,
          2018,
          2013,
          2012,
          2011,
          2010,
          2007,
          2009,
          2003,
          2005,
          2006,
          1997,
          2008,
          2004,
          2001,
          1996,
          2002,
          1995,
          2000,
          1994,
          1999,
          1993,
          1998,
          1990,
          1992,
          1988,
          1989,
          1985,
          1991,
          1984,
          1983,
          1982,
          1986,
          1981,
          1987,
          1980,
          1979,
          1978,
          1977,
          1976,
          1975,
          1974,
          1973,
          1972,
          1971,
          1970,
          1969,
          1968,
          1967,
          1966,
          1965,
          1964,
          1963,
          1962,
          1961
         ],
         "xaxis": "x",
         "y": [
          1984000,
          1924000,
          1861000,
          1736740,
          1711000,
          1706000,
          1571000,
          1500000,
          1415000,
          1386800,
          1362000,
          1341000,
          1310000,
          1278900,
          1262600,
          1250000,
          1245000,
          1234200,
          1220000,
          1200000,
          1180000,
          1060000,
          1020000,
          1010000,
          1006000,
          1000000,
          940000,
          881000,
          859000,
          815387,
          787000,
          771060,
          768000,
          755970,
          671820,
          643100,
          607000,
          593230,
          578035,
          548980,
          500300,
          470610,
          442900,
          430000,
          420000,
          410000,
          400000,
          390000,
          380000,
          380000,
          370000,
          360000,
          360000,
          340000,
          280000,
          200000,
          150000,
          100000,
          76000
         ],
         "yaxis": "y"
        },
        {
         "fillpattern": {
          "shape": ""
         },
         "hovertemplate": "Item=Ginger<br>Year=%{x}<br>Value=%{y}<extra></extra>",
         "legendgroup": "Ginger",
         "line": {
          "color": "#FFA15A"
         },
         "marker": {
          "symbol": "circle"
         },
         "mode": "lines",
         "name": "Ginger",
         "orientation": "v",
         "showlegend": true,
         "stackgroup": "1",
         "type": "scatter",
         "x": [
          2019,
          2018,
          2016,
          2017,
          2015,
          2012,
          2011,
          2013,
          2014,
          2007,
          2006,
          2008,
          2010,
          2009,
          2005,
          2004,
          2003,
          2002,
          1999,
          1998,
          1997,
          2000,
          1996,
          2001,
          1992,
          1993,
          1991,
          1994,
          1995,
          1989,
          1990,
          1988,
          1987,
          1985,
          1986,
          1984,
          1983,
          1982,
          1981,
          1980,
          1979,
          1977,
          1978,
          1975,
          1976,
          1973,
          1974,
          1971,
          1972,
          1970,
          1965,
          1963,
          1964,
          1969,
          1966,
          1967,
          1962,
          1961,
          1968
         ],
         "xaxis": "x",
         "y": [
          1788000,
          1762000,
          1109000,
          1070000,
          760000,
          756000,
          702000,
          683000,
          655000,
          393400,
          391200,
          390080,
          385330,
          380100,
          359000,
          301900,
          280200,
          268447,
          263200,
          263000,
          252000,
          235000,
          232500,
          230000,
          201600,
          186200,
          183000,
          171200,
          171000,
          156120,
          154000,
          152000,
          142840,
          138020,
          136010,
          133860,
          121310,
          94170,
          86980,
          82440,
          72960,
          71700,
          67170,
          45150,
          43390,
          38460,
          37910,
          34710,
          33630,
          30000,
          22000,
          21000,
          21000,
          21000,
          21000,
          20000,
          20000,
          19000,
          18000
         ],
         "yaxis": "y"
        },
        {
         "fillpattern": {
          "shape": ""
         },
         "hovertemplate": "Item=Spices nes<br>Year=%{x}<br>Value=%{y}<extra></extra>",
         "legendgroup": "Spices nes",
         "line": {
          "color": "#19d3f3"
         },
         "marker": {
          "symbol": "circle"
         },
         "mode": "lines",
         "name": "Spices nes",
         "orientation": "v",
         "showlegend": true,
         "stackgroup": "1",
         "type": "scatter",
         "x": [
          2011,
          2017,
          2016,
          2014,
          2013,
          2012,
          2010,
          2019,
          2018,
          2015,
          2007,
          2005,
          2008,
          2009,
          2006,
          2004,
          2003,
          2000,
          1993,
          1999,
          1998,
          2001,
          1994,
          1997,
          1996,
          2002,
          1995,
          1989,
          1987,
          1992,
          1990,
          1991,
          1988,
          1986,
          1985,
          1984,
          1983,
          1977,
          1981,
          1978,
          1982,
          1979,
          1980,
          1971,
          1970,
          1974,
          1975,
          1973,
          1976,
          1964,
          1969,
          1972,
          1965,
          1966,
          1967,
          1963,
          1968,
          1961,
          1962
         ],
         "xaxis": "x",
         "y": [
          1699790,
          1592000,
          1528000,
          1504000,
          1500488,
          1496990,
          1474900,
          1434000,
          1364000,
          1292000,
          1104000,
          1075100,
          1063000,
          1029700,
          1020000,
          966100,
          954700,
          945600,
          911100,
          907800,
          890300,
          882200,
          815000,
          795000,
          785000,
          738800,
          659000,
          609100,
          607000,
          591900,
          562900,
          531700,
          513000,
          502400,
          484200,
          379100,
          376000,
          357900,
          336500,
          335700,
          327300,
          325600,
          321200,
          258900,
          251700,
          249400,
          242300,
          240400,
          225400,
          206000,
          204000,
          204000,
          190000,
          175000,
          175000,
          174000,
          172000,
          163000,
          161000
         ],
         "yaxis": "y"
        },
        {
         "fillpattern": {
          "shape": ""
         },
         "hovertemplate": "Item=Lentils<br>Year=%{x}<br>Value=%{y}<extra></extra>",
         "legendgroup": "Lentils",
         "line": {
          "color": "#FF6692"
         },
         "marker": {
          "symbol": "circle"
         },
         "mode": "lines",
         "name": "Lentils",
         "orientation": "v",
         "showlegend": true,
         "stackgroup": "1",
         "type": "scatter",
         "x": [
          2018,
          2019,
          2017,
          2013,
          2000,
          2012,
          2004,
          2015,
          2010,
          2014,
          2005,
          2016,
          2002,
          1997,
          2009,
          2006,
          2011,
          1999,
          2001,
          2007,
          2003,
          1991,
          2008,
          1998,
          1992,
          1993,
          1995,
          1994,
          1989,
          1996,
          1990,
          1986,
          1988,
          1987,
          1985,
          1984,
          1982,
          1983,
          1981,
          1976,
          1975,
          1979,
          1972,
          1974,
          1965,
          1969,
          1977,
          1978,
          1968,
          1970,
          1973,
          1971,
          1966,
          1961,
          1963,
          1962,
          1980,
          1964,
          1967
         ],
         "xaxis": "x",
         "y": [
          1621810,
          1227820,
          1223850,
          1134000,
          1078900,
          1058700,
          1037800,
          1035000,
          1031600,
          1017000,
          994200,
          976000,
          974400,
          962000,
          953300,
          946200,
          943800,
          937800,
          915200,
          910000,
          873200,
          851400,
          810000,
          803900,
          801700,
          790800,
          783800,
          748000,
          733600,
          713700,
          706200,
          662500,
          660300,
          659300,
          547100,
          533700,
          496500,
          488700,
          465200,
          460700,
          457100,
          447200,
          415700,
          406600,
          400000,
          400000,
          393500,
          384000,
          383600,
          382900,
          372500,
          371000,
          368900,
          358666,
          349521,
          340377,
          320300,
          289000,
          287900
         ],
         "yaxis": "y"
        },
        {
         "fillpattern": {
          "shape": ""
         },
         "hovertemplate": "Item=Anise, badian, fennel, coriander<br>Year=%{x}<br>Value=%{y}<extra></extra>",
         "legendgroup": "Anise, badian, fennel, coriander",
         "line": {
          "color": "#B6E880"
         },
         "marker": {
          "symbol": "circle"
         },
         "mode": "lines",
         "name": "Anise, badian, fennel, coriander",
         "orientation": "v",
         "showlegend": true,
         "stackgroup": "1",
         "type": "scatter",
         "x": [
          2017,
          2018,
          2019,
          2016,
          2014,
          2013,
          2015,
          2012,
          2011,
          2010,
          2008,
          2007,
          2009,
          2006,
          2005,
          2003,
          2001,
          2004,
          1993,
          1999,
          2000,
          2002,
          1998,
          1992,
          1997,
          1996,
          1988,
          1983,
          1977,
          1995,
          1994,
          1980,
          1978,
          1979,
          1991,
          1990,
          1982,
          1984,
          1976,
          1989,
          1981,
          1987,
          1986,
          1963,
          1964,
          1965,
          1966,
          1967,
          1968,
          1985,
          1975,
          1973,
          1972,
          1974,
          1961,
          1962,
          1971,
          1970,
          1969
         ],
         "xaxis": "x",
         "y": [
          1529000,
          1503000,
          1448000,
          632000,
          584000,
          546173,
          546000,
          537330,
          537277,
          419600,
          397286,
          396517,
          392379,
          268776,
          261170,
          254737,
          244943,
          227099,
          179637,
          173088,
          166692,
          162362,
          161065,
          154200,
          148917,
          131516,
          130922,
          116173,
          110462,
          110000,
          108812,
          102404,
          101387,
          92414,
          89749,
          89343,
          75978,
          74223,
          69869,
          67593,
          57277,
          55258,
          50263,
          50000,
          50000,
          50000,
          48000,
          48000,
          48000,
          45885,
          45164,
          45000,
          45000,
          45000,
          45000,
          45000,
          43000,
          43000,
          43000
         ],
         "yaxis": "y"
        },
        {
         "fillpattern": {
          "shape": ""
         },
         "hovertemplate": "Item=Pulses nes<br>Year=%{x}<br>Value=%{y}<extra></extra>",
         "legendgroup": "Pulses nes",
         "line": {
          "color": "#FF97FF"
         },
         "marker": {
          "symbol": "circle"
         },
         "mode": "lines",
         "name": "Pulses nes",
         "orientation": "v",
         "showlegend": true,
         "stackgroup": "1",
         "type": "scatter",
         "x": [
          1991,
          1961,
          1995,
          1964,
          1963,
          1965,
          1962,
          2001,
          1976,
          1997,
          1972,
          1994,
          1971,
          1984,
          2000,
          2014,
          1970,
          1999,
          1979,
          1978,
          2013,
          1969,
          1996,
          1968,
          1975,
          1974,
          1993,
          2002,
          1998,
          2018,
          2015,
          1966,
          2012,
          1967,
          2017,
          2016,
          1986,
          2019,
          1977,
          1983,
          1987,
          1973,
          1981,
          2004,
          1985,
          1982,
          1989,
          1988,
          2006,
          1980,
          2011,
          2010,
          2009,
          2007,
          2008,
          2005,
          1990,
          2003,
          1992
         ],
         "xaxis": "x",
         "y": [
          1506500,
          1450000,
          1433000,
          1401000,
          1382000,
          1379500,
          1335000,
          1300000,
          1270900,
          1257000,
          1223700,
          1186500,
          1181000,
          1167300,
          1160000,
          1155000,
          1133900,
          1120000,
          1112100,
          1100100,
          1092000,
          1069800,
          1068000,
          1046900,
          1045900,
          1039400,
          1003500,
          1000000,
          1000000,
          1000000,
          988200,
          981000,
          960000,
          958600,
          919269,
          918493,
          915900,
          912609,
          896300,
          887300,
          861800,
          855700,
          838600,
          834500,
          824000,
          793300,
          790600,
          772200,
          759300,
          752600,
          700000,
          700000,
          700000,
          700000,
          670000,
          649200,
          640900,
          618900,
          535100
         ],
         "yaxis": "y"
        },
        {
         "fillpattern": {
          "shape": ""
         },
         "hovertemplate": "Item=Sunflower seed<br>Year=%{x}<br>Value=%{y}<extra></extra>",
         "legendgroup": "Sunflower seed",
         "line": {
          "color": "#FECB52"
         },
         "marker": {
          "symbol": "circle"
         },
         "mode": "lines",
         "name": "Sunflower seed",
         "orientation": "v",
         "showlegend": true,
         "stackgroup": "1",
         "type": "scatter",
         "x": [
          2007,
          2005,
          1993,
          1995,
          1996,
          2006,
          1994,
          1991,
          2004,
          1992,
          2008,
          1998,
          2003,
          1997,
          1990,
          2002,
          2009,
          1999,
          2001,
          2010,
          2000,
          1987,
          1989,
          2012,
          2011,
          2013,
          1984,
          2014,
          1986,
          1988,
          1983,
          2015,
          1985,
          2017,
          2016,
          1982,
          1974,
          2018,
          1975,
          2019,
          1973,
          1981,
          1977,
          1976,
          1978,
          1971,
          1970,
          1972,
          1980,
          1979
         ],
         "xaxis": "x",
         "y": [
          1463000,
          1439000,
          1350000,
          1260000,
          1250000,
          1228000,
          1220000,
          1194000,
          1186700,
          1182000,
          1158000,
          943800,
          930400,
          890000,
          873000,
          872600,
          850700,
          693600,
          679500,
          651000,
          646400,
          635300,
          631300,
          544000,
          517000,
          504000,
          439800,
          434000,
          419900,
          370100,
          299600,
          296000,
          280900,
          251380,
          251000,
          229700,
          228000,
          221660,
          217000,
          216290,
          169000,
          159000,
          141000,
          138000,
          99000,
          76000,
          76000,
          76000,
          66300,
          31800
         ],
         "yaxis": "y"
        },
        {
         "fillpattern": {
          "shape": ""
         },
         "hovertemplate": "Item=Fruit, citrus nes<br>Year=%{x}<br>Value=%{y}<extra></extra>",
         "legendgroup": "Fruit, citrus nes",
         "line": {
          "color": "#636efa"
         },
         "marker": {
          "symbol": "circle"
         },
         "mode": "lines",
         "name": "Fruit, citrus nes",
         "orientation": "v",
         "showlegend": true,
         "stackgroup": "1",
         "type": "scatter",
         "x": [
          2017,
          2016,
          2018,
          2019,
          2012,
          2013,
          2010,
          2015,
          2014,
          2009,
          2011,
          2008,
          2007,
          2006,
          1999,
          2005,
          2004,
          2003,
          2000,
          1998,
          1997,
          1996,
          1995,
          1988,
          2002,
          1994,
          2001,
          1993,
          1990,
          1987,
          1991,
          1986,
          1992,
          1989,
          1968,
          1985,
          1970,
          1971,
          1969,
          1972,
          1974,
          1983,
          1975,
          1973,
          1981,
          1982,
          1980,
          1984,
          1979,
          1976,
          1967,
          1965,
          1966,
          1964,
          1963,
          1962,
          1961,
          1977,
          1978
         ],
         "xaxis": "x",
         "y": [
          1408000,
          1171500,
          1030000,
          1022000,
          967000,
          855000,
          781800,
          781500,
          745500,
          634200,
          589000,
          453000,
          389900,
          384600,
          134000,
          125000,
          120000,
          120000,
          120000,
          120000,
          115000,
          112000,
          104000,
          100000,
          100000,
          95000,
          90000,
          90000,
          85000,
          85000,
          83031,
          80000,
          80000,
          75000,
          53000,
          50000,
          50000,
          50000,
          45000,
          45000,
          35000,
          30000,
          30000,
          30000,
          30000,
          30000,
          30000,
          30000,
          28000,
          28000,
          27000,
          26000,
          26000,
          26000,
          25000,
          25000,
          25000,
          25000,
          22000
         ],
         "yaxis": "y"
        },
        {
         "fillpattern": {
          "shape": ""
         },
         "hovertemplate": "Item=Tea<br>Year=%{x}<br>Value=%{y}<extra></extra>",
         "legendgroup": "Tea",
         "line": {
          "color": "#EF553B"
         },
         "marker": {
          "symbol": "circle"
         },
         "mode": "lines",
         "name": "Tea",
         "orientation": "v",
         "showlegend": true,
         "stackgroup": "1",
         "type": "scatter",
         "x": [
          2019,
          2018,
          2017,
          2016,
          2015,
          2013,
          2014,
          2012,
          2011,
          2010,
          2008,
          2007,
          2009,
          2006,
          2005,
          2004,
          1999,
          2002,
          2001,
          2003,
          2000,
          1998,
          1997,
          1996,
          1992,
          1995,
          1994,
          1991,
          1993,
          1989,
          1990,
          1988,
          1985,
          1984,
          1986,
          1987,
          1983,
          1980,
          1978,
          1982,
          1981,
          1977,
          1979,
          1976,
          1974,
          1975,
          1973,
          1972,
          1971,
          1970,
          1968,
          1969,
          1967,
          1966,
          1964,
          1965,
          1961,
          1962,
          1963
         ],
         "xaxis": "x",
         "y": [
          1390080,
          1338630,
          1325050,
          1250490,
          1233140,
          1208780,
          1207310,
          1135070,
          1095460,
          991182,
          987000,
          973000,
          972700,
          949000,
          907000,
          879000,
          874000,
          854000,
          847000,
          846000,
          826000,
          810000,
          780000,
          756000,
          754200,
          753900,
          753000,
          720300,
          703900,
          701100,
          688100,
          674300,
          656162,
          639864,
          620803,
          620800,
          581484,
          569550,
          563846,
          560732,
          559583,
          556267,
          543776,
          511817,
          489475,
          487137,
          471952,
          455996,
          435468,
          418517,
          402489,
          393588,
          384759,
          375983,
          372486,
          366374,
          354397,
          346736,
          346413
         ],
         "yaxis": "y"
        },
        {
         "fillpattern": {
          "shape": ""
         },
         "hovertemplate": "Item=Melons, other (inc.cantaloupes)<br>Year=%{x}<br>Value=%{y}<extra></extra>",
         "legendgroup": "Melons, other (inc.cantaloupes)",
         "line": {
          "color": "#00cc96"
         },
         "marker": {
          "symbol": "circle"
         },
         "mode": "lines",
         "name": "Melons, other (inc.cantaloupes)",
         "orientation": "v",
         "showlegend": true,
         "stackgroup": "1",
         "type": "scatter",
         "x": [
          2019,
          2018,
          2017,
          2016,
          2010,
          2009,
          2008,
          2013,
          2015,
          2007,
          2006,
          2005,
          2012,
          2014,
          2004,
          2011,
          2003,
          2002,
          2001,
          1999,
          1997,
          1998,
          2000,
          1996,
          1995,
          1991,
          1994,
          1993,
          1992,
          1990,
          1989,
          1988,
          1987,
          1986,
          1985,
          1984,
          1983,
          1982,
          1981,
          1980,
          1979,
          1978,
          1977,
          1976,
          1975,
          1974,
          1973,
          1972,
          1971,
          1970,
          1969,
          1968,
          1967,
          1966,
          1965,
          1964,
          1963,
          1962,
          1961
         ],
         "xaxis": "x",
         "y": [
          1266000,
          1231000,
          1097000,
          935000,
          931688,
          904054,
          876008,
          868000,
          863000,
          847702,
          819427,
          792199,
          791000,
          761000,
          758529,
          739900,
          674080,
          665403,
          657153,
          648470,
          646357,
          645788,
          645000,
          640000,
          635000,
          633000,
          630000,
          625000,
          620000,
          615000,
          610000,
          600000,
          580000,
          550000,
          530000,
          500000,
          470000,
          440000,
          400000,
          370000,
          340000,
          310000,
          290000,
          275000,
          270000,
          250000,
          230000,
          220000,
          200000,
          195000,
          190000,
          183000,
          180000,
          165000,
          155000,
          150000,
          140000,
          135000,
          130000
         ],
         "yaxis": "y"
        },
        {
         "fillpattern": {
          "shape": ""
         },
         "hovertemplate": "Item=Lettuce and chicory<br>Year=%{x}<br>Value=%{y}<extra></extra>",
         "legendgroup": "Lettuce and chicory",
         "line": {
          "color": "#ab63fa"
         },
         "marker": {
          "symbol": "circle"
         },
         "mode": "lines",
         "name": "Lettuce and chicory",
         "orientation": "v",
         "showlegend": true,
         "stackgroup": "1",
         "type": "scatter",
         "x": [
          2019,
          2018,
          2017,
          2016,
          2015,
          2014,
          2013,
          2012,
          2011,
          2010,
          2009,
          2008,
          2007,
          2006,
          2005,
          2004,
          2003,
          2002,
          2001,
          2000,
          1999,
          1998,
          1997,
          1996,
          1995,
          1994,
          1993,
          1992,
          1991,
          1990,
          1989,
          1988,
          1987,
          1986,
          1985,
          1984,
          1983,
          1982,
          1981,
          1980,
          1979,
          1978,
          1977,
          1976,
          1975,
          1974,
          1973,
          1972,
          1971,
          1970,
          1969,
          1968,
          1967,
          1966,
          1965,
          1964,
          1963,
          1962,
          1961
         ],
         "xaxis": "x",
         "y": [
          1262702,
          1235326,
          1207951,
          1180575,
          1152479,
          1095120,
          1080000,
          1075000,
          1047526,
          1023293,
          997490,
          970326,
          942980,
          917028,
          852976,
          835702,
          819185,
          803792,
          790000,
          785000,
          780000,
          770000,
          767215,
          765000,
          760000,
          755000,
          735000,
          732000,
          731158,
          717000,
          707000,
          692000,
          678000,
          660000,
          650000,
          618000,
          612000,
          600000,
          570000,
          550000,
          540000,
          495000,
          484000,
          460000,
          415000,
          405000,
          390000,
          385000,
          360000,
          355000,
          350000,
          321000,
          312000,
          305000,
          295000,
          280000,
          271000,
          265000,
          250000
         ],
         "yaxis": "y"
        },
        {
         "fillpattern": {
          "shape": ""
         },
         "hovertemplate": "Item=Peas, dry<br>Year=%{x}<br>Value=%{y}<extra></extra>",
         "legendgroup": "Peas, dry",
         "line": {
          "color": "#FFA15A"
         },
         "marker": {
          "symbol": "circle"
         },
         "mode": "lines",
         "name": "Peas, dry",
         "orientation": "v",
         "showlegend": true,
         "stackgroup": "1",
         "type": "scatter",
         "x": [
          1962,
          1961,
          1963,
          2017,
          2018,
          1969,
          1968,
          1965,
          2014,
          2015,
          2013,
          2000,
          2019,
          1966,
          2005,
          1971,
          1970,
          2016,
          2004,
          1997,
          2006,
          2012,
          1999,
          2010,
          1964,
          1995,
          1998,
          1967,
          2009,
          1972,
          1994,
          1996,
          2002,
          1991,
          2007,
          2011,
          2003,
          2001,
          1992,
          1993,
          1976,
          1975,
          1973,
          1990,
          2008,
          1977,
          1986,
          1989,
          1987,
          1974,
          1988,
          1984,
          1978,
          1979,
          1983,
          1985,
          1982,
          1981,
          1980
         ],
         "xaxis": "x",
         "y": [
          1103430,
          1049580,
          1026210,
          1011190,
          993250,
          958000,
          949500,
          925500,
          925000,
          889000,
          843000,
          814800,
          811690,
          806800,
          785600,
          775000,
          772100,
          742000,
          725200,
          721300,
          709900,
          706000,
          705000,
          674700,
          670500,
          666500,
          661100,
          660400,
          658200,
          658000,
          640300,
          639200,
          607600,
          604900,
          598900,
          593200,
          591500,
          563200,
          552200,
          549500,
          542000,
          472300,
          461400,
          461000,
          457700,
          432000,
          427200,
          417300,
          388000,
          377900,
          377300,
          363500,
          360100,
          359800,
          339400,
          330800,
          299000,
          295000,
          229300
         ],
         "yaxis": "y"
        },
        {
         "fillpattern": {
          "shape": ""
         },
         "hovertemplate": "Item=Rubber, natural<br>Year=%{x}<br>Value=%{y}<extra></extra>",
         "legendgroup": "Rubber, natural",
         "line": {
          "color": "#19d3f3"
         },
         "marker": {
          "symbol": "circle"
         },
         "mode": "lines",
         "name": "Rubber, natural",
         "orientation": "v",
         "showlegend": true,
         "stackgroup": "1",
         "type": "scatter",
         "x": [
          2019,
          2018,
          2017,
          2016,
          2015,
          2014,
          2012,
          2013,
          2008,
          2010,
          2006,
          2009,
          2007,
          2005,
          2011,
          2004,
          2003,
          2002,
          2001,
          2000,
          1999,
          1998,
          1997,
          1996,
          1995,
          1994,
          1993,
          1992,
          1991,
          1990,
          1989,
          1988,
          1987,
          1986,
          1985,
          1984,
          1983,
          1981,
          1982,
          1977,
          1980,
          1978,
          1976,
          1979,
          1975,
          1974,
          1973,
          1972,
          1971,
          1970,
          1969,
          1968,
          1967,
          1966,
          1965,
          1964,
          1963,
          1962,
          1961
         ],
         "xaxis": "x",
         "y": [
          1001405,
          988352,
          975298,
          967175,
          944504,
          940000,
          900000,
          900000,
          864500,
          862000,
          852895,
          831400,
          825345,
          802625,
          800000,
          749665,
          711650,
          649435,
          631000,
          630000,
          622000,
          605000,
          550000,
          507000,
          472000,
          394000,
          367000,
          366700,
          329600,
          297300,
          259200,
          235200,
          219500,
          200500,
          186500,
          175300,
          165900,
          153100,
          152900,
          149600,
          148400,
          147000,
          137800,
          135400,
          130100,
          125200,
          112400,
          101200,
          92200,
          89905,
          79951,
          68844,
          62502,
          53195,
          49387,
          44248,
          37200,
          31357,
          26992
         ],
         "yaxis": "y"
        },
        {
         "fillpattern": {
          "shape": ""
         },
         "hovertemplate": "Item=Areca nuts<br>Year=%{x}<br>Value=%{y}<extra></extra>",
         "legendgroup": "Areca nuts",
         "line": {
          "color": "#FF6692"
         },
         "marker": {
          "symbol": "circle"
         },
         "mode": "lines",
         "name": "Areca nuts",
         "orientation": "v",
         "showlegend": true,
         "stackgroup": "1",
         "type": "scatter",
         "x": [
          2019,
          2018,
          2015,
          2017,
          2016,
          2012,
          2014,
          2013,
          2007,
          2006,
          2009,
          2010,
          2011,
          2008,
          2005,
          2004,
          2003,
          2002,
          1998,
          2001,
          2000,
          1999,
          1997,
          1996,
          1995,
          1994,
          1993,
          1990,
          1989,
          1992,
          1991,
          1988,
          1987,
          1985,
          1986,
          1983,
          1981,
          1982,
          1984,
          1979,
          1980,
          1978,
          1974,
          1975,
          1977,
          1976,
          1972,
          1973,
          1971,
          1969,
          1970,
          1968,
          1967,
          1962,
          1964,
          1963,
          1961,
          1966,
          1965
         ],
         "xaxis": "x",
         "y": [
          901000,
          833000,
          747000,
          723000,
          714000,
          681000,
          622000,
          609000,
          483300,
          483100,
          481300,
          478000,
          478000,
          476000,
          452700,
          439200,
          415900,
          400000,
          333900,
          330000,
          330000,
          310000,
          307700,
          295500,
          289700,
          271100,
          256300,
          251300,
          249000,
          243200,
          238500,
          226700,
          219000,
          218700,
          216200,
          202200,
          195900,
          194700,
          189500,
          181900,
          181400,
          175200,
          167400,
          164700,
          164300,
          160000,
          150500,
          147700,
          141000,
          140000,
          137700,
          135000,
          130000,
          120000,
          120000,
          120000,
          120000,
          119000,
          113000
         ],
         "yaxis": "y"
        },
        {
         "fillpattern": {
          "shape": ""
         },
         "hovertemplate": "Item=Sesame seed<br>Year=%{x}<br>Value=%{y}<extra></extra>",
         "legendgroup": "Sesame seed",
         "line": {
          "color": "#B6E880"
         },
         "marker": {
          "symbol": "circle"
         },
         "mode": "lines",
         "name": "Sesame seed",
         "orientation": "v",
         "showlegend": true,
         "stackgroup": "1",
         "type": "scatter",
         "x": [
          2010,
          2015,
          1990,
          2014,
          2011,
          2003,
          1992,
          2007,
          2018,
          2017,
          2016,
          1989,
          2013,
          1991,
          2001,
          2019,
          2012,
          1988,
          2004,
          2005,
          1996,
          2008,
          2006,
          1981,
          1994,
          2009,
          1987,
          1997,
          1993,
          1970,
          1983,
          1982,
          1995,
          1998,
          1984,
          1977,
          2000,
          1978,
          1985,
          1962,
          1973,
          1964,
          1999,
          1975,
          1971,
          1969,
          1986,
          1980,
          1967,
          2002,
          1963,
          1965,
          1968,
          1976,
          1966,
          1974,
          1972,
          1961,
          1979
         ],
         "xaxis": "x",
         "y": [
          893000,
          850000,
          835300,
          828000,
          810000,
          782100,
          760000,
          756900,
          755430,
          747030,
          747000,
          745100,
          715000,
          705900,
          697800,
          689310,
          685000,
          681800,
          674100,
          641100,
          640500,
          640300,
          618000,
          590200,
          590000,
          588400,
          583100,
          568100,
          564000,
          562300,
          558800,
          551700,
          531000,
          527300,
          520700,
          520200,
          517800,
          514100,
          501000,
          492000,
          484600,
          484000,
          479900,
          479200,
          449500,
          448100,
          447700,
          445800,
          445000,
          441300,
          439000,
          424000,
          422500,
          421800,
          416000,
          392200,
          385400,
          372000,
          347700
         ],
         "yaxis": "y"
        },
        {
         "fillpattern": {
          "shape": ""
         },
         "hovertemplate": "Item=Tobacco, unmanufactured<br>Year=%{x}<br>Value=%{y}<extra></extra>",
         "legendgroup": "Tobacco, unmanufactured",
         "line": {
          "color": "#FF97FF"
         },
         "marker": {
          "symbol": "circle"
         },
         "mode": "lines",
         "name": "Tobacco, unmanufactured",
         "orientation": "v",
         "showlegend": true,
         "stackgroup": "1",
         "type": "scatter",
         "x": [
          2011,
          2012,
          2019,
          2018,
          2017,
          2013,
          2016,
          2015,
          1999,
          2014,
          2010,
          1998,
          2009,
          1997,
          1993,
          1992,
          1983,
          1995,
          1994,
          1991,
          2006,
          1990,
          2002,
          2004,
          2005,
          1996,
          1982,
          2007,
          2000,
          1978,
          1989,
          1984,
          2003,
          2008,
          1985,
          1981,
          1974,
          1987,
          1979,
          1986,
          1980,
          1972,
          1977,
          1973,
          1968,
          1988,
          1975,
          1971,
          1969,
          1964,
          1967,
          1976,
          1965,
          1963,
          2001,
          1962,
          1970,
          1961,
          1966
         ],
         "xaxis": "x",
         "y": [
          830000,
          820000,
          804454,
          788301,
          773158,
          765154,
          759594,
          738029,
          736200,
          719420,
          690000,
          646000,
          622830,
          618000,
          596500,
          584400,
          581600,
          566700,
          562900,
          555900,
          552200,
          551600,
          550000,
          549900,
          549100,
          535200,
          520100,
          520000,
          520000,
          493600,
          492800,
          492500,
          490000,
          490000,
          485900,
          480800,
          462100,
          461800,
          453800,
          441200,
          438500,
          418900,
          418800,
          372200,
          368700,
          367400,
          363100,
          361900,
          361000,
          360000,
          353400,
          349800,
          346000,
          341000,
          340000,
          339000,
          337100,
          307000,
          293000
         ],
         "yaxis": "y"
        },
        {
         "fillpattern": {
          "shape": ""
         },
         "hovertemplate": "Item=Cashew nuts, with shell<br>Year=%{x}<br>Value=%{y}<extra></extra>",
         "legendgroup": "Cashew nuts, with shell",
         "line": {
          "color": "#FECB52"
         },
         "marker": {
          "symbol": "circle"
         },
         "mode": "lines",
         "name": "Cashew nuts, with shell",
         "orientation": "v",
         "showlegend": true,
         "stackgroup": "1",
         "type": "scatter",
         "x": [
          2018,
          2013,
          2014,
          2017,
          2015,
          2019,
          2012,
          2009,
          2011,
          2016,
          2008,
          2007,
          2010,
          2006,
          2005,
          2004,
          2000,
          2003,
          2002,
          1999,
          2001,
          1997,
          1996,
          1998,
          1994,
          1993,
          1995,
          1992,
          1991,
          1990,
          1989,
          1988,
          1987,
          1986,
          1985,
          1984,
          1983,
          1982,
          1981,
          1980,
          1979,
          1978,
          1977,
          1976,
          1975,
          1974,
          1972,
          1973,
          1971,
          1970,
          1969,
          1968,
          1967,
          1966,
          1965,
          1964,
          1963,
          1962,
          1961
         ],
         "xaxis": "x",
         "y": [
          817000,
          753000,
          753000,
          745000,
          745000,
          743000,
          725000,
          695000,
          674600,
          671000,
          665000,
          620000,
          613000,
          573000,
          544000,
          535000,
          520000,
          500000,
          470000,
          460000,
          450000,
          430000,
          417830,
          360000,
          350000,
          350000,
          321640,
          305310,
          294590,
          285590,
          274330,
          260260,
          245580,
          234480,
          221330,
          210870,
          201440,
          195760,
          185250,
          180266,
          171817,
          165323,
          162457,
          161536,
          144254,
          135451,
          130000,
          129766,
          127223,
          123319,
          120438,
          118542,
          114182,
          103818,
          100000,
          95000,
          92000,
          88000,
          85000
         ],
         "yaxis": "y"
        },
        {
         "fillpattern": {
          "shape": ""
         },
         "hovertemplate": "Item=Treenuts, Total<br>Year=%{x}<br>Value=%{y}<extra></extra>",
         "legendgroup": "Treenuts, Total",
         "line": {
          "color": "#636efa"
         },
         "marker": {
          "symbol": "circle"
         },
         "mode": "lines",
         "name": "Treenuts, Total",
         "orientation": "v",
         "showlegend": true,
         "stackgroup": "1",
         "type": "scatter",
         "x": [
          2018,
          2014,
          2013,
          2015,
          2012,
          2017,
          2019,
          2009,
          2011,
          2016,
          2008,
          2007,
          2010,
          2006,
          2005,
          2004,
          2000,
          2003,
          2002,
          1999,
          2001,
          1997,
          1996,
          1998,
          1994,
          1993,
          1995,
          1992,
          1991,
          1990,
          1989,
          1988,
          1987,
          1986,
          1985,
          1984,
          1983,
          1982,
          1981,
          1980,
          1979,
          1978,
          1976,
          1977,
          1975,
          1974,
          1972,
          1973,
          1971,
          1970,
          1968,
          1969,
          1967,
          1966,
          1965,
          1964,
          1963,
          1962,
          1961
         ],
         "xaxis": "x",
         "y": [
          817000,
          796000,
          789000,
          780000,
          765000,
          745000,
          743000,
          731000,
          710600,
          704000,
          702000,
          653000,
          651000,
          609000,
          576000,
          569000,
          551000,
          531000,
          500000,
          488000,
          479000,
          454000,
          446830,
          390000,
          378000,
          372000,
          346640,
          328810,
          312590,
          305590,
          291330,
          280260,
          268580,
          252480,
          236330,
          225870,
          221440,
          215760,
          202250,
          198266,
          188817,
          186323,
          177536,
          174457,
          159254,
          144951,
          144000,
          143266,
          138223,
          137319,
          132542,
          130438,
          125182,
          119818,
          114000,
          109000,
          105000,
          100000,
          97000
         ],
         "yaxis": "y"
        },
        {
         "fillpattern": {
          "shape": ""
         },
         "hovertemplate": "Item=Beans, green<br>Year=%{x}<br>Value=%{y}<extra></extra>",
         "legendgroup": "Beans, green",
         "line": {
          "color": "#EF553B"
         },
         "marker": {
          "symbol": "circle"
         },
         "mode": "lines",
         "name": "Beans, green",
         "orientation": "v",
         "showlegend": true,
         "stackgroup": "1",
         "type": "scatter",
         "x": [
          2019,
          2018,
          2017,
          2016,
          2015,
          2014,
          2013,
          2012,
          2011,
          2010,
          2009,
          2008,
          2007,
          2006,
          2005,
          2004,
          2003,
          2002,
          2001,
          2000,
          1999,
          1998,
          1997,
          1996,
          1990,
          1995,
          1989,
          1994,
          1993,
          1988,
          1992,
          1987,
          1991,
          1986,
          1985,
          1984,
          1983,
          1982,
          1981,
          1980,
          1979,
          1978,
          1977,
          1976,
          1975,
          1974,
          1973,
          1972,
          1971,
          1970,
          1969,
          1968,
          1965,
          1967,
          1966,
          1964,
          1963,
          1962,
          1961
         ],
         "xaxis": "x",
         "y": [
          725998,
          710119,
          694241,
          678362,
          661863,
          628502,
          620000,
          620000,
          600978,
          586127,
          570534,
          554346,
          537780,
          521490,
          504808,
          465352,
          454062,
          443108,
          432626,
          420000,
          416734,
          410000,
          405349,
          400000,
          398084,
          390000,
          390000,
          388000,
          385000,
          385000,
          380000,
          375000,
          374000,
          370000,
          365000,
          360000,
          355000,
          350000,
          330000,
          320000,
          305000,
          295000,
          285000,
          283000,
          280000,
          277000,
          270000,
          260000,
          250000,
          240000,
          230000,
          220000,
          210000,
          210000,
          205000,
          200000,
          190000,
          186000,
          185000
         ],
         "yaxis": "y"
        },
        {
         "fillpattern": {
          "shape": ""
         },
         "hovertemplate": "Item=Linseed<br>Year=%{x}<br>Value=%{y}<extra></extra>",
         "legendgroup": "Linseed",
         "line": {
          "color": "#00cc96"
         },
         "marker": {
          "symbol": "circle"
         },
         "mode": "lines",
         "name": "Linseed",
         "orientation": "v",
         "showlegend": true,
         "stackgroup": "1",
         "type": "scatter",
         "x": [
          1976,
          1975,
          1979,
          1972,
          1978,
          1974,
          1965,
          1982,
          1971,
          1970,
          1962,
          1984,
          1968,
          1963,
          1973,
          1981,
          1977,
          1961,
          1988,
          1985,
          1964,
          1986,
          1983,
          1989,
          1991,
          1966,
          1994,
          1969,
          1990,
          1995,
          1987,
          1997,
          1992,
          1996,
          1993,
          1980,
          1999,
          1967,
          2000,
          1998,
          2002,
          2001,
          2004,
          2017,
          2003,
          2018,
          2006,
          2005,
          2009,
          2007,
          2008,
          2015,
          2010,
          2012,
          2013,
          2011,
          2014,
          2016,
          2019
         ],
         "xaxis": "x",
         "y": [
          597800,
          563800,
          535100,
          529500,
          526800,
          503900,
          494000,
          482500,
          473800,
          469300,
          463000,
          444000,
          438000,
          430000,
          428100,
          423000,
          418800,
          398000,
          393300,
          389000,
          378700,
          376200,
          375400,
          360800,
          332000,
          331000,
          330000,
          329200,
          325600,
          322600,
          316600,
          308600,
          292000,
          291900,
          278000,
          269300,
          264900,
          259900,
          240800,
          237400,
          209100,
          203500,
          196500,
          184250,
          176700,
          173760,
          172500,
          169700,
          169200,
          167900,
          163000,
          155000,
          153700,
          152000,
          147000,
          147000,
          141730,
          125000,
          99070
         ],
         "yaxis": "y"
        },
        {
         "fillpattern": {
          "shape": ""
         },
         "hovertemplate": "Item=Coir<br>Year=%{x}<br>Value=%{y}<extra></extra>",
         "legendgroup": "Coir",
         "line": {
          "color": "#ab63fa"
         },
         "marker": {
          "symbol": "circle"
         },
         "mode": "lines",
         "name": "Coir",
         "orientation": "v",
         "showlegend": true,
         "stackgroup": "1",
         "type": "scatter",
         "x": [
          2013,
          2019,
          2018,
          2017,
          2016,
          2015,
          2014,
          2007,
          2010,
          2009,
          2003,
          2012,
          2011,
          2006,
          2008,
          1994,
          1996,
          1995,
          1997,
          2000,
          1998,
          1999,
          2001,
          2002,
          1993,
          2005,
          2004,
          1992,
          1991,
          1990,
          1989,
          1988,
          1987,
          1984,
          1985,
          1982,
          1986,
          1971,
          1970,
          1974,
          1972,
          1969,
          1973,
          1975,
          1983,
          1976,
          1978,
          1980,
          1979,
          1981,
          1968,
          1977,
          1967,
          1966,
          1964,
          1965,
          1962,
          1963,
          1961
         ],
         "xaxis": "x",
         "y": [
          596500,
          581641,
          576492,
          571428,
          562974,
          560480,
          553945,
          545000,
          542000,
          541000,
          531500,
          528000,
          514000,
          509500,
          507000,
          494100,
          485000,
          481100,
          472500,
          468000,
          465700,
          454000,
          450000,
          447000,
          444700,
          441500,
          419000,
          417600,
          374500,
          361500,
          347700,
          317300,
          270100,
          256800,
          251500,
          238400,
          236900,
          227500,
          225700,
          224000,
          222800,
          217700,
          217400,
          216600,
          215800,
          214200,
          212900,
          212500,
          209400,
          206900,
          206000,
          201100,
          197700,
          193000,
          187400,
          187000,
          186400,
          175600,
          166500
         ],
         "yaxis": "y"
        },
        {
         "fillpattern": {
          "shape": ""
         },
         "hovertemplate": "Item=Carrots and turnips<br>Year=%{x}<br>Value=%{y}<extra></extra>",
         "legendgroup": "Carrots and turnips",
         "line": {
          "color": "#FFA15A"
         },
         "marker": {
          "symbol": "circle"
         },
         "mode": "lines",
         "name": "Carrots and turnips",
         "orientation": "v",
         "showlegend": true,
         "stackgroup": "1",
         "type": "scatter",
         "x": [
          2017,
          2016,
          2015,
          2014,
          2012,
          2013,
          2011,
          2010,
          2009,
          2008,
          2007,
          2006,
          2005,
          2004,
          2003,
          2002,
          2001,
          1999,
          2000,
          1998,
          1997,
          1996,
          1994,
          1995,
          1993,
          1992,
          1991,
          1990,
          1989,
          1988,
          1987,
          1986,
          1985,
          1984,
          1983,
          1982,
          1981,
          1980,
          1979,
          1978,
          1977,
          1976,
          1975,
          1974,
          1973,
          1972,
          1971,
          1970,
          1969,
          1968,
          1967,
          1966,
          1965,
          1964,
          1963,
          1962,
          1961
         ],
         "xaxis": "x",
         "y": [
          575630,
          562983,
          553911,
          533610,
          520000,
          520000,
          498989,
          485771,
          472473,
          459139,
          445812,
          432546,
          419407,
          404800,
          392405,
          380074,
          368003,
          350234,
          350000,
          342981,
          340000,
          320000,
          300319,
          300000,
          295000,
          293000,
          287000,
          280000,
          275000,
          272000,
          260000,
          250000,
          235000,
          227000,
          204000,
          200000,
          188000,
          186000,
          184000,
          170000,
          165000,
          160000,
          143000,
          140000,
          129000,
          124000,
          120000,
          112000,
          110000,
          100000,
          96000,
          92000,
          85000,
          81000,
          74000,
          70000,
          64000
         ],
         "yaxis": "y"
        },
        {
         "fillpattern": {
          "shape": ""
         },
         "hovertemplate": "Item=Safflower seed<br>Year=%{x}<br>Value=%{y}<extra></extra>",
         "legendgroup": "Safflower seed",
         "line": {
          "color": "#19d3f3"
         },
         "marker": {
          "symbol": "circle"
         },
         "mode": "lines",
         "name": "Safflower seed",
         "orientation": "v",
         "showlegend": true,
         "stackgroup": "1",
         "type": "scatter",
         "x": [
          1994,
          1985,
          1984,
          1990,
          1988,
          1989,
          1997,
          1995,
          1982,
          1983,
          1996,
          1987,
          1993,
          1986,
          1981,
          1991,
          1980,
          2000,
          1999,
          2007,
          1976,
          2002,
          2006,
          2008,
          1977,
          1975,
          1979,
          1992,
          2001,
          1974,
          2009,
          1978,
          2010,
          2003,
          2005,
          1971,
          2011,
          2012,
          1970,
          2004,
          1972,
          1998,
          2014,
          2013,
          2017,
          1969,
          2015,
          1973,
          1968,
          1967,
          1965,
          1966,
          1963,
          1962,
          1961,
          1964,
          2018,
          2016,
          2019
         ],
         "xaxis": "x",
         "y": [
          522000,
          515200,
          500900,
          486500,
          462200,
          444900,
          432300,
          423000,
          421500,
          395900,
          383300,
          352500,
          348300,
          347900,
          335100,
          320100,
          279400,
          260400,
          242200,
          240000,
          238300,
          230000,
          228600,
          225000,
          219600,
          211900,
          209000,
          202800,
          202000,
          191000,
          189200,
          187800,
          178800,
          178500,
          173600,
          153900,
          150000,
          145000,
          142400,
          134900,
          130500,
          120000,
          113000,
          109000,
          93900,
          93700,
          90000,
          81800,
          77700,
          72000,
          71500,
          69000,
          68000,
          67000,
          66000,
          62000,
          55280,
          53000,
          24640
         ],
         "yaxis": "y"
        },
        {
         "fillpattern": {
          "shape": ""
         },
         "hovertemplate": "Item=Bastfibres, other<br>Year=%{x}<br>Value=%{y}<extra></extra>",
         "legendgroup": "Bastfibres, other",
         "line": {
          "color": "#FF6692"
         },
         "marker": {
          "symbol": "circle"
         },
         "mode": "lines",
         "name": "Bastfibres, other",
         "orientation": "v",
         "showlegend": true,
         "stackgroup": "1",
         "type": "scatter",
         "x": [
          1963,
          1961,
          1962,
          1978,
          1979,
          1977,
          1985,
          1976,
          1964,
          1980,
          1981,
          1975,
          1973,
          1974,
          1967,
          1983,
          1970,
          1965,
          1991,
          1996,
          1984,
          1986,
          1990,
          1966,
          1969,
          1982,
          1971,
          1989,
          1972,
          1988,
          1994,
          1995,
          1992,
          1968,
          1993,
          2001,
          1987,
          2000,
          1999,
          2002,
          1997,
          2003,
          2008,
          1998,
          2007,
          2004,
          2005,
          2006,
          2009,
          2011,
          2012,
          2013,
          2010,
          2014,
          2015,
          2016,
          2017,
          2018,
          2019
         ],
         "xaxis": "x",
         "y": [
          417460,
          416200,
          392700,
          389694,
          386610,
          376668,
          373800,
          369608,
          367640,
          350906,
          341240,
          327802,
          315252,
          303050,
          300360,
          298000,
          290800,
          290780,
          286900,
          282600,
          281700,
          280000,
          277300,
          277044,
          270454,
          262200,
          261872,
          258500,
          249288,
          249200,
          235600,
          235300,
          231400,
          230562,
          230100,
          223074,
          221500,
          203364,
          200250,
          196992,
          190800,
          180306,
          178200,
          175392,
          172080,
          165834,
          157140,
          156618,
          131580,
          115700,
          113000,
          108000,
          106400,
          103934,
          98543,
          90384,
          84245,
          78106,
          71967
         ],
         "yaxis": "y"
        },
        {
         "fillpattern": {
          "shape": ""
         },
         "hovertemplate": "Item=Grapefruit (inc. pomelos)<br>Year=%{x}<br>Value=%{y}<extra></extra>",
         "legendgroup": "Grapefruit (inc. pomelos)",
         "line": {
          "color": "#B6E880"
         },
         "marker": {
          "symbol": "circle"
         },
         "mode": "lines",
         "name": "Grapefruit (inc. pomelos)",
         "orientation": "v",
         "showlegend": true,
         "stackgroup": "1",
         "type": "scatter",
         "x": [
          2016,
          2012,
          2013,
          2010,
          2015,
          2014,
          2009,
          2008,
          2011,
          2007,
          2006,
          2005,
          2004,
          2003,
          2002,
          2001,
          2000,
          1999,
          1998,
          1997,
          1996,
          1995,
          1994,
          1993,
          1990,
          1989,
          1992,
          1988,
          1987,
          1991,
          1986,
          1971,
          1970,
          1968,
          1972,
          1975,
          1983,
          1984,
          1969,
          1974,
          1973,
          1978,
          1967,
          1976,
          1977,
          1962,
          1965,
          1985,
          1982,
          1981,
          1980,
          1966,
          1964,
          1963,
          1979,
          1961
         ],
         "xaxis": "x",
         "y": [
          390500,
          322500,
          285300,
          260600,
          260500,
          248500,
          216000,
          200000,
          196000,
          178000,
          158000,
          148000,
          145000,
          142000,
          140000,
          130000,
          130000,
          124000,
          110000,
          106000,
          105000,
          96500,
          90000,
          85000,
          80000,
          75000,
          75000,
          73000,
          70000,
          70000,
          50000,
          35000,
          30000,
          30000,
          30000,
          30000,
          26000,
          25000,
          25000,
          25000,
          25000,
          20000,
          20000,
          20000,
          20000,
          20000,
          20000,
          20000,
          20000,
          20000,
          20000,
          20000,
          20000,
          20000,
          20000,
          20000
         ],
         "yaxis": "y"
        },
        {
         "fillpattern": {
          "shape": ""
         },
         "hovertemplate": "Item=Coffee, green<br>Year=%{x}<br>Value=%{y}<extra></extra>",
         "legendgroup": "Coffee, green",
         "line": {
          "color": "#FF97FF"
         },
         "marker": {
          "symbol": "circle"
         },
         "mode": "lines",
         "name": "Coffee, green",
         "orientation": "v",
         "showlegend": true,
         "stackgroup": "1",
         "type": "scatter",
         "x": [
          2016,
          2015,
          2019,
          2013,
          2018,
          2012,
          2017,
          2014,
          2011,
          2002,
          2001,
          2000,
          2010,
          2007,
          2005,
          2003,
          2006,
          2004,
          1999,
          2009,
          2008,
          1998,
          1996,
          1989,
          1994,
          1997,
          1985,
          1987,
          1995,
          1992,
          1991,
          1993,
          1982,
          1980,
          1983,
          1978,
          1988,
          1986,
          1981,
          1990,
          1979,
          1971,
          1984,
          1977,
          1975,
          1973,
          1974,
          1976,
          1967,
          1969,
          1964,
          1972,
          1966,
          1970,
          1965,
          1968,
          1963,
          1962,
          1961
         ],
         "xaxis": "x",
         "y": [
          348000,
          327000,
          319500,
          318200,
          316000,
          314000,
          312000,
          304500,
          302000,
          301000,
          301000,
          292000,
          289600,
          288000,
          275500,
          275275,
          274000,
          270500,
          265000,
          262300,
          262000,
          228000,
          223000,
          214700,
          208000,
          205000,
          195100,
          192100,
          180000,
          180000,
          170000,
          162000,
          152100,
          149835,
          130000,
          125000,
          122700,
          122400,
          118600,
          118100,
          110488,
          110231,
          105029,
          102300,
          92506,
          91072,
          86388,
          84000,
          78500,
          73430,
          69300,
          68948,
          63900,
          63619,
          60900,
          57331,
          56200,
          46000,
          43200
         ],
         "yaxis": "y"
        },
        {
         "fillpattern": {
          "shape": ""
         },
         "hovertemplate": "Item=Pears<br>Year=%{x}<br>Value=%{y}<extra></extra>",
         "legendgroup": "Pears",
         "line": {
          "color": "#FECB52"
         },
         "marker": {
          "symbol": "circle"
         },
         "mode": "lines",
         "name": "Pears",
         "orientation": "v",
         "showlegend": true,
         "stackgroup": "1",
         "type": "scatter",
         "x": [
          2017,
          2012,
          2010,
          2011,
          2013,
          2016,
          2009,
          2018,
          2014,
          2008,
          2015,
          2007,
          2019,
          2006,
          2005,
          2004,
          2003,
          2002,
          2001,
          2000,
          1999,
          1998,
          1990,
          1997,
          1996,
          1995,
          1994,
          1993,
          1992,
          1989,
          1991,
          1985,
          1988,
          1986,
          1984,
          1987,
          1983,
          1982,
          1981,
          1980,
          1979,
          1978,
          1977,
          1976,
          1975,
          1973,
          1974,
          1971,
          1970,
          1972,
          1969,
          1968,
          1967,
          1966,
          1964,
          1965,
          1963,
          1962,
          1961
         ],
         "xaxis": "x",
         "y": [
          346000,
          340000,
          336000,
          335000,
          325000,
          323000,
          320464,
          318000,
          316700,
          311806,
          303000,
          301548,
          300000,
          278673,
          263718,
          245887,
          230869,
          216203,
          200000,
          188000,
          178000,
          158000,
          157987,
          153000,
          150000,
          140000,
          135538,
          130000,
          120000,
          118658,
          115000,
          85000,
          82151,
          82000,
          80000,
          72676,
          70000,
          65000,
          65000,
          64000,
          62000,
          62000,
          60000,
          58000,
          56000,
          54000,
          54000,
          54000,
          52000,
          52000,
          50000,
          49000,
          48000,
          47000,
          46000,
          45000,
          40000,
          37000,
          33000
         ],
         "yaxis": "y"
        },
        {
         "fillpattern": {
          "shape": ""
         },
         "hovertemplate": "Item=Peaches and nectarines<br>Year=%{x}<br>Value=%{y}<extra></extra>",
         "legendgroup": "Peaches and nectarines",
         "line": {
          "color": "#636efa"
         },
         "marker": {
          "symbol": "circle"
         },
         "mode": "lines",
         "name": "Peaches and nectarines",
         "orientation": "v",
         "showlegend": true,
         "stackgroup": "1",
         "type": "scatter",
         "x": [
          2016,
          2015,
          2014,
          2013,
          2012,
          2010,
          2011,
          2009,
          2008,
          2007,
          2006,
          2005,
          2004,
          2003,
          2002,
          2001,
          2000,
          1999,
          1998,
          1997,
          1996,
          1987,
          1995,
          1994,
          1993,
          1986,
          1992,
          1982,
          1980,
          1981,
          1991,
          1979,
          1990,
          1983,
          1989,
          1977,
          1985,
          1988,
          1976,
          1984,
          1978,
          1973,
          1968,
          1967,
          1969,
          1963,
          1970,
          1965,
          1975,
          1974,
          1964,
          1972,
          1966,
          1971,
          1961,
          1962
         ],
         "xaxis": "x",
         "y": [
          270499,
          264318,
          260000,
          250000,
          250000,
          244000,
          243000,
          236240,
          231755,
          226454,
          212948,
          203254,
          199356,
          183639,
          165966,
          150000,
          120000,
          114000,
          101000,
          100000,
          95000,
          90300,
          89000,
          85000,
          83000,
          80000,
          80000,
          78000,
          78000,
          76000,
          75000,
          73000,
          70000,
          70000,
          67305,
          66000,
          65000,
          63912,
          63000,
          60000,
          54000,
          53000,
          50000,
          49000,
          49000,
          49000,
          48500,
          48000,
          48000,
          47000,
          45000,
          45000,
          45000,
          44000,
          43000,
          39000
         ],
         "yaxis": "y"
        },
        {
         "fillpattern": {
          "shape": ""
         },
         "hovertemplate": "Item=Plums and sloes<br>Year=%{x}<br>Value=%{y}<extra></extra>",
         "legendgroup": "Plums and sloes",
         "line": {
          "color": "#EF553B"
         },
         "marker": {
          "symbol": "circle"
         },
         "mode": "lines",
         "name": "Plums and sloes",
         "orientation": "v",
         "showlegend": true,
         "stackgroup": "1",
         "type": "scatter",
         "x": [
          2016,
          2015,
          2014,
          2013,
          2012,
          2011,
          2010,
          2009,
          2008,
          2007,
          2006,
          2005,
          2004,
          2003,
          2002,
          2001,
          2000,
          1999,
          1998,
          1997,
          1996,
          1995,
          1994,
          1993,
          1992,
          1991,
          1990,
          1985,
          1989,
          1984,
          1988,
          1987,
          1986,
          1983,
          1982,
          1980,
          1981,
          1979,
          1978,
          1977,
          1976,
          1975,
          1971,
          1974,
          1973,
          1970,
          1969,
          1972,
          1968,
          1967,
          1966,
          1964,
          1965,
          1962,
          1963,
          1961
         ],
         "xaxis": "x",
         "y": [
          246243,
          228833,
          225000,
          220000,
          215000,
          210000,
          200000,
          191404,
          180843,
          169600,
          160000,
          146220,
          140000,
          100000,
          90000,
          80000,
          78000,
          74000,
          66000,
          65000,
          62000,
          58000,
          56000,
          55000,
          54000,
          52000,
          50000,
          40000,
          35426,
          35000,
          34104,
          33995,
          33000,
          30000,
          28000,
          28000,
          28000,
          27000,
          26000,
          25000,
          24000,
          22000,
          20000,
          20000,
          19000,
          19000,
          18000,
          18000,
          17000,
          16000,
          15000,
          15000,
          14000,
          13000,
          11000,
          11000
         ],
         "yaxis": "y"
        },
        {
         "fillpattern": {
          "shape": ""
         },
         "hovertemplate": "Item=Cucumbers and gherkins<br>Year=%{x}<br>Value=%{y}<extra></extra>",
         "legendgroup": "Cucumbers and gherkins",
         "line": {
          "color": "#00cc96"
         },
         "marker": {
          "symbol": "circle"
         },
         "mode": "lines",
         "name": "Cucumbers and gherkins",
         "orientation": "v",
         "showlegend": true,
         "stackgroup": "1",
         "type": "scatter",
         "x": [
          2019,
          2018,
          2017,
          2016,
          2015,
          2014,
          2013,
          2012,
          2011,
          2010,
          2009,
          2008,
          2007,
          2006,
          2005,
          2004,
          2003,
          2002,
          2001,
          2000,
          1999,
          1998,
          1997,
          1996,
          1995,
          1994,
          1993,
          1992,
          1991,
          1990,
          1989,
          1988,
          1987,
          1986,
          1985,
          1984,
          1983,
          1982,
          1981,
          1980,
          1979,
          1978,
          1977,
          1976,
          1975,
          1974,
          1973,
          1972,
          1971,
          1970,
          1969,
          1968,
          1967,
          1966,
          1965,
          1964,
          1963,
          1962,
          1961
         ],
         "xaxis": "x",
         "y": [
          199018,
          194474,
          189930,
          185385,
          180568,
          169475,
          168000,
          168000,
          163556,
          159596,
          155271,
          150639,
          145968,
          141576,
          130894,
          127950,
          125142,
          122502,
          120000,
          119000,
          118000,
          117000,
          116000,
          115000,
          114000,
          113000,
          111000,
          109000,
          105690,
          102000,
          98000,
          95000,
          93500,
          93000,
          91500,
          91000,
          87000,
          83700,
          80500,
          74000,
          72000,
          69000,
          64000,
          62600,
          61000,
          59000,
          58000,
          53000,
          51000,
          50000,
          46000,
          44000,
          42000,
          40000,
          38000,
          34000,
          31500,
          29500,
          26000
         ],
         "yaxis": "y"
        },
        {
         "fillpattern": {
          "shape": ""
         },
         "hovertemplate": "Item=Oilseeds nes<br>Year=%{x}<br>Value=%{y}<extra></extra>",
         "legendgroup": "Oilseeds nes",
         "line": {
          "color": "#ab63fa"
         },
         "marker": {
          "symbol": "circle"
         },
         "mode": "lines",
         "name": "Oilseeds nes",
         "orientation": "v",
         "showlegend": true,
         "stackgroup": "1",
         "type": "scatter",
         "x": [
          1993,
          1985,
          1994,
          1995,
          1989,
          1990,
          1991,
          1987,
          1988,
          1983,
          1998,
          1997,
          1992,
          1981,
          1996,
          1975,
          1977,
          1984,
          1978,
          1980,
          1999,
          1973,
          1974,
          1986,
          2001,
          1970,
          2006,
          1982,
          2008,
          1971,
          1976,
          2004,
          2007,
          2000,
          2003,
          2005,
          2010,
          1979,
          2012,
          1962,
          2009,
          1961,
          1967,
          2011,
          2013,
          1969,
          1964,
          1972,
          1965,
          1968,
          2002,
          2016,
          1963,
          1966,
          2014,
          2015,
          2017,
          2018,
          2019
         ],
         "xaxis": "x",
         "y": [
          196000,
          192300,
          190000,
          190000,
          186500,
          186300,
          179500,
          179300,
          177700,
          176300,
          164000,
          162200,
          162000,
          160200,
          151800,
          150500,
          148180,
          148000,
          146500,
          146100,
          140000,
          136000,
          132000,
          131200,
          130000,
          128000,
          121000,
          117600,
          117000,
          115800,
          113300,
          112000,
          110000,
          110000,
          109000,
          108000,
          108000,
          105400,
          102000,
          101000,
          100000,
          100000,
          98000,
          98000,
          98000,
          98000,
          97000,
          92500,
          91000,
          89000,
          86000,
          85000,
          80000,
          79000,
          76000,
          74000,
          70000,
          63000,
          42000
         ],
         "yaxis": "y"
        },
        {
         "fillpattern": {
          "shape": ""
         },
         "hovertemplate": "Item=Mushrooms and truffles<br>Year=%{x}<br>Value=%{y}<extra></extra>",
         "legendgroup": "Mushrooms and truffles",
         "line": {
          "color": "#FFA15A"
         },
         "marker": {
          "symbol": "circle"
         },
         "mode": "lines",
         "name": "Mushrooms and truffles",
         "orientation": "v",
         "showlegend": true,
         "stackgroup": "1",
         "type": "scatter",
         "x": [
          2019,
          2018,
          2017,
          2016,
          2015,
          2010,
          2011,
          2003,
          2002,
          2004,
          2005,
          2008,
          2007,
          2009,
          2006,
          2001,
          2012,
          2014,
          2000,
          1995,
          2013,
          1996,
          1994,
          1999,
          1998,
          1993,
          1992,
          1997,
          1991,
          1990,
          1989,
          1987,
          1988,
          1981,
          1986,
          1978,
          1979,
          1980,
          1982,
          1983,
          1984,
          1976,
          1977,
          1974,
          1975,
          1985,
          1971,
          1968,
          1969,
          1970,
          1972,
          1973,
          1967,
          1966,
          1965,
          1964,
          1963,
          1962,
          1961
         ],
         "xaxis": "x",
         "y": [
          182000,
          134000,
          101690,
          76000,
          51000,
          40600,
          40600,
          40000,
          40000,
          40000,
          40000,
          37000,
          37000,
          37000,
          35000,
          30000,
          30000,
          28000,
          24000,
          18000,
          17000,
          16000,
          16000,
          14000,
          13500,
          12000,
          10000,
          9000,
          4000,
          2000,
          1500,
          1500,
          1500,
          1400,
          1400,
          1300,
          1300,
          1300,
          1300,
          1300,
          1300,
          1300,
          1200,
          1200,
          1200,
          1200,
          1000,
          1000,
          1000,
          1000,
          1000,
          1000,
          900,
          800,
          800,
          500,
          500,
          500,
          500
         ],
         "yaxis": "y"
        },
        {
         "fillpattern": {
          "shape": ""
         },
         "hovertemplate": "Item=Pepper (piper spp.)<br>Year=%{x}<br>Value=%{y}<extra></extra>",
         "legendgroup": "Pepper (piper spp.)",
         "line": {
          "color": "#19d3f3"
         },
         "marker": {
          "symbol": "circle"
         },
         "mode": "lines",
         "name": "Pepper (piper spp.)",
         "orientation": "v",
         "showlegend": true,
         "stackgroup": "1",
         "type": "scatter",
         "x": [
          2006,
          1999,
          2004,
          2005,
          2017,
          2007,
          2018,
          2019,
          2015,
          2001,
          2003,
          2002,
          1996,
          1995,
          2000,
          1998,
          1997,
          1990,
          2016,
          2013,
          1992,
          2011,
          1994,
          2010,
          2014,
          1993,
          1988,
          1991,
          2009,
          2008,
          1989,
          2012,
          1986,
          1976,
          1987,
          1981,
          1980,
          1982,
          1973,
          1974,
          1961,
          1979,
          1966,
          1983,
          1972,
          1971,
          1970,
          1962,
          1967,
          1968,
          1977,
          1975,
          1969,
          1964,
          1963,
          1965,
          1984,
          1978,
          1985
         ],
         "xaxis": "x",
         "y": [
          92900,
          76000,
          73190,
          73020,
          72000,
          69000,
          66000,
          66000,
          65000,
          64000,
          64000,
          62000,
          61580,
          60700,
          59000,
          57000,
          56000,
          55190,
          55000,
          53000,
          52010,
          52000,
          51300,
          51020,
          51000,
          50760,
          48090,
          47950,
          47400,
          47010,
          44160,
          41000,
          34000,
          31620,
          31340,
          29500,
          29490,
          29200,
          28700,
          28180,
          28000,
          27700,
          27000,
          26610,
          26190,
          26160,
          26160,
          26000,
          26000,
          25700,
          25620,
          25570,
          25500,
          24000,
          24000,
          23000,
          22710,
          21500,
          18220
         ],
         "yaxis": "y"
        },
        {
         "fillpattern": {
          "shape": ""
         },
         "hovertemplate": "Item=Chillies and peppers, green<br>Year=%{x}<br>Value=%{y}<extra></extra>",
         "legendgroup": "Chillies and peppers, green",
         "line": {
          "color": "#FF6692"
         },
         "marker": {
          "symbol": "circle"
         },
         "mode": "lines",
         "name": "Chillies and peppers, green",
         "orientation": "v",
         "showlegend": true,
         "stackgroup": "1",
         "type": "scatter",
         "x": [
          2019,
          2018,
          2017,
          2016,
          2015,
          2014,
          2012,
          2013,
          2011,
          2010,
          2009,
          2008,
          2007,
          2005,
          2004,
          2003,
          2002,
          2006,
          2001,
          2000,
          1999,
          1998,
          1997,
          1996,
          1995,
          1994,
          1993,
          1992,
          1991,
          1990,
          1989,
          1988,
          1987,
          1986,
          1985,
          1984,
          1983,
          1982,
          1981,
          1980,
          1979,
          1978,
          1977,
          1976,
          1975,
          1974,
          1973,
          1972,
          1971,
          1970,
          1969,
          1968,
          1967,
          1966,
          1965,
          1964,
          1963,
          1962,
          1961
         ],
         "xaxis": "x",
         "y": [
          81837,
          79630,
          77422,
          75214,
          72849,
          69615,
          68000,
          68000,
          64350,
          61939,
          59433,
          57014,
          54822,
          52355,
          51984,
          51643,
          51344,
          51000,
          50500,
          50000,
          49413,
          49000,
          48000,
          47000,
          45500,
          44000,
          43500,
          43000,
          42230,
          42000,
          41500,
          41400,
          39000,
          37800,
          36000,
          34500,
          31600,
          30800,
          28600,
          28500,
          27000,
          25550,
          25400,
          24300,
          24100,
          23400,
          22500,
          21400,
          21000,
          20900,
          20800,
          20200,
          20150,
          19800,
          19200,
          19000,
          17300,
          17200,
          17000
         ],
         "yaxis": "y"
        },
        {
         "fillpattern": {
          "shape": ""
         },
         "hovertemplate": "Item=Nutmeg, mace and cardamoms<br>Year=%{x}<br>Value=%{y}<extra></extra>",
         "legendgroup": "Nutmeg, mace and cardamoms",
         "line": {
          "color": "#B6E880"
         },
         "marker": {
          "symbol": "circle"
         },
         "mode": "lines",
         "name": "Nutmeg, mace and cardamoms",
         "orientation": "v",
         "showlegend": true,
         "stackgroup": "1",
         "type": "scatter",
         "x": [
          2018,
          2017,
          2019,
          2016,
          2015,
          2014,
          2012,
          2005,
          2006,
          2004,
          2003,
          2013,
          2011,
          2009,
          2010,
          2008,
          2002,
          2001,
          2000,
          2007,
          1996,
          1997,
          1995,
          1993,
          1999,
          1994,
          1989,
          1985,
          1986,
          1990,
          1991,
          1981,
          1984,
          1987,
          1992,
          1998,
          1983,
          1988,
          1982,
          1980,
          1979,
          1975,
          1978,
          1974,
          1977,
          1976,
          1966,
          1962,
          1965,
          1964,
          1963,
          1971,
          1973,
          1970,
          1969,
          1961,
          1968,
          1967,
          1972
         ],
         "xaxis": "x",
         "y": [
          43000,
          43000,
          38000,
          38000,
          22000,
          21000,
          18070,
          17800,
          17000,
          16900,
          16700,
          16565,
          15816,
          15720,
          15700,
          15450,
          15400,
          15200,
          14500,
          13650,
          12600,
          11700,
          11700,
          10870,
          10700,
          10700,
          10120,
          10020,
          9710,
          9560,
          9520,
          9400,
          9300,
          9270,
          9210,
          9000,
          8900,
          8560,
          8050,
          5500,
          5300,
          5200,
          5100,
          4800,
          4500,
          4400,
          4000,
          4000,
          4000,
          4000,
          4000,
          3600,
          3200,
          3000,
          3000,
          3000,
          3000,
          3000,
          2900
         ],
         "yaxis": "y"
        },
        {
         "fillpattern": {
          "shape": ""
         },
         "hovertemplate": "Item=Walnuts, with shell<br>Year=%{x}<br>Value=%{y}<extra></extra>",
         "legendgroup": "Walnuts, with shell",
         "line": {
          "color": "#FF97FF"
         },
         "marker": {
          "symbol": "circle"
         },
         "mode": "lines",
         "name": "Walnuts, with shell",
         "orientation": "v",
         "showlegend": true,
         "stackgroup": "1",
         "type": "scatter",
         "x": [
          2014,
          2012,
          2010,
          2008,
          2006,
          2009,
          2011,
          2013,
          2015,
          2004,
          2007,
          2016,
          2005,
          2000,
          2003,
          2002,
          1998,
          1996,
          2001,
          1999,
          1994,
          1995,
          1997,
          1992,
          1987,
          1993,
          1978,
          1990,
          1988,
          1982,
          1983,
          1980,
          1991,
          1986,
          1989,
          1981,
          1979,
          1976,
          1966,
          1985,
          1975,
          1984,
          1968,
          1965,
          1964,
          1970,
          1972,
          1973,
          1963,
          1977,
          1962,
          1961,
          1971,
          1967,
          1969,
          1974
         ],
         "xaxis": "x",
         "y": [
          43000,
          40000,
          38000,
          37000,
          36000,
          36000,
          36000,
          36000,
          35000,
          34000,
          33000,
          33000,
          32000,
          31000,
          31000,
          30000,
          30000,
          29000,
          29000,
          28000,
          28000,
          25000,
          24000,
          23500,
          23000,
          22000,
          21000,
          20000,
          20000,
          20000,
          20000,
          18000,
          18000,
          18000,
          17000,
          17000,
          17000,
          16000,
          16000,
          15000,
          15000,
          15000,
          14000,
          14000,
          14000,
          14000,
          14000,
          13500,
          13000,
          12000,
          12000,
          12000,
          11000,
          11000,
          10000,
          9500
         ],
         "yaxis": "y"
        },
        {
         "fillpattern": {
          "shape": ""
         },
         "hovertemplate": "Item=Cocoa, beans<br>Year=%{x}<br>Value=%{y}<extra></extra>",
         "legendgroup": "Cocoa, beans",
         "line": {
          "color": "#FECB52"
         },
         "marker": {
          "symbol": "circle"
         },
         "mode": "lines",
         "name": "Cocoa, beans",
         "orientation": "v",
         "showlegend": true,
         "stackgroup": "1",
         "type": "scatter",
         "x": [
          2019,
          2018,
          2017,
          2016,
          2015,
          2014,
          2011,
          2013,
          2012,
          2010,
          2009,
          2008,
          2007,
          2006,
          2005,
          2004,
          2003,
          1987,
          2002,
          1994,
          2001,
          2000,
          1996,
          1981,
          1993,
          1992,
          1991,
          1990,
          1989,
          1988,
          1986,
          1985,
          1984,
          1982,
          1983,
          1980,
          1995,
          1997,
          1998,
          1999,
          1979,
          1978,
          1977
         ],
         "xaxis": "x",
         "y": [
          24000,
          20000,
          19000,
          17000,
          16000,
          15000,
          14400,
          13000,
          13000,
          12900,
          11820,
          10560,
          10180,
          10175,
          9250,
          9230,
          8397,
          7000,
          6780,
          6742,
          6540,
          6361,
          6282,
          6000,
          6000,
          6000,
          6000,
          6000,
          6000,
          6000,
          6000,
          6000,
          6000,
          6000,
          6000,
          6000,
          5772,
          5697,
          5281,
          5198,
          800,
          500,
          300
         ],
         "yaxis": "y"
        },
        {
         "fillpattern": {
          "shape": ""
         },
         "hovertemplate": "Item=Apricots<br>Year=%{x}<br>Value=%{y}<extra></extra>",
         "legendgroup": "Apricots",
         "line": {
          "color": "#636efa"
         },
         "marker": {
          "symbol": "circle"
         },
         "mode": "lines",
         "name": "Apricots",
         "orientation": "v",
         "showlegend": true,
         "stackgroup": "1",
         "type": "scatter",
         "x": [
          2019,
          2018,
          2017,
          2016,
          2015,
          2013,
          2012,
          2014,
          2011,
          2010,
          2009,
          2008,
          2007,
          2006,
          1974,
          2005,
          1971,
          1973,
          2004,
          1970,
          2003,
          1972,
          1969,
          1968,
          2002,
          2001,
          1976,
          2000,
          1967,
          1966,
          1975,
          1999,
          1965,
          1964,
          1963,
          1998,
          1962,
          1997,
          1977,
          1961,
          1978,
          1996,
          1995,
          1994,
          1979,
          1993,
          1992,
          1980,
          1991,
          1981,
          1990,
          1983,
          1984,
          1989,
          1982,
          1985,
          1987,
          1986,
          1988
         ],
         "xaxis": "x",
         "y": [
          16145,
          15843,
          15541,
          15280,
          14186,
          14155,
          14149,
          14116,
          13929,
          13645,
          13292,
          12889,
          12317,
          11847,
          11500,
          11332,
          11000,
          11000,
          10908,
          10800,
          10530,
          10500,
          10500,
          10300,
          10216,
          10000,
          10000,
          9900,
          9800,
          9500,
          9500,
          9400,
          9200,
          8800,
          8500,
          8400,
          8300,
          8100,
          8000,
          8000,
          8000,
          7900,
          7300,
          7000,
          7000,
          6800,
          6500,
          6500,
          6200,
          6000,
          6000,
          5500,
          5000,
          5000,
          5000,
          4800,
          4800,
          4500,
          4350
         ],
         "yaxis": "y"
        },
        {
         "fillpattern": {
          "shape": ""
         },
         "hovertemplate": "Item=Figs<br>Year=%{x}<br>Value=%{y}<extra></extra>",
         "legendgroup": "Figs",
         "line": {
          "color": "#EF553B"
         },
         "marker": {
          "symbol": "circle"
         },
         "mode": "lines",
         "name": "Figs",
         "orientation": "v",
         "showlegend": true,
         "stackgroup": "1",
         "type": "scatter",
         "x": [
          2019,
          2018,
          2017,
          2016,
          2015,
          2014,
          2013,
          2012,
          2011,
          2010,
          2009,
          2008,
          2007,
          2005,
          2004,
          2006,
          2003,
          2002,
          2001,
          2000,
          1999,
          1998,
          1997,
          1996,
          1995,
          1994,
          1993,
          1992,
          1991,
          1988,
          1990,
          1989,
          1987,
          1985,
          1966,
          1972,
          1984,
          1983,
          1982,
          1981,
          1980,
          1979,
          1978,
          1977,
          1976,
          1975,
          1974,
          1973,
          1965,
          1964,
          1963,
          1962,
          1961,
          1967,
          1968,
          1986,
          1969,
          1970,
          1971
         ],
         "xaxis": "x",
         "y": [
          14914,
          14737,
          14561,
          14387,
          14295,
          14145,
          13850,
          13737,
          13503,
          13283,
          13061,
          12860,
          12829,
          12633,
          12434,
          12239,
          11965,
          11487,
          10998,
          10500,
          9900,
          8800,
          8500,
          8300,
          7700,
          6838,
          6000,
          5500,
          5000,
          5000,
          4800,
          4500,
          4000,
          3000,
          2000,
          2000,
          2000,
          2000,
          2000,
          2000,
          2000,
          2000,
          2000,
          2000,
          2000,
          2000,
          2000,
          2000,
          2000,
          2000,
          2000,
          2000,
          2000,
          2000,
          2000,
          2000,
          2000,
          2000,
          2000
         ],
         "yaxis": "y"
        },
        {
         "fillpattern": {
          "shape": ""
         },
         "hovertemplate": "Item=Cherries<br>Year=%{x}<br>Value=%{y}<extra></extra>",
         "legendgroup": "Cherries",
         "line": {
          "color": "#00cc96"
         },
         "marker": {
          "symbol": "circle"
         },
         "mode": "lines",
         "name": "Cherries",
         "orientation": "v",
         "showlegend": true,
         "stackgroup": "1",
         "type": "scatter",
         "x": [
          2019,
          2018,
          2015,
          2017,
          2016,
          2014,
          2013,
          2012,
          2011,
          2010,
          2009,
          2008,
          2007,
          2006,
          2005,
          2004,
          2003,
          2002,
          2001,
          2000,
          1999,
          1998,
          1997,
          1996,
          1995,
          1994,
          1975,
          1993,
          1976,
          1971,
          1972,
          1973,
          1974,
          1977,
          1970,
          1992,
          1969,
          1991,
          1968,
          1967,
          1966,
          1989,
          1965,
          1964,
          1990,
          1963,
          1962,
          1979,
          1978,
          1984,
          1985,
          1961,
          1983,
          1988,
          1982,
          1980,
          1981,
          1986,
          1987
         ],
         "xaxis": "x",
         "y": [
          11107,
          10976,
          10945,
          10845,
          10765,
          10586,
          9960,
          9898,
          9733,
          9554,
          9374,
          9261,
          9114,
          8917,
          8771,
          8540,
          8301,
          8054,
          8000,
          7800,
          7400,
          5100,
          4900,
          4800,
          4400,
          4200,
          4000,
          4000,
          4000,
          4000,
          4000,
          4000,
          4000,
          4000,
          3900,
          3800,
          3800,
          3700,
          3700,
          3600,
          3500,
          3500,
          3400,
          3300,
          3200,
          3200,
          3100,
          3000,
          3000,
          3000,
          3000,
          3000,
          3000,
          2000,
          2000,
          2000,
          2000,
          1100,
          1013
         ],
         "yaxis": "y"
        },
        {
         "fillpattern": {
          "shape": ""
         },
         "hovertemplate": "Item=Poppy seed<br>Year=%{x}<br>Value=%{y}<extra></extra>",
         "legendgroup": "Poppy seed",
         "line": {
          "color": "#ab63fa"
         },
         "marker": {
          "symbol": "circle"
         },
         "mode": "lines",
         "name": "Poppy seed",
         "orientation": "v",
         "showlegend": true,
         "stackgroup": "1",
         "type": "scatter",
         "x": [
          1975,
          1976,
          1983,
          1977,
          1974,
          1985,
          1979,
          1980,
          1973,
          1984,
          1972,
          1982,
          1981,
          1978,
          1986,
          1964,
          1965,
          1963,
          1962,
          1961,
          1971,
          1970,
          1969,
          1968,
          1967,
          1966
         ],
         "xaxis": "x",
         "y": [
          3000,
          3000,
          2500,
          2500,
          2500,
          2000,
          2000,
          2000,
          2000,
          2000,
          2000,
          2000,
          2000,
          2000,
          1500,
          1000,
          1000,
          1000,
          1000,
          1000,
          1000,
          1000,
          1000,
          1000,
          1000,
          1000
         ],
         "yaxis": "y"
        },
        {
         "fillpattern": {
          "shape": ""
         },
         "hovertemplate": "Item=Fruit, stone nes<br>Year=%{x}<br>Value=%{y}<extra></extra>",
         "legendgroup": "Fruit, stone nes",
         "line": {
          "color": "#FFA15A"
         },
         "marker": {
          "symbol": "circle"
         },
         "mode": "lines",
         "name": "Fruit, stone nes",
         "orientation": "v",
         "showlegend": true,
         "stackgroup": "1",
         "type": "scatter",
         "x": [
          2019,
          2018,
          2017,
          2016,
          2015,
          2014,
          2013,
          2012,
          2011,
          2010,
          2009,
          2008,
          2007,
          2006,
          2005,
          2004,
          2003,
          1979,
          2002,
          2001,
          2000,
          1999,
          1972,
          1973,
          1978,
          1980,
          1981,
          1976,
          1977,
          1971,
          1982,
          1983,
          1984,
          1998,
          1997,
          1996,
          1990,
          1995,
          1994,
          1987,
          1986,
          1989,
          1988,
          1985,
          1975,
          1974,
          1970,
          1968,
          1969,
          1993,
          1992,
          1991,
          1966,
          1967,
          1965,
          1963,
          1961,
          1962,
          1964
         ],
         "xaxis": "x",
         "y": [
          2460,
          2401,
          2342,
          2284,
          2247,
          2230,
          2090,
          2034,
          1975,
          1919,
          1862,
          1803,
          1748,
          1689,
          1632,
          1576,
          1529,
          1500,
          1465,
          1400,
          1350,
          1300,
          1300,
          1300,
          1300,
          1300,
          1300,
          1200,
          1200,
          1200,
          1200,
          1200,
          1200,
          1200,
          1200,
          1100,
          1065,
          1054,
          1005,
          1000,
          1000,
          1000,
          1000,
          1000,
          1000,
          1000,
          1000,
          1000,
          1000,
          941,
          882,
          825,
          800,
          800,
          800,
          500,
          500,
          500,
          500
         ],
         "yaxis": "y"
        },
        {
         "fillpattern": {
          "shape": ""
         },
         "hovertemplate": "Item=Berries nes<br>Year=%{x}<br>Value=%{y}<extra></extra>",
         "legendgroup": "Berries nes",
         "line": {
          "color": "#19d3f3"
         },
         "marker": {
          "symbol": "circle"
         },
         "mode": "lines",
         "name": "Berries nes",
         "orientation": "v",
         "showlegend": true,
         "stackgroup": "1",
         "type": "scatter",
         "x": [
          2019,
          2018,
          2017,
          2016,
          2015,
          2014,
          2013,
          2012,
          2011,
          2010,
          2009,
          2008,
          2007,
          2006,
          2005,
          2004,
          2003,
          2002,
          2001,
          2000,
          1999,
          1998,
          1997,
          1996,
          1990,
          1995,
          1994,
          1985,
          1986,
          1987,
          1988,
          1989,
          1968,
          1969,
          1975,
          1967,
          1966,
          1965,
          1964,
          1963,
          1962,
          1961,
          1970,
          1984,
          1983,
          1982,
          1981,
          1980,
          1974,
          1979,
          1978,
          1977,
          1976,
          1973,
          1972,
          1971,
          1993,
          1992,
          1991
         ],
         "xaxis": "x",
         "y": [
          2438,
          2381,
          2324,
          2267,
          2200,
          2129,
          2103,
          2045,
          1987,
          1929,
          1872,
          1814,
          1756,
          1698,
          1641,
          1583,
          1539,
          1470,
          1400,
          1370,
          1300,
          1200,
          1200,
          1100,
          1065,
          1051,
          1002,
          1000,
          1000,
          1000,
          1000,
          1000,
          1000,
          1000,
          1000,
          1000,
          1000,
          1000,
          1000,
          1000,
          1000,
          1000,
          1000,
          1000,
          1000,
          1000,
          1000,
          1000,
          1000,
          1000,
          1000,
          1000,
          1000,
          1000,
          1000,
          1000,
          937,
          879,
          821
         ],
         "yaxis": "y"
        }
       ],
       "layout": {
        "legend": {
         "title": {
          "text": "Item"
         },
         "tracegroupgap": 0
        },
        "template": {
         "data": {
          "bar": [
           {
            "error_x": {
             "color": "#2a3f5f"
            },
            "error_y": {
             "color": "#2a3f5f"
            },
            "marker": {
             "line": {
              "color": "#E5ECF6",
              "width": 0.5
             },
             "pattern": {
              "fillmode": "overlay",
              "size": 10,
              "solidity": 0.2
             }
            },
            "type": "bar"
           }
          ],
          "barpolar": [
           {
            "marker": {
             "line": {
              "color": "#E5ECF6",
              "width": 0.5
             },
             "pattern": {
              "fillmode": "overlay",
              "size": 10,
              "solidity": 0.2
             }
            },
            "type": "barpolar"
           }
          ],
          "carpet": [
           {
            "aaxis": {
             "endlinecolor": "#2a3f5f",
             "gridcolor": "white",
             "linecolor": "white",
             "minorgridcolor": "white",
             "startlinecolor": "#2a3f5f"
            },
            "baxis": {
             "endlinecolor": "#2a3f5f",
             "gridcolor": "white",
             "linecolor": "white",
             "minorgridcolor": "white",
             "startlinecolor": "#2a3f5f"
            },
            "type": "carpet"
           }
          ],
          "choropleth": [
           {
            "colorbar": {
             "outlinewidth": 0,
             "ticks": ""
            },
            "type": "choropleth"
           }
          ],
          "contour": [
           {
            "colorbar": {
             "outlinewidth": 0,
             "ticks": ""
            },
            "colorscale": [
             [
              0,
              "#0d0887"
             ],
             [
              0.1111111111111111,
              "#46039f"
             ],
             [
              0.2222222222222222,
              "#7201a8"
             ],
             [
              0.3333333333333333,
              "#9c179e"
             ],
             [
              0.4444444444444444,
              "#bd3786"
             ],
             [
              0.5555555555555556,
              "#d8576b"
             ],
             [
              0.6666666666666666,
              "#ed7953"
             ],
             [
              0.7777777777777778,
              "#fb9f3a"
             ],
             [
              0.8888888888888888,
              "#fdca26"
             ],
             [
              1,
              "#f0f921"
             ]
            ],
            "type": "contour"
           }
          ],
          "contourcarpet": [
           {
            "colorbar": {
             "outlinewidth": 0,
             "ticks": ""
            },
            "type": "contourcarpet"
           }
          ],
          "heatmap": [
           {
            "colorbar": {
             "outlinewidth": 0,
             "ticks": ""
            },
            "colorscale": [
             [
              0,
              "#0d0887"
             ],
             [
              0.1111111111111111,
              "#46039f"
             ],
             [
              0.2222222222222222,
              "#7201a8"
             ],
             [
              0.3333333333333333,
              "#9c179e"
             ],
             [
              0.4444444444444444,
              "#bd3786"
             ],
             [
              0.5555555555555556,
              "#d8576b"
             ],
             [
              0.6666666666666666,
              "#ed7953"
             ],
             [
              0.7777777777777778,
              "#fb9f3a"
             ],
             [
              0.8888888888888888,
              "#fdca26"
             ],
             [
              1,
              "#f0f921"
             ]
            ],
            "type": "heatmap"
           }
          ],
          "heatmapgl": [
           {
            "colorbar": {
             "outlinewidth": 0,
             "ticks": ""
            },
            "colorscale": [
             [
              0,
              "#0d0887"
             ],
             [
              0.1111111111111111,
              "#46039f"
             ],
             [
              0.2222222222222222,
              "#7201a8"
             ],
             [
              0.3333333333333333,
              "#9c179e"
             ],
             [
              0.4444444444444444,
              "#bd3786"
             ],
             [
              0.5555555555555556,
              "#d8576b"
             ],
             [
              0.6666666666666666,
              "#ed7953"
             ],
             [
              0.7777777777777778,
              "#fb9f3a"
             ],
             [
              0.8888888888888888,
              "#fdca26"
             ],
             [
              1,
              "#f0f921"
             ]
            ],
            "type": "heatmapgl"
           }
          ],
          "histogram": [
           {
            "marker": {
             "pattern": {
              "fillmode": "overlay",
              "size": 10,
              "solidity": 0.2
             }
            },
            "type": "histogram"
           }
          ],
          "histogram2d": [
           {
            "colorbar": {
             "outlinewidth": 0,
             "ticks": ""
            },
            "colorscale": [
             [
              0,
              "#0d0887"
             ],
             [
              0.1111111111111111,
              "#46039f"
             ],
             [
              0.2222222222222222,
              "#7201a8"
             ],
             [
              0.3333333333333333,
              "#9c179e"
             ],
             [
              0.4444444444444444,
              "#bd3786"
             ],
             [
              0.5555555555555556,
              "#d8576b"
             ],
             [
              0.6666666666666666,
              "#ed7953"
             ],
             [
              0.7777777777777778,
              "#fb9f3a"
             ],
             [
              0.8888888888888888,
              "#fdca26"
             ],
             [
              1,
              "#f0f921"
             ]
            ],
            "type": "histogram2d"
           }
          ],
          "histogram2dcontour": [
           {
            "colorbar": {
             "outlinewidth": 0,
             "ticks": ""
            },
            "colorscale": [
             [
              0,
              "#0d0887"
             ],
             [
              0.1111111111111111,
              "#46039f"
             ],
             [
              0.2222222222222222,
              "#7201a8"
             ],
             [
              0.3333333333333333,
              "#9c179e"
             ],
             [
              0.4444444444444444,
              "#bd3786"
             ],
             [
              0.5555555555555556,
              "#d8576b"
             ],
             [
              0.6666666666666666,
              "#ed7953"
             ],
             [
              0.7777777777777778,
              "#fb9f3a"
             ],
             [
              0.8888888888888888,
              "#fdca26"
             ],
             [
              1,
              "#f0f921"
             ]
            ],
            "type": "histogram2dcontour"
           }
          ],
          "mesh3d": [
           {
            "colorbar": {
             "outlinewidth": 0,
             "ticks": ""
            },
            "type": "mesh3d"
           }
          ],
          "parcoords": [
           {
            "line": {
             "colorbar": {
              "outlinewidth": 0,
              "ticks": ""
             }
            },
            "type": "parcoords"
           }
          ],
          "pie": [
           {
            "automargin": true,
            "type": "pie"
           }
          ],
          "scatter": [
           {
            "fillpattern": {
             "fillmode": "overlay",
             "size": 10,
             "solidity": 0.2
            },
            "type": "scatter"
           }
          ],
          "scatter3d": [
           {
            "line": {
             "colorbar": {
              "outlinewidth": 0,
              "ticks": ""
             }
            },
            "marker": {
             "colorbar": {
              "outlinewidth": 0,
              "ticks": ""
             }
            },
            "type": "scatter3d"
           }
          ],
          "scattercarpet": [
           {
            "marker": {
             "colorbar": {
              "outlinewidth": 0,
              "ticks": ""
             }
            },
            "type": "scattercarpet"
           }
          ],
          "scattergeo": [
           {
            "marker": {
             "colorbar": {
              "outlinewidth": 0,
              "ticks": ""
             }
            },
            "type": "scattergeo"
           }
          ],
          "scattergl": [
           {
            "marker": {
             "colorbar": {
              "outlinewidth": 0,
              "ticks": ""
             }
            },
            "type": "scattergl"
           }
          ],
          "scattermapbox": [
           {
            "marker": {
             "colorbar": {
              "outlinewidth": 0,
              "ticks": ""
             }
            },
            "type": "scattermapbox"
           }
          ],
          "scatterpolar": [
           {
            "marker": {
             "colorbar": {
              "outlinewidth": 0,
              "ticks": ""
             }
            },
            "type": "scatterpolar"
           }
          ],
          "scatterpolargl": [
           {
            "marker": {
             "colorbar": {
              "outlinewidth": 0,
              "ticks": ""
             }
            },
            "type": "scatterpolargl"
           }
          ],
          "scatterternary": [
           {
            "marker": {
             "colorbar": {
              "outlinewidth": 0,
              "ticks": ""
             }
            },
            "type": "scatterternary"
           }
          ],
          "surface": [
           {
            "colorbar": {
             "outlinewidth": 0,
             "ticks": ""
            },
            "colorscale": [
             [
              0,
              "#0d0887"
             ],
             [
              0.1111111111111111,
              "#46039f"
             ],
             [
              0.2222222222222222,
              "#7201a8"
             ],
             [
              0.3333333333333333,
              "#9c179e"
             ],
             [
              0.4444444444444444,
              "#bd3786"
             ],
             [
              0.5555555555555556,
              "#d8576b"
             ],
             [
              0.6666666666666666,
              "#ed7953"
             ],
             [
              0.7777777777777778,
              "#fb9f3a"
             ],
             [
              0.8888888888888888,
              "#fdca26"
             ],
             [
              1,
              "#f0f921"
             ]
            ],
            "type": "surface"
           }
          ],
          "table": [
           {
            "cells": {
             "fill": {
              "color": "#EBF0F8"
             },
             "line": {
              "color": "white"
             }
            },
            "header": {
             "fill": {
              "color": "#C8D4E3"
             },
             "line": {
              "color": "white"
             }
            },
            "type": "table"
           }
          ]
         },
         "layout": {
          "annotationdefaults": {
           "arrowcolor": "#2a3f5f",
           "arrowhead": 0,
           "arrowwidth": 1
          },
          "autotypenumbers": "strict",
          "coloraxis": {
           "colorbar": {
            "outlinewidth": 0,
            "ticks": ""
           }
          },
          "colorscale": {
           "diverging": [
            [
             0,
             "#8e0152"
            ],
            [
             0.1,
             "#c51b7d"
            ],
            [
             0.2,
             "#de77ae"
            ],
            [
             0.3,
             "#f1b6da"
            ],
            [
             0.4,
             "#fde0ef"
            ],
            [
             0.5,
             "#f7f7f7"
            ],
            [
             0.6,
             "#e6f5d0"
            ],
            [
             0.7,
             "#b8e186"
            ],
            [
             0.8,
             "#7fbc41"
            ],
            [
             0.9,
             "#4d9221"
            ],
            [
             1,
             "#276419"
            ]
           ],
           "sequential": [
            [
             0,
             "#0d0887"
            ],
            [
             0.1111111111111111,
             "#46039f"
            ],
            [
             0.2222222222222222,
             "#7201a8"
            ],
            [
             0.3333333333333333,
             "#9c179e"
            ],
            [
             0.4444444444444444,
             "#bd3786"
            ],
            [
             0.5555555555555556,
             "#d8576b"
            ],
            [
             0.6666666666666666,
             "#ed7953"
            ],
            [
             0.7777777777777778,
             "#fb9f3a"
            ],
            [
             0.8888888888888888,
             "#fdca26"
            ],
            [
             1,
             "#f0f921"
            ]
           ],
           "sequentialminus": [
            [
             0,
             "#0d0887"
            ],
            [
             0.1111111111111111,
             "#46039f"
            ],
            [
             0.2222222222222222,
             "#7201a8"
            ],
            [
             0.3333333333333333,
             "#9c179e"
            ],
            [
             0.4444444444444444,
             "#bd3786"
            ],
            [
             0.5555555555555556,
             "#d8576b"
            ],
            [
             0.6666666666666666,
             "#ed7953"
            ],
            [
             0.7777777777777778,
             "#fb9f3a"
            ],
            [
             0.8888888888888888,
             "#fdca26"
            ],
            [
             1,
             "#f0f921"
            ]
           ]
          },
          "colorway": [
           "#636efa",
           "#EF553B",
           "#00cc96",
           "#ab63fa",
           "#FFA15A",
           "#19d3f3",
           "#FF6692",
           "#B6E880",
           "#FF97FF",
           "#FECB52"
          ],
          "font": {
           "color": "#2a3f5f"
          },
          "geo": {
           "bgcolor": "white",
           "lakecolor": "white",
           "landcolor": "#E5ECF6",
           "showlakes": true,
           "showland": true,
           "subunitcolor": "white"
          },
          "hoverlabel": {
           "align": "left"
          },
          "hovermode": "closest",
          "mapbox": {
           "style": "light"
          },
          "paper_bgcolor": "white",
          "plot_bgcolor": "#E5ECF6",
          "polar": {
           "angularaxis": {
            "gridcolor": "white",
            "linecolor": "white",
            "ticks": ""
           },
           "bgcolor": "#E5ECF6",
           "radialaxis": {
            "gridcolor": "white",
            "linecolor": "white",
            "ticks": ""
           }
          },
          "scene": {
           "xaxis": {
            "backgroundcolor": "#E5ECF6",
            "gridcolor": "white",
            "gridwidth": 2,
            "linecolor": "white",
            "showbackground": true,
            "ticks": "",
            "zerolinecolor": "white"
           },
           "yaxis": {
            "backgroundcolor": "#E5ECF6",
            "gridcolor": "white",
            "gridwidth": 2,
            "linecolor": "white",
            "showbackground": true,
            "ticks": "",
            "zerolinecolor": "white"
           },
           "zaxis": {
            "backgroundcolor": "#E5ECF6",
            "gridcolor": "white",
            "gridwidth": 2,
            "linecolor": "white",
            "showbackground": true,
            "ticks": "",
            "zerolinecolor": "white"
           }
          },
          "shapedefaults": {
           "line": {
            "color": "#2a3f5f"
           }
          },
          "ternary": {
           "aaxis": {
            "gridcolor": "white",
            "linecolor": "white",
            "ticks": ""
           },
           "baxis": {
            "gridcolor": "white",
            "linecolor": "white",
            "ticks": ""
           },
           "bgcolor": "#E5ECF6",
           "caxis": {
            "gridcolor": "white",
            "linecolor": "white",
            "ticks": ""
           }
          },
          "title": {
           "x": 0.05
          },
          "xaxis": {
           "automargin": true,
           "gridcolor": "white",
           "linecolor": "white",
           "ticks": "",
           "title": {
            "standoff": 15
           },
           "zerolinecolor": "white",
           "zerolinewidth": 2
          },
          "yaxis": {
           "automargin": true,
           "gridcolor": "white",
           "linecolor": "white",
           "ticks": "",
           "title": {
            "standoff": 15
           },
           "zerolinecolor": "white",
           "zerolinewidth": 2
          }
         }
        },
        "title": {
         "text": "Production of Crops in India (in Tonnes)"
        },
        "xaxis": {
         "anchor": "y",
         "domain": [
          0,
          1
         ],
         "title": {
          "text": "Year"
         }
        },
        "yaxis": {
         "anchor": "x",
         "domain": [
          0,
          1
         ],
         "title": {
          "text": "Value"
         }
        }
       }
      }
     },
     "metadata": {},
     "output_type": "display_data"
    }
   ],
   "source": [
    "fig2 = px.area(production_sort, x=\"Year\", y=\"Value\", color=\"Item\", line_group=\"Item\", title='Production of Crops in India (in Tonnes)')\n",
    "fig2.show()"
   ]
  },
  {
   "cell_type": "markdown",
   "metadata": {
    "papermill": {
     "duration": 0.026487,
     "end_time": "2021-03-01T15:25:27.399213",
     "exception": false,
     "start_time": "2021-03-01T15:25:27.372726",
     "status": "completed"
    },
    "tags": []
   },
   "source": [
    "The graph given above is a stacked area chart and shows the total level of crop production and the contribution of each crop to that total over the time period of 1961-2019.\n",
    "The production quantity of Crops (in tonnes, in spain) seeems to have peaked in 2018 at around 160 million.\n"
   ]
  },
  {
   "cell_type": "markdown",
   "metadata": {
    "papermill": {
     "duration": 0.02642,
     "end_time": "2021-03-01T15:25:27.452604",
     "exception": false,
     "start_time": "2021-03-01T15:25:27.426184",
     "status": "completed"
    },
    "tags": []
   },
   "source": [
    "Plotting Crop Production per country in 2018.\n",
    "To compare the value of crops produced in spain to the rest of the world."
   ]
  },
  {
   "cell_type": "code",
   "execution_count": 205,
   "metadata": {
    "papermill": {
     "duration": 1.375505,
     "end_time": "2021-03-01T15:25:28.856275",
     "exception": false,
     "start_time": "2021-03-01T15:25:27.480770",
     "status": "completed"
    },
    "tags": []
   },
   "outputs": [],
   "source": [
    "global_produce = data.loc[(data.Element == 'Production')  & (data.Year == 2018)]\n",
    "global_produce\n",
    "countries = data.Area.unique()\n",
    "area = []\n",
    "amnt = []\n",
    "for country in countries:\n",
    "    temp = global_produce.loc[global_produce.Area == country]\n",
    "    amount = temp.Value.sum()\n",
    "    area.append(country)\n",
    "    amnt.append(amount)\n",
    "data_global = pd.DataFrame({'Country': area, 'Amount': amnt})\n",
    "data_global = data_global.sort_values(by=['Amount'], ascending=False)"
   ]
  },
  {
   "cell_type": "code",
   "execution_count": 206,
   "metadata": {
    "papermill": {
     "duration": 0.141029,
     "end_time": "2021-03-01T15:25:29.024806",
     "exception": false,
     "start_time": "2021-03-01T15:25:28.883777",
     "status": "completed"
    },
    "tags": []
   },
   "outputs": [
    {
     "data": {
      "application/vnd.plotly.v1+json": {
       "config": {
        "plotlyServerURL": "https://plot.ly"
       },
       "data": [
        {
         "alignmentgroup": "True",
         "hovertemplate": "Country=%{x}<br>Amount (tonnes)=%{y}<br>Amount- Tonnes=%{marker.color}<extra></extra>",
         "legendgroup": "",
         "marker": {
          "color": [
           9909927509,
           5430717025,
           4041828471,
           3949022825,
           3805442309,
           3786133558,
           3071090434,
           3051294610,
           2402731391,
           2341187160,
           2257702440,
           2254771280,
           2213475673,
           1925051743,
           1816661773,
           1582117592,
           1349561050,
           1340754806,
           1259223421
          ],
          "coloraxis": "coloraxis",
          "pattern": {
           "shape": ""
          }
         },
         "name": "",
         "offsetgroup": "",
         "orientation": "v",
         "showlegend": false,
         "textposition": "auto",
         "type": "bar",
         "x": [
          "Asia",
          "Americas",
          "Low Income Food Deficit Countries",
          "Eastern Asia",
          "China",
          "China, mainland",
          "Southern Asia",
          "South America",
          "South-eastern Asia",
          "India",
          "Brazil",
          "Net Food Importing Developing Countries",
          "Europe",
          "Africa",
          "Northern America",
          "United States of America",
          "Least Developed Countries",
          "European Union (28)",
          "European Union (27)"
         ],
         "xaxis": "x",
         "y": [
          9909927509,
          5430717025,
          4041828471,
          3949022825,
          3805442309,
          3786133558,
          3071090434,
          3051294610,
          2402731391,
          2341187160,
          2257702440,
          2254771280,
          2213475673,
          1925051743,
          1816661773,
          1582117592,
          1349561050,
          1340754806,
          1259223421
         ],
         "yaxis": "y"
        }
       ],
       "layout": {
        "barmode": "relative",
        "coloraxis": {
         "colorbar": {
          "title": {
           "text": "Amount- Tonnes"
          }
         },
         "colorscale": [
          [
           0,
           "#0d0887"
          ],
          [
           0.1111111111111111,
           "#46039f"
          ],
          [
           0.2222222222222222,
           "#7201a8"
          ],
          [
           0.3333333333333333,
           "#9c179e"
          ],
          [
           0.4444444444444444,
           "#bd3786"
          ],
          [
           0.5555555555555556,
           "#d8576b"
          ],
          [
           0.6666666666666666,
           "#ed7953"
          ],
          [
           0.7777777777777778,
           "#fb9f3a"
          ],
          [
           0.8888888888888888,
           "#fdca26"
          ],
          [
           1,
           "#f0f921"
          ]
         ]
        },
        "legend": {
         "tracegroupgap": 0
        },
        "template": {
         "data": {
          "bar": [
           {
            "error_x": {
             "color": "#2a3f5f"
            },
            "error_y": {
             "color": "#2a3f5f"
            },
            "marker": {
             "line": {
              "color": "#E5ECF6",
              "width": 0.5
             },
             "pattern": {
              "fillmode": "overlay",
              "size": 10,
              "solidity": 0.2
             }
            },
            "type": "bar"
           }
          ],
          "barpolar": [
           {
            "marker": {
             "line": {
              "color": "#E5ECF6",
              "width": 0.5
             },
             "pattern": {
              "fillmode": "overlay",
              "size": 10,
              "solidity": 0.2
             }
            },
            "type": "barpolar"
           }
          ],
          "carpet": [
           {
            "aaxis": {
             "endlinecolor": "#2a3f5f",
             "gridcolor": "white",
             "linecolor": "white",
             "minorgridcolor": "white",
             "startlinecolor": "#2a3f5f"
            },
            "baxis": {
             "endlinecolor": "#2a3f5f",
             "gridcolor": "white",
             "linecolor": "white",
             "minorgridcolor": "white",
             "startlinecolor": "#2a3f5f"
            },
            "type": "carpet"
           }
          ],
          "choropleth": [
           {
            "colorbar": {
             "outlinewidth": 0,
             "ticks": ""
            },
            "type": "choropleth"
           }
          ],
          "contour": [
           {
            "colorbar": {
             "outlinewidth": 0,
             "ticks": ""
            },
            "colorscale": [
             [
              0,
              "#0d0887"
             ],
             [
              0.1111111111111111,
              "#46039f"
             ],
             [
              0.2222222222222222,
              "#7201a8"
             ],
             [
              0.3333333333333333,
              "#9c179e"
             ],
             [
              0.4444444444444444,
              "#bd3786"
             ],
             [
              0.5555555555555556,
              "#d8576b"
             ],
             [
              0.6666666666666666,
              "#ed7953"
             ],
             [
              0.7777777777777778,
              "#fb9f3a"
             ],
             [
              0.8888888888888888,
              "#fdca26"
             ],
             [
              1,
              "#f0f921"
             ]
            ],
            "type": "contour"
           }
          ],
          "contourcarpet": [
           {
            "colorbar": {
             "outlinewidth": 0,
             "ticks": ""
            },
            "type": "contourcarpet"
           }
          ],
          "heatmap": [
           {
            "colorbar": {
             "outlinewidth": 0,
             "ticks": ""
            },
            "colorscale": [
             [
              0,
              "#0d0887"
             ],
             [
              0.1111111111111111,
              "#46039f"
             ],
             [
              0.2222222222222222,
              "#7201a8"
             ],
             [
              0.3333333333333333,
              "#9c179e"
             ],
             [
              0.4444444444444444,
              "#bd3786"
             ],
             [
              0.5555555555555556,
              "#d8576b"
             ],
             [
              0.6666666666666666,
              "#ed7953"
             ],
             [
              0.7777777777777778,
              "#fb9f3a"
             ],
             [
              0.8888888888888888,
              "#fdca26"
             ],
             [
              1,
              "#f0f921"
             ]
            ],
            "type": "heatmap"
           }
          ],
          "heatmapgl": [
           {
            "colorbar": {
             "outlinewidth": 0,
             "ticks": ""
            },
            "colorscale": [
             [
              0,
              "#0d0887"
             ],
             [
              0.1111111111111111,
              "#46039f"
             ],
             [
              0.2222222222222222,
              "#7201a8"
             ],
             [
              0.3333333333333333,
              "#9c179e"
             ],
             [
              0.4444444444444444,
              "#bd3786"
             ],
             [
              0.5555555555555556,
              "#d8576b"
             ],
             [
              0.6666666666666666,
              "#ed7953"
             ],
             [
              0.7777777777777778,
              "#fb9f3a"
             ],
             [
              0.8888888888888888,
              "#fdca26"
             ],
             [
              1,
              "#f0f921"
             ]
            ],
            "type": "heatmapgl"
           }
          ],
          "histogram": [
           {
            "marker": {
             "pattern": {
              "fillmode": "overlay",
              "size": 10,
              "solidity": 0.2
             }
            },
            "type": "histogram"
           }
          ],
          "histogram2d": [
           {
            "colorbar": {
             "outlinewidth": 0,
             "ticks": ""
            },
            "colorscale": [
             [
              0,
              "#0d0887"
             ],
             [
              0.1111111111111111,
              "#46039f"
             ],
             [
              0.2222222222222222,
              "#7201a8"
             ],
             [
              0.3333333333333333,
              "#9c179e"
             ],
             [
              0.4444444444444444,
              "#bd3786"
             ],
             [
              0.5555555555555556,
              "#d8576b"
             ],
             [
              0.6666666666666666,
              "#ed7953"
             ],
             [
              0.7777777777777778,
              "#fb9f3a"
             ],
             [
              0.8888888888888888,
              "#fdca26"
             ],
             [
              1,
              "#f0f921"
             ]
            ],
            "type": "histogram2d"
           }
          ],
          "histogram2dcontour": [
           {
            "colorbar": {
             "outlinewidth": 0,
             "ticks": ""
            },
            "colorscale": [
             [
              0,
              "#0d0887"
             ],
             [
              0.1111111111111111,
              "#46039f"
             ],
             [
              0.2222222222222222,
              "#7201a8"
             ],
             [
              0.3333333333333333,
              "#9c179e"
             ],
             [
              0.4444444444444444,
              "#bd3786"
             ],
             [
              0.5555555555555556,
              "#d8576b"
             ],
             [
              0.6666666666666666,
              "#ed7953"
             ],
             [
              0.7777777777777778,
              "#fb9f3a"
             ],
             [
              0.8888888888888888,
              "#fdca26"
             ],
             [
              1,
              "#f0f921"
             ]
            ],
            "type": "histogram2dcontour"
           }
          ],
          "mesh3d": [
           {
            "colorbar": {
             "outlinewidth": 0,
             "ticks": ""
            },
            "type": "mesh3d"
           }
          ],
          "parcoords": [
           {
            "line": {
             "colorbar": {
              "outlinewidth": 0,
              "ticks": ""
             }
            },
            "type": "parcoords"
           }
          ],
          "pie": [
           {
            "automargin": true,
            "type": "pie"
           }
          ],
          "scatter": [
           {
            "fillpattern": {
             "fillmode": "overlay",
             "size": 10,
             "solidity": 0.2
            },
            "type": "scatter"
           }
          ],
          "scatter3d": [
           {
            "line": {
             "colorbar": {
              "outlinewidth": 0,
              "ticks": ""
             }
            },
            "marker": {
             "colorbar": {
              "outlinewidth": 0,
              "ticks": ""
             }
            },
            "type": "scatter3d"
           }
          ],
          "scattercarpet": [
           {
            "marker": {
             "colorbar": {
              "outlinewidth": 0,
              "ticks": ""
             }
            },
            "type": "scattercarpet"
           }
          ],
          "scattergeo": [
           {
            "marker": {
             "colorbar": {
              "outlinewidth": 0,
              "ticks": ""
             }
            },
            "type": "scattergeo"
           }
          ],
          "scattergl": [
           {
            "marker": {
             "colorbar": {
              "outlinewidth": 0,
              "ticks": ""
             }
            },
            "type": "scattergl"
           }
          ],
          "scattermapbox": [
           {
            "marker": {
             "colorbar": {
              "outlinewidth": 0,
              "ticks": ""
             }
            },
            "type": "scattermapbox"
           }
          ],
          "scatterpolar": [
           {
            "marker": {
             "colorbar": {
              "outlinewidth": 0,
              "ticks": ""
             }
            },
            "type": "scatterpolar"
           }
          ],
          "scatterpolargl": [
           {
            "marker": {
             "colorbar": {
              "outlinewidth": 0,
              "ticks": ""
             }
            },
            "type": "scatterpolargl"
           }
          ],
          "scatterternary": [
           {
            "marker": {
             "colorbar": {
              "outlinewidth": 0,
              "ticks": ""
             }
            },
            "type": "scatterternary"
           }
          ],
          "surface": [
           {
            "colorbar": {
             "outlinewidth": 0,
             "ticks": ""
            },
            "colorscale": [
             [
              0,
              "#0d0887"
             ],
             [
              0.1111111111111111,
              "#46039f"
             ],
             [
              0.2222222222222222,
              "#7201a8"
             ],
             [
              0.3333333333333333,
              "#9c179e"
             ],
             [
              0.4444444444444444,
              "#bd3786"
             ],
             [
              0.5555555555555556,
              "#d8576b"
             ],
             [
              0.6666666666666666,
              "#ed7953"
             ],
             [
              0.7777777777777778,
              "#fb9f3a"
             ],
             [
              0.8888888888888888,
              "#fdca26"
             ],
             [
              1,
              "#f0f921"
             ]
            ],
            "type": "surface"
           }
          ],
          "table": [
           {
            "cells": {
             "fill": {
              "color": "#EBF0F8"
             },
             "line": {
              "color": "white"
             }
            },
            "header": {
             "fill": {
              "color": "#C8D4E3"
             },
             "line": {
              "color": "white"
             }
            },
            "type": "table"
           }
          ]
         },
         "layout": {
          "annotationdefaults": {
           "arrowcolor": "#2a3f5f",
           "arrowhead": 0,
           "arrowwidth": 1
          },
          "autotypenumbers": "strict",
          "coloraxis": {
           "colorbar": {
            "outlinewidth": 0,
            "ticks": ""
           }
          },
          "colorscale": {
           "diverging": [
            [
             0,
             "#8e0152"
            ],
            [
             0.1,
             "#c51b7d"
            ],
            [
             0.2,
             "#de77ae"
            ],
            [
             0.3,
             "#f1b6da"
            ],
            [
             0.4,
             "#fde0ef"
            ],
            [
             0.5,
             "#f7f7f7"
            ],
            [
             0.6,
             "#e6f5d0"
            ],
            [
             0.7,
             "#b8e186"
            ],
            [
             0.8,
             "#7fbc41"
            ],
            [
             0.9,
             "#4d9221"
            ],
            [
             1,
             "#276419"
            ]
           ],
           "sequential": [
            [
             0,
             "#0d0887"
            ],
            [
             0.1111111111111111,
             "#46039f"
            ],
            [
             0.2222222222222222,
             "#7201a8"
            ],
            [
             0.3333333333333333,
             "#9c179e"
            ],
            [
             0.4444444444444444,
             "#bd3786"
            ],
            [
             0.5555555555555556,
             "#d8576b"
            ],
            [
             0.6666666666666666,
             "#ed7953"
            ],
            [
             0.7777777777777778,
             "#fb9f3a"
            ],
            [
             0.8888888888888888,
             "#fdca26"
            ],
            [
             1,
             "#f0f921"
            ]
           ],
           "sequentialminus": [
            [
             0,
             "#0d0887"
            ],
            [
             0.1111111111111111,
             "#46039f"
            ],
            [
             0.2222222222222222,
             "#7201a8"
            ],
            [
             0.3333333333333333,
             "#9c179e"
            ],
            [
             0.4444444444444444,
             "#bd3786"
            ],
            [
             0.5555555555555556,
             "#d8576b"
            ],
            [
             0.6666666666666666,
             "#ed7953"
            ],
            [
             0.7777777777777778,
             "#fb9f3a"
            ],
            [
             0.8888888888888888,
             "#fdca26"
            ],
            [
             1,
             "#f0f921"
            ]
           ]
          },
          "colorway": [
           "#636efa",
           "#EF553B",
           "#00cc96",
           "#ab63fa",
           "#FFA15A",
           "#19d3f3",
           "#FF6692",
           "#B6E880",
           "#FF97FF",
           "#FECB52"
          ],
          "font": {
           "color": "#2a3f5f"
          },
          "geo": {
           "bgcolor": "white",
           "lakecolor": "white",
           "landcolor": "#E5ECF6",
           "showlakes": true,
           "showland": true,
           "subunitcolor": "white"
          },
          "hoverlabel": {
           "align": "left"
          },
          "hovermode": "closest",
          "mapbox": {
           "style": "light"
          },
          "paper_bgcolor": "white",
          "plot_bgcolor": "#E5ECF6",
          "polar": {
           "angularaxis": {
            "gridcolor": "white",
            "linecolor": "white",
            "ticks": ""
           },
           "bgcolor": "#E5ECF6",
           "radialaxis": {
            "gridcolor": "white",
            "linecolor": "white",
            "ticks": ""
           }
          },
          "scene": {
           "xaxis": {
            "backgroundcolor": "#E5ECF6",
            "gridcolor": "white",
            "gridwidth": 2,
            "linecolor": "white",
            "showbackground": true,
            "ticks": "",
            "zerolinecolor": "white"
           },
           "yaxis": {
            "backgroundcolor": "#E5ECF6",
            "gridcolor": "white",
            "gridwidth": 2,
            "linecolor": "white",
            "showbackground": true,
            "ticks": "",
            "zerolinecolor": "white"
           },
           "zaxis": {
            "backgroundcolor": "#E5ECF6",
            "gridcolor": "white",
            "gridwidth": 2,
            "linecolor": "white",
            "showbackground": true,
            "ticks": "",
            "zerolinecolor": "white"
           }
          },
          "shapedefaults": {
           "line": {
            "color": "#2a3f5f"
           }
          },
          "ternary": {
           "aaxis": {
            "gridcolor": "white",
            "linecolor": "white",
            "ticks": ""
           },
           "baxis": {
            "gridcolor": "white",
            "linecolor": "white",
            "ticks": ""
           },
           "bgcolor": "#E5ECF6",
           "caxis": {
            "gridcolor": "white",
            "linecolor": "white",
            "ticks": ""
           }
          },
          "title": {
           "x": 0.05
          },
          "xaxis": {
           "automargin": true,
           "gridcolor": "white",
           "linecolor": "white",
           "ticks": "",
           "title": {
            "standoff": 15
           },
           "zerolinecolor": "white",
           "zerolinewidth": 2
          },
          "yaxis": {
           "automargin": true,
           "gridcolor": "white",
           "linecolor": "white",
           "ticks": "",
           "title": {
            "standoff": 15
           },
           "zerolinecolor": "white",
           "zerolinewidth": 2
          }
         }
        },
        "title": {
         "text": "Countries with highest Crop Production in 2018"
        },
        "xaxis": {
         "anchor": "y",
         "domain": [
          0,
          1
         ],
         "title": {
          "text": "Country"
         }
        },
        "yaxis": {
         "anchor": "x",
         "domain": [
          0,
          1
         ],
         "title": {
          "text": "Amount (tonnes)"
         }
        }
       }
      }
     },
     "metadata": {},
     "output_type": "display_data"
    }
   ],
   "source": [
    "fig = px.bar(data_global, x=data_global.Country[1:20], y=data_global.Amount[1:20], title='Countries with highest Crop Production in 2018',color=data_global.Amount[1:20],\n",
    "             labels={'x': 'Country', 'y': 'Amount (tonnes)', 'color': 'Amount- Tonnes'})\n",
    "fig.show()"
   ]
  },
  {
   "cell_type": "markdown",
   "metadata": {
    "papermill": {
     "duration": 0.027819,
     "end_time": "2021-03-01T15:25:29.081412",
     "exception": false,
     "start_time": "2021-03-01T15:25:29.053593",
     "status": "completed"
    },
    "tags": []
   },
   "source": [
    "When analysing this data we can ignore the continents and solely focus on the countries in the table.\n",
    "We see that countries like India (2.34B tonnes) and Brazil (2.26B tonnes) have a much higher level of crop production compared to Spain (Even on the year with its highest level of production). This could be attributed to the difference in the population of these countries or the difference in technological advancement and Infrastructure.\n",
    "I will only be looking at the relationship between crops produced in spain and the population of spain over the specified time fram (1961 to 2019), but I strongly recommned looking at the relationship between the crop production level of all these different countries and their population density/population.\n",
    "\n",
    "Below is the above bar grpah extended to show the crop production levels of the top 60 countries (Done so the bar representing Spain can be seen (in the 10th position from the end))"
   ]
  },
  {
   "cell_type": "code",
   "execution_count": 207,
   "metadata": {
    "papermill": {
     "duration": 0.104647,
     "end_time": "2021-03-01T15:25:29.214361",
     "exception": false,
     "start_time": "2021-03-01T15:25:29.109714",
     "status": "completed"
    },
    "tags": []
   },
   "outputs": [
    {
     "data": {
      "application/vnd.plotly.v1+json": {
       "config": {
        "plotlyServerURL": "https://plot.ly"
       },
       "data": [
        {
         "alignmentgroup": "True",
         "hovertemplate": "Country=%{x}<br>Amount (tonnes)=%{y}<br>Amount- Tonnes=%{marker.color}<extra></extra>",
         "legendgroup": "",
         "marker": {
          "color": [
           9909927509,
           5430717025,
           4041828471,
           3949022825,
           3805442309,
           3786133558,
           3071090434,
           3051294610,
           2402731391,
           2341187160,
           2257702440,
           2254771280,
           2213475673,
           1925051743,
           1816661773,
           1582117592,
           1349561050,
           1340754806,
           1259223421,
           1150261822,
           974875570,
           783706192,
           739926902,
           533347819,
           497899263,
           477393825,
           457480077,
           452481849,
           403271662,
           374977436,
           364724963,
           340690478,
           327413101,
           301587889,
           290877565,
           287054324,
           270340896,
           249520912,
           243964661,
           235999175,
           235872271,
           234533310,
           210911093,
           206263916,
           205386182,
           179249723,
           171338076,
           171303981,
           170141389,
           160773763,
           159669757,
           154888597,
           143405574,
           141981152,
           137449410,
           134424646,
           124383150,
           118955142,
           115230427
          ],
          "coloraxis": "coloraxis",
          "pattern": {
           "shape": ""
          }
         },
         "name": "",
         "offsetgroup": "",
         "orientation": "v",
         "showlegend": false,
         "textposition": "auto",
         "type": "bar",
         "x": [
          "Asia",
          "Americas",
          "Low Income Food Deficit Countries",
          "Eastern Asia",
          "China",
          "China, mainland",
          "Southern Asia",
          "South America",
          "South-eastern Asia",
          "India",
          "Brazil",
          "Net Food Importing Developing Countries",
          "Europe",
          "Africa",
          "Northern America",
          "United States of America",
          "Least Developed Countries",
          "European Union (28)",
          "European Union (27)",
          "Eastern Europe",
          "Indonesia",
          "Land Locked Developing Countries",
          "Western Africa",
          "Western Europe",
          "Thailand",
          "Central America",
          "Eastern Africa",
          "Russian Federation",
          "Nigeria",
          "Southern Europe",
          "Northern Africa",
          "Argentina",
          "Western Asia",
          "Ukraine",
          "Mexico",
          "Pakistan",
          "France",
          "Viet Nam",
          "Middle Africa",
          "Malaysia",
          "Turkey",
          "Canada",
          "Bangladesh",
          "Oceania",
          "Philippines",
          "Australia and New Zealand",
          "Australia",
          "Egypt",
          "Germany",
          "Spain",
          "Central Asia",
          "Northern Europe",
          "Myanmar",
          "Iran (Islamic Republic of)",
          "Colombia",
          "Small Island Developing States",
          "Poland",
          "Southern Africa",
          "Democratic Republic of the Congo"
         ],
         "xaxis": "x",
         "y": [
          9909927509,
          5430717025,
          4041828471,
          3949022825,
          3805442309,
          3786133558,
          3071090434,
          3051294610,
          2402731391,
          2341187160,
          2257702440,
          2254771280,
          2213475673,
          1925051743,
          1816661773,
          1582117592,
          1349561050,
          1340754806,
          1259223421,
          1150261822,
          974875570,
          783706192,
          739926902,
          533347819,
          497899263,
          477393825,
          457480077,
          452481849,
          403271662,
          374977436,
          364724963,
          340690478,
          327413101,
          301587889,
          290877565,
          287054324,
          270340896,
          249520912,
          243964661,
          235999175,
          235872271,
          234533310,
          210911093,
          206263916,
          205386182,
          179249723,
          171338076,
          171303981,
          170141389,
          160773763,
          159669757,
          154888597,
          143405574,
          141981152,
          137449410,
          134424646,
          124383150,
          118955142,
          115230427
         ],
         "yaxis": "y"
        }
       ],
       "layout": {
        "barmode": "relative",
        "coloraxis": {
         "colorbar": {
          "title": {
           "text": "Amount- Tonnes"
          }
         },
         "colorscale": [
          [
           0,
           "#0d0887"
          ],
          [
           0.1111111111111111,
           "#46039f"
          ],
          [
           0.2222222222222222,
           "#7201a8"
          ],
          [
           0.3333333333333333,
           "#9c179e"
          ],
          [
           0.4444444444444444,
           "#bd3786"
          ],
          [
           0.5555555555555556,
           "#d8576b"
          ],
          [
           0.6666666666666666,
           "#ed7953"
          ],
          [
           0.7777777777777778,
           "#fb9f3a"
          ],
          [
           0.8888888888888888,
           "#fdca26"
          ],
          [
           1,
           "#f0f921"
          ]
         ]
        },
        "legend": {
         "tracegroupgap": 0
        },
        "template": {
         "data": {
          "bar": [
           {
            "error_x": {
             "color": "#2a3f5f"
            },
            "error_y": {
             "color": "#2a3f5f"
            },
            "marker": {
             "line": {
              "color": "#E5ECF6",
              "width": 0.5
             },
             "pattern": {
              "fillmode": "overlay",
              "size": 10,
              "solidity": 0.2
             }
            },
            "type": "bar"
           }
          ],
          "barpolar": [
           {
            "marker": {
             "line": {
              "color": "#E5ECF6",
              "width": 0.5
             },
             "pattern": {
              "fillmode": "overlay",
              "size": 10,
              "solidity": 0.2
             }
            },
            "type": "barpolar"
           }
          ],
          "carpet": [
           {
            "aaxis": {
             "endlinecolor": "#2a3f5f",
             "gridcolor": "white",
             "linecolor": "white",
             "minorgridcolor": "white",
             "startlinecolor": "#2a3f5f"
            },
            "baxis": {
             "endlinecolor": "#2a3f5f",
             "gridcolor": "white",
             "linecolor": "white",
             "minorgridcolor": "white",
             "startlinecolor": "#2a3f5f"
            },
            "type": "carpet"
           }
          ],
          "choropleth": [
           {
            "colorbar": {
             "outlinewidth": 0,
             "ticks": ""
            },
            "type": "choropleth"
           }
          ],
          "contour": [
           {
            "colorbar": {
             "outlinewidth": 0,
             "ticks": ""
            },
            "colorscale": [
             [
              0,
              "#0d0887"
             ],
             [
              0.1111111111111111,
              "#46039f"
             ],
             [
              0.2222222222222222,
              "#7201a8"
             ],
             [
              0.3333333333333333,
              "#9c179e"
             ],
             [
              0.4444444444444444,
              "#bd3786"
             ],
             [
              0.5555555555555556,
              "#d8576b"
             ],
             [
              0.6666666666666666,
              "#ed7953"
             ],
             [
              0.7777777777777778,
              "#fb9f3a"
             ],
             [
              0.8888888888888888,
              "#fdca26"
             ],
             [
              1,
              "#f0f921"
             ]
            ],
            "type": "contour"
           }
          ],
          "contourcarpet": [
           {
            "colorbar": {
             "outlinewidth": 0,
             "ticks": ""
            },
            "type": "contourcarpet"
           }
          ],
          "heatmap": [
           {
            "colorbar": {
             "outlinewidth": 0,
             "ticks": ""
            },
            "colorscale": [
             [
              0,
              "#0d0887"
             ],
             [
              0.1111111111111111,
              "#46039f"
             ],
             [
              0.2222222222222222,
              "#7201a8"
             ],
             [
              0.3333333333333333,
              "#9c179e"
             ],
             [
              0.4444444444444444,
              "#bd3786"
             ],
             [
              0.5555555555555556,
              "#d8576b"
             ],
             [
              0.6666666666666666,
              "#ed7953"
             ],
             [
              0.7777777777777778,
              "#fb9f3a"
             ],
             [
              0.8888888888888888,
              "#fdca26"
             ],
             [
              1,
              "#f0f921"
             ]
            ],
            "type": "heatmap"
           }
          ],
          "heatmapgl": [
           {
            "colorbar": {
             "outlinewidth": 0,
             "ticks": ""
            },
            "colorscale": [
             [
              0,
              "#0d0887"
             ],
             [
              0.1111111111111111,
              "#46039f"
             ],
             [
              0.2222222222222222,
              "#7201a8"
             ],
             [
              0.3333333333333333,
              "#9c179e"
             ],
             [
              0.4444444444444444,
              "#bd3786"
             ],
             [
              0.5555555555555556,
              "#d8576b"
             ],
             [
              0.6666666666666666,
              "#ed7953"
             ],
             [
              0.7777777777777778,
              "#fb9f3a"
             ],
             [
              0.8888888888888888,
              "#fdca26"
             ],
             [
              1,
              "#f0f921"
             ]
            ],
            "type": "heatmapgl"
           }
          ],
          "histogram": [
           {
            "marker": {
             "pattern": {
              "fillmode": "overlay",
              "size": 10,
              "solidity": 0.2
             }
            },
            "type": "histogram"
           }
          ],
          "histogram2d": [
           {
            "colorbar": {
             "outlinewidth": 0,
             "ticks": ""
            },
            "colorscale": [
             [
              0,
              "#0d0887"
             ],
             [
              0.1111111111111111,
              "#46039f"
             ],
             [
              0.2222222222222222,
              "#7201a8"
             ],
             [
              0.3333333333333333,
              "#9c179e"
             ],
             [
              0.4444444444444444,
              "#bd3786"
             ],
             [
              0.5555555555555556,
              "#d8576b"
             ],
             [
              0.6666666666666666,
              "#ed7953"
             ],
             [
              0.7777777777777778,
              "#fb9f3a"
             ],
             [
              0.8888888888888888,
              "#fdca26"
             ],
             [
              1,
              "#f0f921"
             ]
            ],
            "type": "histogram2d"
           }
          ],
          "histogram2dcontour": [
           {
            "colorbar": {
             "outlinewidth": 0,
             "ticks": ""
            },
            "colorscale": [
             [
              0,
              "#0d0887"
             ],
             [
              0.1111111111111111,
              "#46039f"
             ],
             [
              0.2222222222222222,
              "#7201a8"
             ],
             [
              0.3333333333333333,
              "#9c179e"
             ],
             [
              0.4444444444444444,
              "#bd3786"
             ],
             [
              0.5555555555555556,
              "#d8576b"
             ],
             [
              0.6666666666666666,
              "#ed7953"
             ],
             [
              0.7777777777777778,
              "#fb9f3a"
             ],
             [
              0.8888888888888888,
              "#fdca26"
             ],
             [
              1,
              "#f0f921"
             ]
            ],
            "type": "histogram2dcontour"
           }
          ],
          "mesh3d": [
           {
            "colorbar": {
             "outlinewidth": 0,
             "ticks": ""
            },
            "type": "mesh3d"
           }
          ],
          "parcoords": [
           {
            "line": {
             "colorbar": {
              "outlinewidth": 0,
              "ticks": ""
             }
            },
            "type": "parcoords"
           }
          ],
          "pie": [
           {
            "automargin": true,
            "type": "pie"
           }
          ],
          "scatter": [
           {
            "fillpattern": {
             "fillmode": "overlay",
             "size": 10,
             "solidity": 0.2
            },
            "type": "scatter"
           }
          ],
          "scatter3d": [
           {
            "line": {
             "colorbar": {
              "outlinewidth": 0,
              "ticks": ""
             }
            },
            "marker": {
             "colorbar": {
              "outlinewidth": 0,
              "ticks": ""
             }
            },
            "type": "scatter3d"
           }
          ],
          "scattercarpet": [
           {
            "marker": {
             "colorbar": {
              "outlinewidth": 0,
              "ticks": ""
             }
            },
            "type": "scattercarpet"
           }
          ],
          "scattergeo": [
           {
            "marker": {
             "colorbar": {
              "outlinewidth": 0,
              "ticks": ""
             }
            },
            "type": "scattergeo"
           }
          ],
          "scattergl": [
           {
            "marker": {
             "colorbar": {
              "outlinewidth": 0,
              "ticks": ""
             }
            },
            "type": "scattergl"
           }
          ],
          "scattermapbox": [
           {
            "marker": {
             "colorbar": {
              "outlinewidth": 0,
              "ticks": ""
             }
            },
            "type": "scattermapbox"
           }
          ],
          "scatterpolar": [
           {
            "marker": {
             "colorbar": {
              "outlinewidth": 0,
              "ticks": ""
             }
            },
            "type": "scatterpolar"
           }
          ],
          "scatterpolargl": [
           {
            "marker": {
             "colorbar": {
              "outlinewidth": 0,
              "ticks": ""
             }
            },
            "type": "scatterpolargl"
           }
          ],
          "scatterternary": [
           {
            "marker": {
             "colorbar": {
              "outlinewidth": 0,
              "ticks": ""
             }
            },
            "type": "scatterternary"
           }
          ],
          "surface": [
           {
            "colorbar": {
             "outlinewidth": 0,
             "ticks": ""
            },
            "colorscale": [
             [
              0,
              "#0d0887"
             ],
             [
              0.1111111111111111,
              "#46039f"
             ],
             [
              0.2222222222222222,
              "#7201a8"
             ],
             [
              0.3333333333333333,
              "#9c179e"
             ],
             [
              0.4444444444444444,
              "#bd3786"
             ],
             [
              0.5555555555555556,
              "#d8576b"
             ],
             [
              0.6666666666666666,
              "#ed7953"
             ],
             [
              0.7777777777777778,
              "#fb9f3a"
             ],
             [
              0.8888888888888888,
              "#fdca26"
             ],
             [
              1,
              "#f0f921"
             ]
            ],
            "type": "surface"
           }
          ],
          "table": [
           {
            "cells": {
             "fill": {
              "color": "#EBF0F8"
             },
             "line": {
              "color": "white"
             }
            },
            "header": {
             "fill": {
              "color": "#C8D4E3"
             },
             "line": {
              "color": "white"
             }
            },
            "type": "table"
           }
          ]
         },
         "layout": {
          "annotationdefaults": {
           "arrowcolor": "#2a3f5f",
           "arrowhead": 0,
           "arrowwidth": 1
          },
          "autotypenumbers": "strict",
          "coloraxis": {
           "colorbar": {
            "outlinewidth": 0,
            "ticks": ""
           }
          },
          "colorscale": {
           "diverging": [
            [
             0,
             "#8e0152"
            ],
            [
             0.1,
             "#c51b7d"
            ],
            [
             0.2,
             "#de77ae"
            ],
            [
             0.3,
             "#f1b6da"
            ],
            [
             0.4,
             "#fde0ef"
            ],
            [
             0.5,
             "#f7f7f7"
            ],
            [
             0.6,
             "#e6f5d0"
            ],
            [
             0.7,
             "#b8e186"
            ],
            [
             0.8,
             "#7fbc41"
            ],
            [
             0.9,
             "#4d9221"
            ],
            [
             1,
             "#276419"
            ]
           ],
           "sequential": [
            [
             0,
             "#0d0887"
            ],
            [
             0.1111111111111111,
             "#46039f"
            ],
            [
             0.2222222222222222,
             "#7201a8"
            ],
            [
             0.3333333333333333,
             "#9c179e"
            ],
            [
             0.4444444444444444,
             "#bd3786"
            ],
            [
             0.5555555555555556,
             "#d8576b"
            ],
            [
             0.6666666666666666,
             "#ed7953"
            ],
            [
             0.7777777777777778,
             "#fb9f3a"
            ],
            [
             0.8888888888888888,
             "#fdca26"
            ],
            [
             1,
             "#f0f921"
            ]
           ],
           "sequentialminus": [
            [
             0,
             "#0d0887"
            ],
            [
             0.1111111111111111,
             "#46039f"
            ],
            [
             0.2222222222222222,
             "#7201a8"
            ],
            [
             0.3333333333333333,
             "#9c179e"
            ],
            [
             0.4444444444444444,
             "#bd3786"
            ],
            [
             0.5555555555555556,
             "#d8576b"
            ],
            [
             0.6666666666666666,
             "#ed7953"
            ],
            [
             0.7777777777777778,
             "#fb9f3a"
            ],
            [
             0.8888888888888888,
             "#fdca26"
            ],
            [
             1,
             "#f0f921"
            ]
           ]
          },
          "colorway": [
           "#636efa",
           "#EF553B",
           "#00cc96",
           "#ab63fa",
           "#FFA15A",
           "#19d3f3",
           "#FF6692",
           "#B6E880",
           "#FF97FF",
           "#FECB52"
          ],
          "font": {
           "color": "#2a3f5f"
          },
          "geo": {
           "bgcolor": "white",
           "lakecolor": "white",
           "landcolor": "#E5ECF6",
           "showlakes": true,
           "showland": true,
           "subunitcolor": "white"
          },
          "hoverlabel": {
           "align": "left"
          },
          "hovermode": "closest",
          "mapbox": {
           "style": "light"
          },
          "paper_bgcolor": "white",
          "plot_bgcolor": "#E5ECF6",
          "polar": {
           "angularaxis": {
            "gridcolor": "white",
            "linecolor": "white",
            "ticks": ""
           },
           "bgcolor": "#E5ECF6",
           "radialaxis": {
            "gridcolor": "white",
            "linecolor": "white",
            "ticks": ""
           }
          },
          "scene": {
           "xaxis": {
            "backgroundcolor": "#E5ECF6",
            "gridcolor": "white",
            "gridwidth": 2,
            "linecolor": "white",
            "showbackground": true,
            "ticks": "",
            "zerolinecolor": "white"
           },
           "yaxis": {
            "backgroundcolor": "#E5ECF6",
            "gridcolor": "white",
            "gridwidth": 2,
            "linecolor": "white",
            "showbackground": true,
            "ticks": "",
            "zerolinecolor": "white"
           },
           "zaxis": {
            "backgroundcolor": "#E5ECF6",
            "gridcolor": "white",
            "gridwidth": 2,
            "linecolor": "white",
            "showbackground": true,
            "ticks": "",
            "zerolinecolor": "white"
           }
          },
          "shapedefaults": {
           "line": {
            "color": "#2a3f5f"
           }
          },
          "ternary": {
           "aaxis": {
            "gridcolor": "white",
            "linecolor": "white",
            "ticks": ""
           },
           "baxis": {
            "gridcolor": "white",
            "linecolor": "white",
            "ticks": ""
           },
           "bgcolor": "#E5ECF6",
           "caxis": {
            "gridcolor": "white",
            "linecolor": "white",
            "ticks": ""
           }
          },
          "title": {
           "x": 0.05
          },
          "xaxis": {
           "automargin": true,
           "gridcolor": "white",
           "linecolor": "white",
           "ticks": "",
           "title": {
            "standoff": 15
           },
           "zerolinecolor": "white",
           "zerolinewidth": 2
          },
          "yaxis": {
           "automargin": true,
           "gridcolor": "white",
           "linecolor": "white",
           "ticks": "",
           "title": {
            "standoff": 15
           },
           "zerolinecolor": "white",
           "zerolinewidth": 2
          }
         }
        },
        "title": {
         "text": "Countries with highest Crop Production in 2018"
        },
        "xaxis": {
         "anchor": "y",
         "domain": [
          0,
          1
         ],
         "title": {
          "text": "Country"
         }
        },
        "yaxis": {
         "anchor": "x",
         "domain": [
          0,
          1
         ],
         "title": {
          "text": "Amount (tonnes)"
         }
        }
       }
      }
     },
     "metadata": {},
     "output_type": "display_data"
    }
   ],
   "source": [
    "fig1 = px.bar(data_global, x=data_global.Country[1:60], y=data_global.Amount[1:60], title='Countries with highest Crop Production in 2018',color=data_global.Amount[1:60],\n",
    "             labels={'x': 'Country', 'y': 'Amount (tonnes)', 'color': 'Amount- Tonnes'})\n",
    "fig1.show() "
   ]
  },
  {
   "cell_type": "markdown",
   "metadata": {
    "papermill": {
     "duration": 0.03,
     "end_time": "2021-03-01T15:25:29.273257",
     "exception": false,
     "start_time": "2021-03-01T15:25:29.243257",
     "status": "completed"
    },
    "tags": []
   },
   "source": [
    "Considering Population data - So that we can see the relationship between Total population and Crop production in spain (to further understand the various factors that influence crop production)"
   ]
  },
  {
   "cell_type": "code",
   "execution_count": 208,
   "metadata": {
    "papermill": {
     "duration": 0.906403,
     "end_time": "2021-03-01T15:25:30.208761",
     "exception": false,
     "start_time": "2021-03-01T15:25:29.302358",
     "status": "completed"
    },
    "tags": []
   },
   "outputs": [
    {
     "data": {
      "text/html": [
       "<div>\n",
       "<style scoped>\n",
       "    .dataframe tbody tr th:only-of-type {\n",
       "        vertical-align: middle;\n",
       "    }\n",
       "\n",
       "    .dataframe tbody tr th {\n",
       "        vertical-align: top;\n",
       "    }\n",
       "\n",
       "    .dataframe thead th {\n",
       "        text-align: right;\n",
       "    }\n",
       "</style>\n",
       "<table border=\"1\" class=\"dataframe\">\n",
       "  <thead>\n",
       "    <tr style=\"text-align: right;\">\n",
       "      <th></th>\n",
       "      <th>LocID</th>\n",
       "      <th>Location</th>\n",
       "      <th>VarID</th>\n",
       "      <th>Variant</th>\n",
       "      <th>Time</th>\n",
       "      <th>MidPeriod</th>\n",
       "      <th>PopMale</th>\n",
       "      <th>PopFemale</th>\n",
       "      <th>PopTotal</th>\n",
       "      <th>PopDensity</th>\n",
       "    </tr>\n",
       "  </thead>\n",
       "  <tbody>\n",
       "    <tr>\n",
       "      <th>0</th>\n",
       "      <td>4</td>\n",
       "      <td>Afghanistan</td>\n",
       "      <td>2</td>\n",
       "      <td>Medium</td>\n",
       "      <td>1950</td>\n",
       "      <td>1950.5</td>\n",
       "      <td>4099.243</td>\n",
       "      <td>3652.874</td>\n",
       "      <td>7752.117</td>\n",
       "      <td>11.874</td>\n",
       "    </tr>\n",
       "    <tr>\n",
       "      <th>1</th>\n",
       "      <td>4</td>\n",
       "      <td>Afghanistan</td>\n",
       "      <td>2</td>\n",
       "      <td>Medium</td>\n",
       "      <td>1951</td>\n",
       "      <td>1951.5</td>\n",
       "      <td>4134.756</td>\n",
       "      <td>3705.395</td>\n",
       "      <td>7840.151</td>\n",
       "      <td>12.009</td>\n",
       "    </tr>\n",
       "    <tr>\n",
       "      <th>2</th>\n",
       "      <td>4</td>\n",
       "      <td>Afghanistan</td>\n",
       "      <td>2</td>\n",
       "      <td>Medium</td>\n",
       "      <td>1952</td>\n",
       "      <td>1952.5</td>\n",
       "      <td>4174.450</td>\n",
       "      <td>3761.546</td>\n",
       "      <td>7935.996</td>\n",
       "      <td>12.156</td>\n",
       "    </tr>\n",
       "    <tr>\n",
       "      <th>3</th>\n",
       "      <td>4</td>\n",
       "      <td>Afghanistan</td>\n",
       "      <td>2</td>\n",
       "      <td>Medium</td>\n",
       "      <td>1953</td>\n",
       "      <td>1953.5</td>\n",
       "      <td>4218.336</td>\n",
       "      <td>3821.348</td>\n",
       "      <td>8039.684</td>\n",
       "      <td>12.315</td>\n",
       "    </tr>\n",
       "    <tr>\n",
       "      <th>4</th>\n",
       "      <td>4</td>\n",
       "      <td>Afghanistan</td>\n",
       "      <td>2</td>\n",
       "      <td>Medium</td>\n",
       "      <td>1954</td>\n",
       "      <td>1954.5</td>\n",
       "      <td>4266.484</td>\n",
       "      <td>3884.832</td>\n",
       "      <td>8151.316</td>\n",
       "      <td>12.486</td>\n",
       "    </tr>\n",
       "  </tbody>\n",
       "</table>\n",
       "</div>"
      ],
      "text/plain": [
       "   LocID     Location  VarID Variant  Time  MidPeriod   PopMale  PopFemale  \\\n",
       "0      4  Afghanistan      2  Medium  1950     1950.5  4099.243   3652.874   \n",
       "1      4  Afghanistan      2  Medium  1951     1951.5  4134.756   3705.395   \n",
       "2      4  Afghanistan      2  Medium  1952     1952.5  4174.450   3761.546   \n",
       "3      4  Afghanistan      2  Medium  1953     1953.5  4218.336   3821.348   \n",
       "4      4  Afghanistan      2  Medium  1954     1954.5  4266.484   3884.832   \n",
       "\n",
       "   PopTotal  PopDensity  \n",
       "0  7752.117      11.874  \n",
       "1  7840.151      12.009  \n",
       "2  7935.996      12.156  \n",
       "3  8039.684      12.315  \n",
       "4  8151.316      12.486  "
      ]
     },
     "execution_count": 208,
     "metadata": {},
     "output_type": "execute_result"
    }
   ],
   "source": [
    "population_data = \"Total_Population_All_Countries.csv\"\n",
    "population = pd.read_csv(population_data,encoding='cp1252')\n",
    "population.head()\n"
   ]
  },
  {
   "cell_type": "markdown",
   "metadata": {
    "papermill": {
     "duration": 0.029222,
     "end_time": "2021-03-01T15:25:30.267501",
     "exception": false,
     "start_time": "2021-03-01T15:25:30.238279",
     "status": "completed"
    },
    "tags": []
   },
   "source": [
    "Remove columns that are irrelevant/unnecesary"
   ]
  },
  {
   "cell_type": "code",
   "execution_count": 209,
   "metadata": {
    "papermill": {
     "duration": 0.045126,
     "end_time": "2021-03-01T15:25:30.341986",
     "exception": false,
     "start_time": "2021-03-01T15:25:30.296860",
     "status": "completed"
    },
    "tags": []
   },
   "outputs": [],
   "source": [
    "population.drop(['LocID','PopMale', 'PopFemale','VarID','MidPeriod'],inplace=True,axis=1)"
   ]
  },
  {
   "cell_type": "code",
   "execution_count": 210,
   "metadata": {
    "papermill": {
     "duration": 0.094164,
     "end_time": "2021-03-01T15:25:30.465802",
     "exception": false,
     "start_time": "2021-03-01T15:25:30.371638",
     "status": "completed"
    },
    "tags": []
   },
   "outputs": [
    {
     "data": {
      "text/html": [
       "<div>\n",
       "<style scoped>\n",
       "    .dataframe tbody tr th:only-of-type {\n",
       "        vertical-align: middle;\n",
       "    }\n",
       "\n",
       "    .dataframe tbody tr th {\n",
       "        vertical-align: top;\n",
       "    }\n",
       "\n",
       "    .dataframe thead th {\n",
       "        text-align: right;\n",
       "    }\n",
       "</style>\n",
       "<table border=\"1\" class=\"dataframe\">\n",
       "  <thead>\n",
       "    <tr style=\"text-align: right;\">\n",
       "      <th></th>\n",
       "      <th>Location</th>\n",
       "      <th>Variant</th>\n",
       "      <th>Time</th>\n",
       "      <th>PopTotal</th>\n",
       "      <th>PopDensity</th>\n",
       "    </tr>\n",
       "  </thead>\n",
       "  <tbody>\n",
       "    <tr>\n",
       "      <th>115876</th>\n",
       "      <td>India</td>\n",
       "      <td>Medium</td>\n",
       "      <td>1950</td>\n",
       "      <td>3.763252e+08</td>\n",
       "      <td>126.573</td>\n",
       "    </tr>\n",
       "    <tr>\n",
       "      <th>115877</th>\n",
       "      <td>India</td>\n",
       "      <td>Medium</td>\n",
       "      <td>1951</td>\n",
       "      <td>3.823769e+08</td>\n",
       "      <td>128.608</td>\n",
       "    </tr>\n",
       "    <tr>\n",
       "      <th>115878</th>\n",
       "      <td>India</td>\n",
       "      <td>Medium</td>\n",
       "      <td>1952</td>\n",
       "      <td>3.887991e+08</td>\n",
       "      <td>130.768</td>\n",
       "    </tr>\n",
       "    <tr>\n",
       "      <th>115879</th>\n",
       "      <td>India</td>\n",
       "      <td>Medium</td>\n",
       "      <td>1953</td>\n",
       "      <td>3.955444e+08</td>\n",
       "      <td>133.037</td>\n",
       "    </tr>\n",
       "    <tr>\n",
       "      <th>115880</th>\n",
       "      <td>India</td>\n",
       "      <td>Medium</td>\n",
       "      <td>1954</td>\n",
       "      <td>4.025786e+08</td>\n",
       "      <td>135.403</td>\n",
       "    </tr>\n",
       "    <tr>\n",
       "      <th>...</th>\n",
       "      <td>...</td>\n",
       "      <td>...</td>\n",
       "      <td>...</td>\n",
       "      <td>...</td>\n",
       "      <td>...</td>\n",
       "    </tr>\n",
       "    <tr>\n",
       "      <th>116755</th>\n",
       "      <td>India</td>\n",
       "      <td>Lower 95 PI</td>\n",
       "      <td>2080</td>\n",
       "      <td>1.163875e+06</td>\n",
       "      <td>391.457</td>\n",
       "    </tr>\n",
       "    <tr>\n",
       "      <th>116756</th>\n",
       "      <td>India</td>\n",
       "      <td>Lower 95 PI</td>\n",
       "      <td>2085</td>\n",
       "      <td>1.094226e+06</td>\n",
       "      <td>368.031</td>\n",
       "    </tr>\n",
       "    <tr>\n",
       "      <th>116757</th>\n",
       "      <td>India</td>\n",
       "      <td>Lower 95 PI</td>\n",
       "      <td>2090</td>\n",
       "      <td>1.024908e+06</td>\n",
       "      <td>344.717</td>\n",
       "    </tr>\n",
       "    <tr>\n",
       "      <th>116758</th>\n",
       "      <td>India</td>\n",
       "      <td>Lower 95 PI</td>\n",
       "      <td>2095</td>\n",
       "      <td>9.554052e+05</td>\n",
       "      <td>321.340</td>\n",
       "    </tr>\n",
       "    <tr>\n",
       "      <th>116759</th>\n",
       "      <td>India</td>\n",
       "      <td>Lower 95 PI</td>\n",
       "      <td>2100</td>\n",
       "      <td>8.869451e+05</td>\n",
       "      <td>298.314</td>\n",
       "    </tr>\n",
       "  </tbody>\n",
       "</table>\n",
       "<p>884 rows × 5 columns</p>\n",
       "</div>"
      ],
      "text/plain": [
       "       Location      Variant  Time      PopTotal  PopDensity\n",
       "115876    India       Medium  1950  3.763252e+08     126.573\n",
       "115877    India       Medium  1951  3.823769e+08     128.608\n",
       "115878    India       Medium  1952  3.887991e+08     130.768\n",
       "115879    India       Medium  1953  3.955444e+08     133.037\n",
       "115880    India       Medium  1954  4.025786e+08     135.403\n",
       "...         ...          ...   ...           ...         ...\n",
       "116755    India  Lower 95 PI  2080  1.163875e+06     391.457\n",
       "116756    India  Lower 95 PI  2085  1.094226e+06     368.031\n",
       "116757    India  Lower 95 PI  2090  1.024908e+06     344.717\n",
       "116758    India  Lower 95 PI  2095  9.554052e+05     321.340\n",
       "116759    India  Lower 95 PI  2100  8.869451e+05     298.314\n",
       "\n",
       "[884 rows x 5 columns]"
      ]
     },
     "execution_count": 210,
     "metadata": {},
     "output_type": "execute_result"
    }
   ],
   "source": [
    "pop_india = population.loc[population.Location == 'India']\n",
    "pop_india"
   ]
  },
  {
   "cell_type": "markdown",
   "metadata": {
    "papermill": {
     "duration": 0.030047,
     "end_time": "2021-03-01T15:25:30.526276",
     "exception": false,
     "start_time": "2021-03-01T15:25:30.496229",
     "status": "completed"
    },
    "tags": []
   },
   "source": [
    "Note that for population data we will be reffering to the medium variant in the dataset provided. More informatio on this can be found at -  https://population.un.org/wpp/Download/Standard/Population/"
   ]
  },
  {
   "cell_type": "code",
   "execution_count": 211,
   "metadata": {
    "papermill": {
     "duration": 0.040054,
     "end_time": "2021-03-01T15:25:30.596657",
     "exception": false,
     "start_time": "2021-03-01T15:25:30.556603",
     "status": "completed"
    },
    "tags": []
   },
   "outputs": [],
   "source": [
    "population_medium = pop_india.loc[pop_india.Variant == 'Medium']\n",
    "#population_medium.head()"
   ]
  },
  {
   "cell_type": "markdown",
   "metadata": {
    "papermill": {
     "duration": 0.030451,
     "end_time": "2021-03-01T15:25:30.657693",
     "exception": false,
     "start_time": "2021-03-01T15:25:30.627242",
     "status": "completed"
    },
    "tags": []
   },
   "source": [
    "Filter the popuilation data to only contain the data for the years present in the crop production dataset (1961-2019)"
   ]
  },
  {
   "cell_type": "code",
   "execution_count": 218,
   "metadata": {
    "papermill": {
     "duration": 0.053764,
     "end_time": "2021-03-01T15:25:30.742888",
     "exception": false,
     "start_time": "2021-03-01T15:25:30.689124",
     "status": "completed"
    },
    "tags": []
   },
   "outputs": [
    {
     "data": {
      "text/html": [
       "<div>\n",
       "<style scoped>\n",
       "    .dataframe tbody tr th:only-of-type {\n",
       "        vertical-align: middle;\n",
       "    }\n",
       "\n",
       "    .dataframe tbody tr th {\n",
       "        vertical-align: top;\n",
       "    }\n",
       "\n",
       "    .dataframe thead th {\n",
       "        text-align: right;\n",
       "    }\n",
       "</style>\n",
       "<table border=\"1\" class=\"dataframe\">\n",
       "  <thead>\n",
       "    <tr style=\"text-align: right;\">\n",
       "      <th></th>\n",
       "      <th>Location</th>\n",
       "      <th>Variant</th>\n",
       "      <th>Time</th>\n",
       "      <th>PopTotal</th>\n",
       "      <th>PopDensity</th>\n",
       "    </tr>\n",
       "  </thead>\n",
       "  <tbody>\n",
       "    <tr>\n",
       "      <th>115876</th>\n",
       "      <td>India</td>\n",
       "      <td>Medium</td>\n",
       "      <td>1950</td>\n",
       "      <td>376325200.0</td>\n",
       "      <td>126.573</td>\n",
       "    </tr>\n",
       "    <tr>\n",
       "      <th>115877</th>\n",
       "      <td>India</td>\n",
       "      <td>Medium</td>\n",
       "      <td>1951</td>\n",
       "      <td>382376945.0</td>\n",
       "      <td>128.608</td>\n",
       "    </tr>\n",
       "    <tr>\n",
       "      <th>115878</th>\n",
       "      <td>India</td>\n",
       "      <td>Medium</td>\n",
       "      <td>1952</td>\n",
       "      <td>388799076.0</td>\n",
       "      <td>130.768</td>\n",
       "    </tr>\n",
       "    <tr>\n",
       "      <th>115879</th>\n",
       "      <td>India</td>\n",
       "      <td>Medium</td>\n",
       "      <td>1953</td>\n",
       "      <td>395544365.0</td>\n",
       "      <td>133.037</td>\n",
       "    </tr>\n",
       "    <tr>\n",
       "      <th>115880</th>\n",
       "      <td>India</td>\n",
       "      <td>Medium</td>\n",
       "      <td>1954</td>\n",
       "      <td>402578594.0</td>\n",
       "      <td>135.403</td>\n",
       "    </tr>\n",
       "  </tbody>\n",
       "</table>\n",
       "</div>"
      ],
      "text/plain": [
       "       Location Variant  Time     PopTotal  PopDensity\n",
       "115876    India  Medium  1950  376325200.0     126.573\n",
       "115877    India  Medium  1951  382376945.0     128.608\n",
       "115878    India  Medium  1952  388799076.0     130.768\n",
       "115879    India  Medium  1953  395544365.0     133.037\n",
       "115880    India  Medium  1954  402578594.0     135.403"
      ]
     },
     "execution_count": 218,
     "metadata": {},
     "output_type": "execute_result"
    }
   ],
   "source": [
    "pop_filtered = population_medium.loc[(population_medium.Time > 1949) & (population_medium.Time < 2021)]\n",
    "pop_filtered.head()"
   ]
  },
  {
   "cell_type": "code",
   "execution_count": 219,
   "metadata": {
    "papermill": {
     "duration": 0.092154,
     "end_time": "2021-03-01T15:25:30.866356",
     "exception": false,
     "start_time": "2021-03-01T15:25:30.774202",
     "status": "completed"
    },
    "tags": []
   },
   "outputs": [],
   "source": [
    "temp1 = production_sort\n",
    "temp1 = temp1.sort_values(by=['Year'], ascending=True)\n",
    "years = temp1.Year.unique()\n",
    "yr = []\n",
    "amnt = []\n",
    "for year in years:\n",
    "    temp_year = temp1.loc[temp1.Year == year]\n",
    "    amount = temp_year.Value.sum()\n",
    "    yr.append(year)\n",
    "    amnt.append(amount)\n",
    "    \n",
    "data_yearly = pd.DataFrame({'Year': yr, 'Value': amnt})\n",
    "data_yearly = data_yearly.sort_values(by=['Year'], ascending=True)"
   ]
  },
  {
   "cell_type": "code",
   "execution_count": 220,
   "metadata": {
    "papermill": {
     "duration": 0.0972,
     "end_time": "2021-03-01T15:25:30.994566",
     "exception": false,
     "start_time": "2021-03-01T15:25:30.897366",
     "status": "completed"
    },
    "tags": []
   },
   "outputs": [],
   "source": [
    "fig4 = px.line(data_yearly, x=\"Year\", y=\"Value\", title='Crop production per year in India (In tonnes)')\n",
    "#fig4.show()"
   ]
  },
  {
   "cell_type": "code",
   "execution_count": 221,
   "metadata": {
    "papermill": {
     "duration": 0.099513,
     "end_time": "2021-03-01T15:25:31.126361",
     "exception": false,
     "start_time": "2021-03-01T15:25:31.026848",
     "status": "completed"
    },
    "tags": []
   },
   "outputs": [],
   "source": [
    "fig3 = px.line(pop_filtered, x=\"Time\", y=\"PopTotal\", title='Population In India (In millions)')\n",
    "#fig3.show()"
   ]
  },
  {
   "cell_type": "code",
   "execution_count": 222,
   "metadata": {
    "papermill": {
     "duration": 0.046867,
     "end_time": "2021-03-01T15:25:31.204599",
     "exception": false,
     "start_time": "2021-03-01T15:25:31.157732",
     "status": "completed"
    },
    "tags": []
   },
   "outputs": [
    {
     "data": {
      "application/vnd.plotly.v1+json": {
       "config": {
        "plotlyServerURL": "https://plot.ly"
       },
       "data": [
        {
         "hovertemplate": "Time=%{x}<br>PopTotal=%{y}<extra></extra>",
         "legendgroup": "",
         "line": {
          "color": "#636efa",
          "dash": "solid"
         },
         "marker": {
          "symbol": "circle"
         },
         "mode": "lines",
         "name": "",
         "orientation": "v",
         "showlegend": false,
         "type": "scatter",
         "x": [
          1950,
          1951,
          1952,
          1953,
          1954,
          1955,
          1956,
          1957,
          1958,
          1959,
          1960,
          1961,
          1962,
          1963,
          1964,
          1965,
          1966,
          1967,
          1968,
          1969,
          1970,
          1971,
          1972,
          1973,
          1974,
          1975,
          1976,
          1977,
          1978,
          1979,
          1980,
          1981,
          1982,
          1983,
          1984,
          1985,
          1986,
          1987,
          1988,
          1989,
          1990,
          1991,
          1992,
          1993,
          1994,
          1995,
          1996,
          1997,
          1998,
          1999,
          2000,
          2001,
          2002,
          2003,
          2004,
          2005,
          2006,
          2007,
          2008,
          2009,
          2010,
          2011,
          2012,
          2013,
          2014,
          2015,
          2016,
          2017,
          2018,
          2019,
          2020
         ],
         "xaxis": "x",
         "y": [
          376325200,
          382376945,
          388799076,
          395544365,
          402578594,
          409880606,
          417442811,
          425270709,
          433380978,
          441798571,
          450547675,
          459642166,
          469077191,
          478825602,
          488848139,
          499123328,
          509631509,
          520400577,
          531513834,
          543084333,
          555189797,
          567868021,
          581087255,
          594770136,
          608802595,
          623102900,
          637630085,
          652408766,
          667499815,
          682995348,
          698952837,
          715384997,
          732239498,
          749428958,
          766833411,
          784360012,
          801975250,
          819682095,
          837468938,
          855334675,
          873277799,
          891273202,
          909307018,
          927403866,
          945601828,
          963922586,
          982365248,
          1000900028,
          1019483586,
          1038058154,
          1056575548,
          1075000094,
          1093317187,
          1111523146,
          1129623466,
          1147609924,
          1165486291,
          1183209471,
          1200669762,
          1217726217,
          1234281163,
          1250287939,
          1265780243,
          1280842119,
          1295600768,
          1310152392,
          1324517250,
          1338676779,
          1352642283,
          1366417756,
          1380004385
         ],
         "yaxis": "y"
        }
       ],
       "layout": {
        "legend": {
         "tracegroupgap": 0
        },
        "template": {
         "data": {
          "bar": [
           {
            "error_x": {
             "color": "#2a3f5f"
            },
            "error_y": {
             "color": "#2a3f5f"
            },
            "marker": {
             "line": {
              "color": "#E5ECF6",
              "width": 0.5
             },
             "pattern": {
              "fillmode": "overlay",
              "size": 10,
              "solidity": 0.2
             }
            },
            "type": "bar"
           }
          ],
          "barpolar": [
           {
            "marker": {
             "line": {
              "color": "#E5ECF6",
              "width": 0.5
             },
             "pattern": {
              "fillmode": "overlay",
              "size": 10,
              "solidity": 0.2
             }
            },
            "type": "barpolar"
           }
          ],
          "carpet": [
           {
            "aaxis": {
             "endlinecolor": "#2a3f5f",
             "gridcolor": "white",
             "linecolor": "white",
             "minorgridcolor": "white",
             "startlinecolor": "#2a3f5f"
            },
            "baxis": {
             "endlinecolor": "#2a3f5f",
             "gridcolor": "white",
             "linecolor": "white",
             "minorgridcolor": "white",
             "startlinecolor": "#2a3f5f"
            },
            "type": "carpet"
           }
          ],
          "choropleth": [
           {
            "colorbar": {
             "outlinewidth": 0,
             "ticks": ""
            },
            "type": "choropleth"
           }
          ],
          "contour": [
           {
            "colorbar": {
             "outlinewidth": 0,
             "ticks": ""
            },
            "colorscale": [
             [
              0,
              "#0d0887"
             ],
             [
              0.1111111111111111,
              "#46039f"
             ],
             [
              0.2222222222222222,
              "#7201a8"
             ],
             [
              0.3333333333333333,
              "#9c179e"
             ],
             [
              0.4444444444444444,
              "#bd3786"
             ],
             [
              0.5555555555555556,
              "#d8576b"
             ],
             [
              0.6666666666666666,
              "#ed7953"
             ],
             [
              0.7777777777777778,
              "#fb9f3a"
             ],
             [
              0.8888888888888888,
              "#fdca26"
             ],
             [
              1,
              "#f0f921"
             ]
            ],
            "type": "contour"
           }
          ],
          "contourcarpet": [
           {
            "colorbar": {
             "outlinewidth": 0,
             "ticks": ""
            },
            "type": "contourcarpet"
           }
          ],
          "heatmap": [
           {
            "colorbar": {
             "outlinewidth": 0,
             "ticks": ""
            },
            "colorscale": [
             [
              0,
              "#0d0887"
             ],
             [
              0.1111111111111111,
              "#46039f"
             ],
             [
              0.2222222222222222,
              "#7201a8"
             ],
             [
              0.3333333333333333,
              "#9c179e"
             ],
             [
              0.4444444444444444,
              "#bd3786"
             ],
             [
              0.5555555555555556,
              "#d8576b"
             ],
             [
              0.6666666666666666,
              "#ed7953"
             ],
             [
              0.7777777777777778,
              "#fb9f3a"
             ],
             [
              0.8888888888888888,
              "#fdca26"
             ],
             [
              1,
              "#f0f921"
             ]
            ],
            "type": "heatmap"
           }
          ],
          "heatmapgl": [
           {
            "colorbar": {
             "outlinewidth": 0,
             "ticks": ""
            },
            "colorscale": [
             [
              0,
              "#0d0887"
             ],
             [
              0.1111111111111111,
              "#46039f"
             ],
             [
              0.2222222222222222,
              "#7201a8"
             ],
             [
              0.3333333333333333,
              "#9c179e"
             ],
             [
              0.4444444444444444,
              "#bd3786"
             ],
             [
              0.5555555555555556,
              "#d8576b"
             ],
             [
              0.6666666666666666,
              "#ed7953"
             ],
             [
              0.7777777777777778,
              "#fb9f3a"
             ],
             [
              0.8888888888888888,
              "#fdca26"
             ],
             [
              1,
              "#f0f921"
             ]
            ],
            "type": "heatmapgl"
           }
          ],
          "histogram": [
           {
            "marker": {
             "pattern": {
              "fillmode": "overlay",
              "size": 10,
              "solidity": 0.2
             }
            },
            "type": "histogram"
           }
          ],
          "histogram2d": [
           {
            "colorbar": {
             "outlinewidth": 0,
             "ticks": ""
            },
            "colorscale": [
             [
              0,
              "#0d0887"
             ],
             [
              0.1111111111111111,
              "#46039f"
             ],
             [
              0.2222222222222222,
              "#7201a8"
             ],
             [
              0.3333333333333333,
              "#9c179e"
             ],
             [
              0.4444444444444444,
              "#bd3786"
             ],
             [
              0.5555555555555556,
              "#d8576b"
             ],
             [
              0.6666666666666666,
              "#ed7953"
             ],
             [
              0.7777777777777778,
              "#fb9f3a"
             ],
             [
              0.8888888888888888,
              "#fdca26"
             ],
             [
              1,
              "#f0f921"
             ]
            ],
            "type": "histogram2d"
           }
          ],
          "histogram2dcontour": [
           {
            "colorbar": {
             "outlinewidth": 0,
             "ticks": ""
            },
            "colorscale": [
             [
              0,
              "#0d0887"
             ],
             [
              0.1111111111111111,
              "#46039f"
             ],
             [
              0.2222222222222222,
              "#7201a8"
             ],
             [
              0.3333333333333333,
              "#9c179e"
             ],
             [
              0.4444444444444444,
              "#bd3786"
             ],
             [
              0.5555555555555556,
              "#d8576b"
             ],
             [
              0.6666666666666666,
              "#ed7953"
             ],
             [
              0.7777777777777778,
              "#fb9f3a"
             ],
             [
              0.8888888888888888,
              "#fdca26"
             ],
             [
              1,
              "#f0f921"
             ]
            ],
            "type": "histogram2dcontour"
           }
          ],
          "mesh3d": [
           {
            "colorbar": {
             "outlinewidth": 0,
             "ticks": ""
            },
            "type": "mesh3d"
           }
          ],
          "parcoords": [
           {
            "line": {
             "colorbar": {
              "outlinewidth": 0,
              "ticks": ""
             }
            },
            "type": "parcoords"
           }
          ],
          "pie": [
           {
            "automargin": true,
            "type": "pie"
           }
          ],
          "scatter": [
           {
            "fillpattern": {
             "fillmode": "overlay",
             "size": 10,
             "solidity": 0.2
            },
            "type": "scatter"
           }
          ],
          "scatter3d": [
           {
            "line": {
             "colorbar": {
              "outlinewidth": 0,
              "ticks": ""
             }
            },
            "marker": {
             "colorbar": {
              "outlinewidth": 0,
              "ticks": ""
             }
            },
            "type": "scatter3d"
           }
          ],
          "scattercarpet": [
           {
            "marker": {
             "colorbar": {
              "outlinewidth": 0,
              "ticks": ""
             }
            },
            "type": "scattercarpet"
           }
          ],
          "scattergeo": [
           {
            "marker": {
             "colorbar": {
              "outlinewidth": 0,
              "ticks": ""
             }
            },
            "type": "scattergeo"
           }
          ],
          "scattergl": [
           {
            "marker": {
             "colorbar": {
              "outlinewidth": 0,
              "ticks": ""
             }
            },
            "type": "scattergl"
           }
          ],
          "scattermapbox": [
           {
            "marker": {
             "colorbar": {
              "outlinewidth": 0,
              "ticks": ""
             }
            },
            "type": "scattermapbox"
           }
          ],
          "scatterpolar": [
           {
            "marker": {
             "colorbar": {
              "outlinewidth": 0,
              "ticks": ""
             }
            },
            "type": "scatterpolar"
           }
          ],
          "scatterpolargl": [
           {
            "marker": {
             "colorbar": {
              "outlinewidth": 0,
              "ticks": ""
             }
            },
            "type": "scatterpolargl"
           }
          ],
          "scatterternary": [
           {
            "marker": {
             "colorbar": {
              "outlinewidth": 0,
              "ticks": ""
             }
            },
            "type": "scatterternary"
           }
          ],
          "surface": [
           {
            "colorbar": {
             "outlinewidth": 0,
             "ticks": ""
            },
            "colorscale": [
             [
              0,
              "#0d0887"
             ],
             [
              0.1111111111111111,
              "#46039f"
             ],
             [
              0.2222222222222222,
              "#7201a8"
             ],
             [
              0.3333333333333333,
              "#9c179e"
             ],
             [
              0.4444444444444444,
              "#bd3786"
             ],
             [
              0.5555555555555556,
              "#d8576b"
             ],
             [
              0.6666666666666666,
              "#ed7953"
             ],
             [
              0.7777777777777778,
              "#fb9f3a"
             ],
             [
              0.8888888888888888,
              "#fdca26"
             ],
             [
              1,
              "#f0f921"
             ]
            ],
            "type": "surface"
           }
          ],
          "table": [
           {
            "cells": {
             "fill": {
              "color": "#EBF0F8"
             },
             "line": {
              "color": "white"
             }
            },
            "header": {
             "fill": {
              "color": "#C8D4E3"
             },
             "line": {
              "color": "white"
             }
            },
            "type": "table"
           }
          ]
         },
         "layout": {
          "annotationdefaults": {
           "arrowcolor": "#2a3f5f",
           "arrowhead": 0,
           "arrowwidth": 1
          },
          "autotypenumbers": "strict",
          "coloraxis": {
           "colorbar": {
            "outlinewidth": 0,
            "ticks": ""
           }
          },
          "colorscale": {
           "diverging": [
            [
             0,
             "#8e0152"
            ],
            [
             0.1,
             "#c51b7d"
            ],
            [
             0.2,
             "#de77ae"
            ],
            [
             0.3,
             "#f1b6da"
            ],
            [
             0.4,
             "#fde0ef"
            ],
            [
             0.5,
             "#f7f7f7"
            ],
            [
             0.6,
             "#e6f5d0"
            ],
            [
             0.7,
             "#b8e186"
            ],
            [
             0.8,
             "#7fbc41"
            ],
            [
             0.9,
             "#4d9221"
            ],
            [
             1,
             "#276419"
            ]
           ],
           "sequential": [
            [
             0,
             "#0d0887"
            ],
            [
             0.1111111111111111,
             "#46039f"
            ],
            [
             0.2222222222222222,
             "#7201a8"
            ],
            [
             0.3333333333333333,
             "#9c179e"
            ],
            [
             0.4444444444444444,
             "#bd3786"
            ],
            [
             0.5555555555555556,
             "#d8576b"
            ],
            [
             0.6666666666666666,
             "#ed7953"
            ],
            [
             0.7777777777777778,
             "#fb9f3a"
            ],
            [
             0.8888888888888888,
             "#fdca26"
            ],
            [
             1,
             "#f0f921"
            ]
           ],
           "sequentialminus": [
            [
             0,
             "#0d0887"
            ],
            [
             0.1111111111111111,
             "#46039f"
            ],
            [
             0.2222222222222222,
             "#7201a8"
            ],
            [
             0.3333333333333333,
             "#9c179e"
            ],
            [
             0.4444444444444444,
             "#bd3786"
            ],
            [
             0.5555555555555556,
             "#d8576b"
            ],
            [
             0.6666666666666666,
             "#ed7953"
            ],
            [
             0.7777777777777778,
             "#fb9f3a"
            ],
            [
             0.8888888888888888,
             "#fdca26"
            ],
            [
             1,
             "#f0f921"
            ]
           ]
          },
          "colorway": [
           "#636efa",
           "#EF553B",
           "#00cc96",
           "#ab63fa",
           "#FFA15A",
           "#19d3f3",
           "#FF6692",
           "#B6E880",
           "#FF97FF",
           "#FECB52"
          ],
          "font": {
           "color": "#2a3f5f"
          },
          "geo": {
           "bgcolor": "white",
           "lakecolor": "white",
           "landcolor": "#E5ECF6",
           "showlakes": true,
           "showland": true,
           "subunitcolor": "white"
          },
          "hoverlabel": {
           "align": "left"
          },
          "hovermode": "closest",
          "mapbox": {
           "style": "light"
          },
          "paper_bgcolor": "white",
          "plot_bgcolor": "#E5ECF6",
          "polar": {
           "angularaxis": {
            "gridcolor": "white",
            "linecolor": "white",
            "ticks": ""
           },
           "bgcolor": "#E5ECF6",
           "radialaxis": {
            "gridcolor": "white",
            "linecolor": "white",
            "ticks": ""
           }
          },
          "scene": {
           "xaxis": {
            "backgroundcolor": "#E5ECF6",
            "gridcolor": "white",
            "gridwidth": 2,
            "linecolor": "white",
            "showbackground": true,
            "ticks": "",
            "zerolinecolor": "white"
           },
           "yaxis": {
            "backgroundcolor": "#E5ECF6",
            "gridcolor": "white",
            "gridwidth": 2,
            "linecolor": "white",
            "showbackground": true,
            "ticks": "",
            "zerolinecolor": "white"
           },
           "zaxis": {
            "backgroundcolor": "#E5ECF6",
            "gridcolor": "white",
            "gridwidth": 2,
            "linecolor": "white",
            "showbackground": true,
            "ticks": "",
            "zerolinecolor": "white"
           }
          },
          "shapedefaults": {
           "line": {
            "color": "#2a3f5f"
           }
          },
          "ternary": {
           "aaxis": {
            "gridcolor": "white",
            "linecolor": "white",
            "ticks": ""
           },
           "baxis": {
            "gridcolor": "white",
            "linecolor": "white",
            "ticks": ""
           },
           "bgcolor": "#E5ECF6",
           "caxis": {
            "gridcolor": "white",
            "linecolor": "white",
            "ticks": ""
           }
          },
          "title": {
           "x": 0.05
          },
          "xaxis": {
           "automargin": true,
           "gridcolor": "white",
           "linecolor": "white",
           "ticks": "",
           "title": {
            "standoff": 15
           },
           "zerolinecolor": "white",
           "zerolinewidth": 2
          },
          "yaxis": {
           "automargin": true,
           "gridcolor": "white",
           "linecolor": "white",
           "ticks": "",
           "title": {
            "standoff": 15
           },
           "zerolinecolor": "white",
           "zerolinewidth": 2
          }
         }
        },
        "title": {
         "text": "Population In India (In millions)"
        },
        "xaxis": {
         "anchor": "y",
         "domain": [
          0,
          1
         ],
         "title": {
          "text": "Time"
         }
        },
        "yaxis": {
         "anchor": "x",
         "domain": [
          0,
          1
         ],
         "title": {
          "text": "PopTotal"
         }
        }
       }
      }
     },
     "metadata": {},
     "output_type": "display_data"
    },
    {
     "data": {
      "application/vnd.plotly.v1+json": {
       "config": {
        "plotlyServerURL": "https://plot.ly"
       },
       "data": [
        {
         "hovertemplate": "Year=%{x}<br>Value=%{y}<extra></extra>",
         "legendgroup": "",
         "line": {
          "color": "#636efa",
          "dash": "solid"
         },
         "marker": {
          "symbol": "circle"
         },
         "mode": "lines",
         "name": "",
         "orientation": "v",
         "showlegend": false,
         "type": "scatter",
         "x": [
          1961,
          1962,
          1963,
          1964,
          1965,
          1966,
          1967,
          1968,
          1969,
          1970,
          1971,
          1972,
          1973,
          1974,
          1975,
          1976,
          1977,
          1978,
          1979,
          1980,
          1981,
          1982,
          1983,
          1984,
          1985,
          1986,
          1987,
          1988,
          1989,
          1990,
          1991,
          1992,
          1993,
          1994,
          1995,
          1996,
          1997,
          1998,
          1999,
          2000,
          2001,
          2002,
          2003,
          2004,
          2005,
          2006,
          2007,
          2008,
          2009,
          2010,
          2011,
          2012,
          2013,
          2014,
          2015,
          2016,
          2017,
          2018,
          2019
         ],
         "xaxis": "x",
         "y": [
          572418794,
          558741825,
          548392459,
          582774867,
          587002022,
          591595560,
          572172175,
          603041950,
          672974169,
          718506779,
          708834460,
          663519747,
          722364258,
          724072702,
          794241021,
          773558511,
          843021454,
          909061012,
          819759110,
          804300168,
          889834552,
          926067281,
          1016602892,
          999268796,
          1000595737,
          997918616,
          1010319002,
          1121533300,
          1184559704,
          1223621233,
          1263755222,
          1323733775,
          1307709108,
          1331448274,
          1423661311,
          1469772834,
          1495805780,
          1508475843,
          1612877683,
          1579003389,
          1604836351,
          1488413269,
          1588434286,
          1460646409,
          1532767730,
          1667629210,
          1902923775,
          1914185274,
          1750944767,
          1871629928,
          2047982601,
          2106737826,
          2122737303,
          2162955472,
          2121143814,
          2152004666,
          2146108960,
          2341187160,
          2404987476
         ],
         "yaxis": "y"
        }
       ],
       "layout": {
        "legend": {
         "tracegroupgap": 0
        },
        "template": {
         "data": {
          "bar": [
           {
            "error_x": {
             "color": "#2a3f5f"
            },
            "error_y": {
             "color": "#2a3f5f"
            },
            "marker": {
             "line": {
              "color": "#E5ECF6",
              "width": 0.5
             },
             "pattern": {
              "fillmode": "overlay",
              "size": 10,
              "solidity": 0.2
             }
            },
            "type": "bar"
           }
          ],
          "barpolar": [
           {
            "marker": {
             "line": {
              "color": "#E5ECF6",
              "width": 0.5
             },
             "pattern": {
              "fillmode": "overlay",
              "size": 10,
              "solidity": 0.2
             }
            },
            "type": "barpolar"
           }
          ],
          "carpet": [
           {
            "aaxis": {
             "endlinecolor": "#2a3f5f",
             "gridcolor": "white",
             "linecolor": "white",
             "minorgridcolor": "white",
             "startlinecolor": "#2a3f5f"
            },
            "baxis": {
             "endlinecolor": "#2a3f5f",
             "gridcolor": "white",
             "linecolor": "white",
             "minorgridcolor": "white",
             "startlinecolor": "#2a3f5f"
            },
            "type": "carpet"
           }
          ],
          "choropleth": [
           {
            "colorbar": {
             "outlinewidth": 0,
             "ticks": ""
            },
            "type": "choropleth"
           }
          ],
          "contour": [
           {
            "colorbar": {
             "outlinewidth": 0,
             "ticks": ""
            },
            "colorscale": [
             [
              0,
              "#0d0887"
             ],
             [
              0.1111111111111111,
              "#46039f"
             ],
             [
              0.2222222222222222,
              "#7201a8"
             ],
             [
              0.3333333333333333,
              "#9c179e"
             ],
             [
              0.4444444444444444,
              "#bd3786"
             ],
             [
              0.5555555555555556,
              "#d8576b"
             ],
             [
              0.6666666666666666,
              "#ed7953"
             ],
             [
              0.7777777777777778,
              "#fb9f3a"
             ],
             [
              0.8888888888888888,
              "#fdca26"
             ],
             [
              1,
              "#f0f921"
             ]
            ],
            "type": "contour"
           }
          ],
          "contourcarpet": [
           {
            "colorbar": {
             "outlinewidth": 0,
             "ticks": ""
            },
            "type": "contourcarpet"
           }
          ],
          "heatmap": [
           {
            "colorbar": {
             "outlinewidth": 0,
             "ticks": ""
            },
            "colorscale": [
             [
              0,
              "#0d0887"
             ],
             [
              0.1111111111111111,
              "#46039f"
             ],
             [
              0.2222222222222222,
              "#7201a8"
             ],
             [
              0.3333333333333333,
              "#9c179e"
             ],
             [
              0.4444444444444444,
              "#bd3786"
             ],
             [
              0.5555555555555556,
              "#d8576b"
             ],
             [
              0.6666666666666666,
              "#ed7953"
             ],
             [
              0.7777777777777778,
              "#fb9f3a"
             ],
             [
              0.8888888888888888,
              "#fdca26"
             ],
             [
              1,
              "#f0f921"
             ]
            ],
            "type": "heatmap"
           }
          ],
          "heatmapgl": [
           {
            "colorbar": {
             "outlinewidth": 0,
             "ticks": ""
            },
            "colorscale": [
             [
              0,
              "#0d0887"
             ],
             [
              0.1111111111111111,
              "#46039f"
             ],
             [
              0.2222222222222222,
              "#7201a8"
             ],
             [
              0.3333333333333333,
              "#9c179e"
             ],
             [
              0.4444444444444444,
              "#bd3786"
             ],
             [
              0.5555555555555556,
              "#d8576b"
             ],
             [
              0.6666666666666666,
              "#ed7953"
             ],
             [
              0.7777777777777778,
              "#fb9f3a"
             ],
             [
              0.8888888888888888,
              "#fdca26"
             ],
             [
              1,
              "#f0f921"
             ]
            ],
            "type": "heatmapgl"
           }
          ],
          "histogram": [
           {
            "marker": {
             "pattern": {
              "fillmode": "overlay",
              "size": 10,
              "solidity": 0.2
             }
            },
            "type": "histogram"
           }
          ],
          "histogram2d": [
           {
            "colorbar": {
             "outlinewidth": 0,
             "ticks": ""
            },
            "colorscale": [
             [
              0,
              "#0d0887"
             ],
             [
              0.1111111111111111,
              "#46039f"
             ],
             [
              0.2222222222222222,
              "#7201a8"
             ],
             [
              0.3333333333333333,
              "#9c179e"
             ],
             [
              0.4444444444444444,
              "#bd3786"
             ],
             [
              0.5555555555555556,
              "#d8576b"
             ],
             [
              0.6666666666666666,
              "#ed7953"
             ],
             [
              0.7777777777777778,
              "#fb9f3a"
             ],
             [
              0.8888888888888888,
              "#fdca26"
             ],
             [
              1,
              "#f0f921"
             ]
            ],
            "type": "histogram2d"
           }
          ],
          "histogram2dcontour": [
           {
            "colorbar": {
             "outlinewidth": 0,
             "ticks": ""
            },
            "colorscale": [
             [
              0,
              "#0d0887"
             ],
             [
              0.1111111111111111,
              "#46039f"
             ],
             [
              0.2222222222222222,
              "#7201a8"
             ],
             [
              0.3333333333333333,
              "#9c179e"
             ],
             [
              0.4444444444444444,
              "#bd3786"
             ],
             [
              0.5555555555555556,
              "#d8576b"
             ],
             [
              0.6666666666666666,
              "#ed7953"
             ],
             [
              0.7777777777777778,
              "#fb9f3a"
             ],
             [
              0.8888888888888888,
              "#fdca26"
             ],
             [
              1,
              "#f0f921"
             ]
            ],
            "type": "histogram2dcontour"
           }
          ],
          "mesh3d": [
           {
            "colorbar": {
             "outlinewidth": 0,
             "ticks": ""
            },
            "type": "mesh3d"
           }
          ],
          "parcoords": [
           {
            "line": {
             "colorbar": {
              "outlinewidth": 0,
              "ticks": ""
             }
            },
            "type": "parcoords"
           }
          ],
          "pie": [
           {
            "automargin": true,
            "type": "pie"
           }
          ],
          "scatter": [
           {
            "fillpattern": {
             "fillmode": "overlay",
             "size": 10,
             "solidity": 0.2
            },
            "type": "scatter"
           }
          ],
          "scatter3d": [
           {
            "line": {
             "colorbar": {
              "outlinewidth": 0,
              "ticks": ""
             }
            },
            "marker": {
             "colorbar": {
              "outlinewidth": 0,
              "ticks": ""
             }
            },
            "type": "scatter3d"
           }
          ],
          "scattercarpet": [
           {
            "marker": {
             "colorbar": {
              "outlinewidth": 0,
              "ticks": ""
             }
            },
            "type": "scattercarpet"
           }
          ],
          "scattergeo": [
           {
            "marker": {
             "colorbar": {
              "outlinewidth": 0,
              "ticks": ""
             }
            },
            "type": "scattergeo"
           }
          ],
          "scattergl": [
           {
            "marker": {
             "colorbar": {
              "outlinewidth": 0,
              "ticks": ""
             }
            },
            "type": "scattergl"
           }
          ],
          "scattermapbox": [
           {
            "marker": {
             "colorbar": {
              "outlinewidth": 0,
              "ticks": ""
             }
            },
            "type": "scattermapbox"
           }
          ],
          "scatterpolar": [
           {
            "marker": {
             "colorbar": {
              "outlinewidth": 0,
              "ticks": ""
             }
            },
            "type": "scatterpolar"
           }
          ],
          "scatterpolargl": [
           {
            "marker": {
             "colorbar": {
              "outlinewidth": 0,
              "ticks": ""
             }
            },
            "type": "scatterpolargl"
           }
          ],
          "scatterternary": [
           {
            "marker": {
             "colorbar": {
              "outlinewidth": 0,
              "ticks": ""
             }
            },
            "type": "scatterternary"
           }
          ],
          "surface": [
           {
            "colorbar": {
             "outlinewidth": 0,
             "ticks": ""
            },
            "colorscale": [
             [
              0,
              "#0d0887"
             ],
             [
              0.1111111111111111,
              "#46039f"
             ],
             [
              0.2222222222222222,
              "#7201a8"
             ],
             [
              0.3333333333333333,
              "#9c179e"
             ],
             [
              0.4444444444444444,
              "#bd3786"
             ],
             [
              0.5555555555555556,
              "#d8576b"
             ],
             [
              0.6666666666666666,
              "#ed7953"
             ],
             [
              0.7777777777777778,
              "#fb9f3a"
             ],
             [
              0.8888888888888888,
              "#fdca26"
             ],
             [
              1,
              "#f0f921"
             ]
            ],
            "type": "surface"
           }
          ],
          "table": [
           {
            "cells": {
             "fill": {
              "color": "#EBF0F8"
             },
             "line": {
              "color": "white"
             }
            },
            "header": {
             "fill": {
              "color": "#C8D4E3"
             },
             "line": {
              "color": "white"
             }
            },
            "type": "table"
           }
          ]
         },
         "layout": {
          "annotationdefaults": {
           "arrowcolor": "#2a3f5f",
           "arrowhead": 0,
           "arrowwidth": 1
          },
          "autotypenumbers": "strict",
          "coloraxis": {
           "colorbar": {
            "outlinewidth": 0,
            "ticks": ""
           }
          },
          "colorscale": {
           "diverging": [
            [
             0,
             "#8e0152"
            ],
            [
             0.1,
             "#c51b7d"
            ],
            [
             0.2,
             "#de77ae"
            ],
            [
             0.3,
             "#f1b6da"
            ],
            [
             0.4,
             "#fde0ef"
            ],
            [
             0.5,
             "#f7f7f7"
            ],
            [
             0.6,
             "#e6f5d0"
            ],
            [
             0.7,
             "#b8e186"
            ],
            [
             0.8,
             "#7fbc41"
            ],
            [
             0.9,
             "#4d9221"
            ],
            [
             1,
             "#276419"
            ]
           ],
           "sequential": [
            [
             0,
             "#0d0887"
            ],
            [
             0.1111111111111111,
             "#46039f"
            ],
            [
             0.2222222222222222,
             "#7201a8"
            ],
            [
             0.3333333333333333,
             "#9c179e"
            ],
            [
             0.4444444444444444,
             "#bd3786"
            ],
            [
             0.5555555555555556,
             "#d8576b"
            ],
            [
             0.6666666666666666,
             "#ed7953"
            ],
            [
             0.7777777777777778,
             "#fb9f3a"
            ],
            [
             0.8888888888888888,
             "#fdca26"
            ],
            [
             1,
             "#f0f921"
            ]
           ],
           "sequentialminus": [
            [
             0,
             "#0d0887"
            ],
            [
             0.1111111111111111,
             "#46039f"
            ],
            [
             0.2222222222222222,
             "#7201a8"
            ],
            [
             0.3333333333333333,
             "#9c179e"
            ],
            [
             0.4444444444444444,
             "#bd3786"
            ],
            [
             0.5555555555555556,
             "#d8576b"
            ],
            [
             0.6666666666666666,
             "#ed7953"
            ],
            [
             0.7777777777777778,
             "#fb9f3a"
            ],
            [
             0.8888888888888888,
             "#fdca26"
            ],
            [
             1,
             "#f0f921"
            ]
           ]
          },
          "colorway": [
           "#636efa",
           "#EF553B",
           "#00cc96",
           "#ab63fa",
           "#FFA15A",
           "#19d3f3",
           "#FF6692",
           "#B6E880",
           "#FF97FF",
           "#FECB52"
          ],
          "font": {
           "color": "#2a3f5f"
          },
          "geo": {
           "bgcolor": "white",
           "lakecolor": "white",
           "landcolor": "#E5ECF6",
           "showlakes": true,
           "showland": true,
           "subunitcolor": "white"
          },
          "hoverlabel": {
           "align": "left"
          },
          "hovermode": "closest",
          "mapbox": {
           "style": "light"
          },
          "paper_bgcolor": "white",
          "plot_bgcolor": "#E5ECF6",
          "polar": {
           "angularaxis": {
            "gridcolor": "white",
            "linecolor": "white",
            "ticks": ""
           },
           "bgcolor": "#E5ECF6",
           "radialaxis": {
            "gridcolor": "white",
            "linecolor": "white",
            "ticks": ""
           }
          },
          "scene": {
           "xaxis": {
            "backgroundcolor": "#E5ECF6",
            "gridcolor": "white",
            "gridwidth": 2,
            "linecolor": "white",
            "showbackground": true,
            "ticks": "",
            "zerolinecolor": "white"
           },
           "yaxis": {
            "backgroundcolor": "#E5ECF6",
            "gridcolor": "white",
            "gridwidth": 2,
            "linecolor": "white",
            "showbackground": true,
            "ticks": "",
            "zerolinecolor": "white"
           },
           "zaxis": {
            "backgroundcolor": "#E5ECF6",
            "gridcolor": "white",
            "gridwidth": 2,
            "linecolor": "white",
            "showbackground": true,
            "ticks": "",
            "zerolinecolor": "white"
           }
          },
          "shapedefaults": {
           "line": {
            "color": "#2a3f5f"
           }
          },
          "ternary": {
           "aaxis": {
            "gridcolor": "white",
            "linecolor": "white",
            "ticks": ""
           },
           "baxis": {
            "gridcolor": "white",
            "linecolor": "white",
            "ticks": ""
           },
           "bgcolor": "#E5ECF6",
           "caxis": {
            "gridcolor": "white",
            "linecolor": "white",
            "ticks": ""
           }
          },
          "title": {
           "x": 0.05
          },
          "xaxis": {
           "automargin": true,
           "gridcolor": "white",
           "linecolor": "white",
           "ticks": "",
           "title": {
            "standoff": 15
           },
           "zerolinecolor": "white",
           "zerolinewidth": 2
          },
          "yaxis": {
           "automargin": true,
           "gridcolor": "white",
           "linecolor": "white",
           "ticks": "",
           "title": {
            "standoff": 15
           },
           "zerolinecolor": "white",
           "zerolinewidth": 2
          }
         }
        },
        "title": {
         "text": "Crop production per year in India (In tonnes)"
        },
        "xaxis": {
         "anchor": "y",
         "domain": [
          0,
          1
         ],
         "title": {
          "text": "Year"
         }
        },
        "yaxis": {
         "anchor": "x",
         "domain": [
          0,
          1
         ],
         "title": {
          "text": "Value"
         }
        }
       }
      }
     },
     "metadata": {},
     "output_type": "display_data"
    }
   ],
   "source": [
    "fig3.show()\n",
    "fig4.show()"
   ]
  },
  {
   "cell_type": "markdown",
   "metadata": {
    "papermill": {
     "duration": 0.03279,
     "end_time": "2021-03-01T15:25:31.270829",
     "exception": false,
     "start_time": "2021-03-01T15:25:31.238039",
     "status": "completed"
    },
    "tags": []
   },
   "source": [
    "We see that both of these graphs have a similar general trend. There is also a clear positive corelation between them. This relationship can be further explored by looking at population density. Or by comparing population with crop production in other countries.\n",
    "\n",
    "Note that this notebook just contains some basic data analysis/visualization and is just to provide a starting point for your exploration of the given data."
   ]
  },
  {
   "cell_type": "code",
   "execution_count": null,
   "metadata": {},
   "outputs": [],
   "source": []
  },
  {
   "cell_type": "code",
   "execution_count": null,
   "metadata": {},
   "outputs": [],
   "source": []
  },
  {
   "cell_type": "code",
   "execution_count": null,
   "metadata": {},
   "outputs": [],
   "source": []
  },
  {
   "cell_type": "code",
   "execution_count": null,
   "metadata": {},
   "outputs": [],
   "source": []
  },
  {
   "cell_type": "code",
   "execution_count": null,
   "metadata": {},
   "outputs": [],
   "source": []
  }
 ],
 "metadata": {
  "kernelspec": {
   "display_name": "Python 3.10.6 64-bit",
   "language": "python",
   "name": "python3"
  },
  "language_info": {
   "codemirror_mode": {
    "name": "ipython",
    "version": 3
   },
   "file_extension": ".py",
   "mimetype": "text/x-python",
   "name": "python",
   "nbconvert_exporter": "python",
   "pygments_lexer": "ipython3",
   "version": "3.10.6"
  },
  "papermill": {
   "default_parameters": {},
   "duration": 25.016074,
   "end_time": "2021-03-01T15:25:32.116924",
   "environment_variables": {},
   "exception": null,
   "input_path": "__notebook__.ipynb",
   "output_path": "__notebook__.ipynb",
   "parameters": {},
   "start_time": "2021-03-01T15:25:07.100850",
   "version": "2.2.2"
  },
  "vscode": {
   "interpreter": {
    "hash": "13a6f543be66fc4e932ec51f1b45766fcd8cce192ca92f558276551a7a759178"
   }
  }
 },
 "nbformat": 4,
 "nbformat_minor": 4
}
